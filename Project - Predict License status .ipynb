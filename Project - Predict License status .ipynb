{
 "cells": [
  {
   "cell_type": "code",
   "execution_count": 1,
   "id": "37ee7d34",
   "metadata": {},
   "outputs": [],
   "source": [
    "# Imporing pandas and numpy for Data wrangaling and numerical operations. \n",
    "import pandas as pd\n",
    "import numpy as np\n",
    "\n",
    "# Importing libraries for Data visualization\n",
    "import matplotlib.pyplot as plt\n",
    "import seaborn as sns\n",
    "\n",
    "# Imporing estimators such as decision tree, random forest and Gradient boosting classifier\n",
    "from sklearn.tree import DecisionTreeClassifier\n",
    "from sklearn.ensemble import RandomForestClassifier\n",
    "from sklearn.ensemble import GradientBoostingClassifier\n",
    "\n",
    "# Importing Smote to sinthatically increase minority data classes.\n",
    "from imblearn.over_sampling import SMOTE\n",
    "\n",
    "# Importing perforamce validation metrics for various models that we are going to use.\n",
    "from sklearn.metrics import confusion_matrix, accuracy_score,precision_score,recall_score, f1_score\n",
    "from sklearn.metrics import classification_report"
   ]
  },
  {
   "cell_type": "code",
   "execution_count": 2,
   "id": "5e061c93",
   "metadata": {},
   "outputs": [
    {
     "name": "stderr",
     "output_type": "stream",
     "text": [
      "C:\\Users\\lenovo\\.conda\\anaconda\\lib\\site-packages\\IPython\\core\\interactiveshell.py:3444: DtypeWarning: Columns (1,2,3,9,10,11,13,14,16,27,28,29,31) have mixed types.Specify dtype option on import or set low_memory=False.\n",
      "  exec(code_obj, self.user_global_ns, self.user_ns)\n"
     ]
    },
    {
     "data": {
      "text/html": [
       "<div>\n",
       "<style scoped>\n",
       "    .dataframe tbody tr th:only-of-type {\n",
       "        vertical-align: middle;\n",
       "    }\n",
       "\n",
       "    .dataframe tbody tr th {\n",
       "        vertical-align: top;\n",
       "    }\n",
       "\n",
       "    .dataframe thead th {\n",
       "        text-align: right;\n",
       "    }\n",
       "</style>\n",
       "<table border=\"1\" class=\"dataframe\">\n",
       "  <thead>\n",
       "    <tr style=\"text-align: right;\">\n",
       "      <th></th>\n",
       "      <th>train_file.csv</th>\n",
       "      <th>LICENSE ID</th>\n",
       "      <th>ACCOUNT NUMBER</th>\n",
       "      <th>SITE NUMBER</th>\n",
       "      <th>LEGAL NAME</th>\n",
       "      <th>DOING BUSINESS AS NAME</th>\n",
       "      <th>ADDRESS</th>\n",
       "      <th>CITY</th>\n",
       "      <th>STATE</th>\n",
       "      <th>ZIP CODE</th>\n",
       "      <th>...</th>\n",
       "      <th>LICENSE TERM START DATE</th>\n",
       "      <th>LICENSE TERM EXPIRATION DATE</th>\n",
       "      <th>LICENSE APPROVED FOR ISSUANCE</th>\n",
       "      <th>DATE ISSUED</th>\n",
       "      <th>LICENSE STATUS CHANGE DATE</th>\n",
       "      <th>SSA</th>\n",
       "      <th>LATITUDE</th>\n",
       "      <th>LONGITUDE</th>\n",
       "      <th>LOCATION</th>\n",
       "      <th>LICENSE STATUS</th>\n",
       "    </tr>\n",
       "  </thead>\n",
       "  <tbody>\n",
       "    <tr>\n",
       "      <th>0</th>\n",
       "      <td>35342-20020816</td>\n",
       "      <td>1256593</td>\n",
       "      <td>32811</td>\n",
       "      <td>1</td>\n",
       "      <td>CARMEN CAHUE</td>\n",
       "      <td>CLAUDIA'S BRIDAL SHOP</td>\n",
       "      <td>2625 S CENTRAL PARK AVE  1</td>\n",
       "      <td>CHICAGO</td>\n",
       "      <td>IL</td>\n",
       "      <td>60623.0</td>\n",
       "      <td>...</td>\n",
       "      <td>2002-08-16T00:00:00</td>\n",
       "      <td>2003-08-15T00:00:00</td>\n",
       "      <td>2002-08-21T00:00:00</td>\n",
       "      <td>2006-04-11T00:00:00</td>\n",
       "      <td>NaN</td>\n",
       "      <td>25.0</td>\n",
       "      <td>41.843613</td>\n",
       "      <td>-87.714618</td>\n",
       "      <td>{'latitude': '41.843612879431845', 'longitude'...</td>\n",
       "      <td>AAI</td>\n",
       "    </tr>\n",
       "    <tr>\n",
       "      <th>1</th>\n",
       "      <td>1358463-20051116</td>\n",
       "      <td>1639294</td>\n",
       "      <td>262311</td>\n",
       "      <td>29</td>\n",
       "      <td>ISLA TROPICAL, INC.</td>\n",
       "      <td>ISLA TROPICAL</td>\n",
       "      <td>2825 W MONTROSE AVE</td>\n",
       "      <td>CHICAGO</td>\n",
       "      <td>IL</td>\n",
       "      <td>60618</td>\n",
       "      <td>...</td>\n",
       "      <td>2005-11-16T00:00:00</td>\n",
       "      <td>2006-11-15T00:00:00</td>\n",
       "      <td>2006-04-05T00:00:00</td>\n",
       "      <td>2006-06-12T00:00:00</td>\n",
       "      <td>2006-06-15T00:00:00</td>\n",
       "      <td>60.0</td>\n",
       "      <td>41.961132</td>\n",
       "      <td>-87.699626</td>\n",
       "      <td>{'latitude': '41.96113244107215', 'longitude':...</td>\n",
       "      <td>AAC</td>\n",
       "    </tr>\n",
       "    <tr>\n",
       "      <th>2</th>\n",
       "      <td>1980233-20090722</td>\n",
       "      <td>1980233</td>\n",
       "      <td>345008</td>\n",
       "      <td>1</td>\n",
       "      <td>DJS REMODELING</td>\n",
       "      <td>DJS REMODELING, INC.</td>\n",
       "      <td>1605  CLAVEY RD 1</td>\n",
       "      <td>HIGHLAND</td>\n",
       "      <td>IL</td>\n",
       "      <td>60035</td>\n",
       "      <td>...</td>\n",
       "      <td>2009-07-22T00:00:00</td>\n",
       "      <td>2011-07-15T00:00:00</td>\n",
       "      <td>2009-07-22T00:00:00</td>\n",
       "      <td>2009-07-22T00:00:00</td>\n",
       "      <td>NaN</td>\n",
       "      <td>NaN</td>\n",
       "      <td>NaN</td>\n",
       "      <td>NaN</td>\n",
       "      <td>NaN</td>\n",
       "      <td>AAI</td>\n",
       "    </tr>\n",
       "    <tr>\n",
       "      <th>3</th>\n",
       "      <td>1476582-20040211</td>\n",
       "      <td>1476582</td>\n",
       "      <td>273121</td>\n",
       "      <td>1</td>\n",
       "      <td>ALL-BRY CONSTRUCTION CO.</td>\n",
       "      <td>ALL-BRY CONSTRUCTION CO.</td>\n",
       "      <td>8  NORTH TRAIL</td>\n",
       "      <td>LEMONT</td>\n",
       "      <td>IL</td>\n",
       "      <td>60439</td>\n",
       "      <td>...</td>\n",
       "      <td>2004-02-11T00:00:00</td>\n",
       "      <td>2005-02-15T00:00:00</td>\n",
       "      <td>2004-02-10T00:00:00</td>\n",
       "      <td>2004-02-11T00:00:00</td>\n",
       "      <td>NaN</td>\n",
       "      <td>NaN</td>\n",
       "      <td>NaN</td>\n",
       "      <td>NaN</td>\n",
       "      <td>NaN</td>\n",
       "      <td>AAI</td>\n",
       "    </tr>\n",
       "    <tr>\n",
       "      <th>4</th>\n",
       "      <td>1141408-20080516</td>\n",
       "      <td>1896750</td>\n",
       "      <td>213785</td>\n",
       "      <td>1</td>\n",
       "      <td>MCDONOUGH MECHANICAL SERVICE</td>\n",
       "      <td>MCDONOUGH MECHANICAL SERVICE</td>\n",
       "      <td>4081  JOSEPH DR</td>\n",
       "      <td>WAUKEGAN</td>\n",
       "      <td>IL</td>\n",
       "      <td>60087</td>\n",
       "      <td>...</td>\n",
       "      <td>2008-05-16T00:00:00</td>\n",
       "      <td>2010-05-15T00:00:00</td>\n",
       "      <td>2008-06-04T00:00:00</td>\n",
       "      <td>2008-06-05T00:00:00</td>\n",
       "      <td>NaN</td>\n",
       "      <td>NaN</td>\n",
       "      <td>NaN</td>\n",
       "      <td>NaN</td>\n",
       "      <td>NaN</td>\n",
       "      <td>AAI</td>\n",
       "    </tr>\n",
       "    <tr>\n",
       "      <th>...</th>\n",
       "      <td>...</td>\n",
       "      <td>...</td>\n",
       "      <td>...</td>\n",
       "      <td>...</td>\n",
       "      <td>...</td>\n",
       "      <td>...</td>\n",
       "      <td>...</td>\n",
       "      <td>...</td>\n",
       "      <td>...</td>\n",
       "      <td>...</td>\n",
       "      <td>...</td>\n",
       "      <td>...</td>\n",
       "      <td>...</td>\n",
       "      <td>...</td>\n",
       "      <td>...</td>\n",
       "      <td>...</td>\n",
       "      <td>...</td>\n",
       "      <td>...</td>\n",
       "      <td>...</td>\n",
       "      <td>...</td>\n",
       "      <td>...</td>\n",
       "    </tr>\n",
       "    <tr>\n",
       "      <th>143137</th>\n",
       "      <td>2032383-20160716</td>\n",
       "      <td>2465962.0</td>\n",
       "      <td>63376.0</td>\n",
       "      <td>180.0</td>\n",
       "      <td>INTERPARK LLC</td>\n",
       "      <td>INTERPARK</td>\n",
       "      <td>505 N STATE ST 2-4</td>\n",
       "      <td>CHICAGO</td>\n",
       "      <td>IL</td>\n",
       "      <td>60654.0</td>\n",
       "      <td>...</td>\n",
       "      <td>2016-07-16T00:00:00</td>\n",
       "      <td>2018-07-15T00:00:00</td>\n",
       "      <td>2016-06-23T00:00:00</td>\n",
       "      <td>2016-08-11T00:00:00</td>\n",
       "      <td>2018-01-09T00:00:00</td>\n",
       "      <td>NaN</td>\n",
       "      <td>41.891055</td>\n",
       "      <td>-87.627898</td>\n",
       "      <td>{'latitude': '41.89105524147196', 'longitude':...</td>\n",
       "      <td>NaN</td>\n",
       "    </tr>\n",
       "    <tr>\n",
       "      <th>143138</th>\n",
       "      <td>40376-20020216</td>\n",
       "      <td>1211199.0</td>\n",
       "      <td>55051.0</td>\n",
       "      <td>1.0</td>\n",
       "      <td>YUN HEE HWANG</td>\n",
       "      <td>TOP CLEANERS</td>\n",
       "      <td>1201 W ROSCOE ST 1ST</td>\n",
       "      <td>CHICAGO</td>\n",
       "      <td>IL</td>\n",
       "      <td>60657.0</td>\n",
       "      <td>...</td>\n",
       "      <td>2002-02-16T00:00:00</td>\n",
       "      <td>2003-02-15T00:00:00</td>\n",
       "      <td>2002-01-18T00:00:00</td>\n",
       "      <td>2002-01-22T00:00:00</td>\n",
       "      <td>NaN</td>\n",
       "      <td>NaN</td>\n",
       "      <td>41.943382</td>\n",
       "      <td>-87.659191</td>\n",
       "      <td>{'latitude': '41.94338183750669', 'longitude':...</td>\n",
       "      <td>NaN</td>\n",
       "    </tr>\n",
       "    <tr>\n",
       "      <th>143139</th>\n",
       "      <td>2064176-20121116</td>\n",
       "      <td>2188497.0</td>\n",
       "      <td>357381.0</td>\n",
       "      <td>1.0</td>\n",
       "      <td>D. C. A. TOWING INCORPORATED</td>\n",
       "      <td>D. C. A. TOWING INCORPORATED</td>\n",
       "      <td>7052 W 64TH ST 1ST</td>\n",
       "      <td>CHICAGO</td>\n",
       "      <td>IL</td>\n",
       "      <td>60638.0</td>\n",
       "      <td>...</td>\n",
       "      <td>2012-11-16T00:00:00</td>\n",
       "      <td>2014-11-15T00:00:00</td>\n",
       "      <td>2012-12-25T00:00:00</td>\n",
       "      <td>2012-12-26T00:00:00</td>\n",
       "      <td>2012-12-29T00:00:00</td>\n",
       "      <td>NaN</td>\n",
       "      <td>41.77571</td>\n",
       "      <td>-87.798009</td>\n",
       "      <td>{'latitude': '41.775709631013335', 'longitude'...</td>\n",
       "      <td>NaN</td>\n",
       "    </tr>\n",
       "    <tr>\n",
       "      <th>143140</th>\n",
       "      <td>1954052-20090202</td>\n",
       "      <td>1954052.0</td>\n",
       "      <td>340610.0</td>\n",
       "      <td>1.0</td>\n",
       "      <td>maria t bedoy</td>\n",
       "      <td>mari's cleaning services</td>\n",
       "      <td>4544 S CHRISTIANA AVE 1</td>\n",
       "      <td>CHICAGO</td>\n",
       "      <td>IL</td>\n",
       "      <td>60632.0</td>\n",
       "      <td>...</td>\n",
       "      <td>2009-02-02T00:00:00</td>\n",
       "      <td>2009-06-15T00:00:00</td>\n",
       "      <td>2009-01-31T00:00:00</td>\n",
       "      <td>2009-02-02T00:00:00</td>\n",
       "      <td>NaN</td>\n",
       "      <td>39.0</td>\n",
       "      <td>41.810523</td>\n",
       "      <td>-87.707872</td>\n",
       "      <td>{'latitude': '41.81052250782054', 'longitude':...</td>\n",
       "      <td>NaN</td>\n",
       "    </tr>\n",
       "    <tr>\n",
       "      <th>143141</th>\n",
       "      <td>NaN</td>\n",
       "      <td>NaN</td>\n",
       "      <td>NaN</td>\n",
       "      <td>NaN</td>\n",
       "      <td>NaN</td>\n",
       "      <td>NaN</td>\n",
       "      <td>NaN</td>\n",
       "      <td>NaN</td>\n",
       "      <td>NaN</td>\n",
       "      <td>NaN</td>\n",
       "      <td>...</td>\n",
       "      <td>NaN</td>\n",
       "      <td>NaN</td>\n",
       "      <td>NaN</td>\n",
       "      <td>NaN</td>\n",
       "      <td>NaN</td>\n",
       "      <td>NaN</td>\n",
       "      <td>NaN</td>\n",
       "      <td>NaN</td>\n",
       "      <td>NaN</td>\n",
       "      <td>NaN</td>\n",
       "    </tr>\n",
       "  </tbody>\n",
       "</table>\n",
       "<p>143142 rows × 32 columns</p>\n",
       "</div>"
      ],
      "text/plain": [
       "          train_file.csv LICENSE ID ACCOUNT NUMBER SITE NUMBER  \\\n",
       "0         35342-20020816    1256593          32811           1   \n",
       "1       1358463-20051116    1639294         262311          29   \n",
       "2       1980233-20090722    1980233         345008           1   \n",
       "3       1476582-20040211    1476582         273121           1   \n",
       "4       1141408-20080516    1896750         213785           1   \n",
       "...                  ...        ...            ...         ...   \n",
       "143137  2032383-20160716  2465962.0        63376.0       180.0   \n",
       "143138    40376-20020216  1211199.0        55051.0         1.0   \n",
       "143139  2064176-20121116  2188497.0       357381.0         1.0   \n",
       "143140  1954052-20090202  1954052.0       340610.0         1.0   \n",
       "143141               NaN        NaN            NaN         NaN   \n",
       "\n",
       "                          LEGAL NAME        DOING BUSINESS AS NAME  \\\n",
       "0                       CARMEN CAHUE         CLAUDIA'S BRIDAL SHOP   \n",
       "1                ISLA TROPICAL, INC.                 ISLA TROPICAL   \n",
       "2                     DJS REMODELING          DJS REMODELING, INC.   \n",
       "3           ALL-BRY CONSTRUCTION CO.      ALL-BRY CONSTRUCTION CO.   \n",
       "4       MCDONOUGH MECHANICAL SERVICE  MCDONOUGH MECHANICAL SERVICE   \n",
       "...                              ...                           ...   \n",
       "143137                 INTERPARK LLC                     INTERPARK   \n",
       "143138                 YUN HEE HWANG                  TOP CLEANERS   \n",
       "143139  D. C. A. TOWING INCORPORATED  D. C. A. TOWING INCORPORATED   \n",
       "143140                 maria t bedoy      mari's cleaning services   \n",
       "143141                           NaN                           NaN   \n",
       "\n",
       "                           ADDRESS      CITY STATE ZIP CODE  ...  \\\n",
       "0       2625 S CENTRAL PARK AVE  1   CHICAGO    IL  60623.0  ...   \n",
       "1              2825 W MONTROSE AVE   CHICAGO    IL    60618  ...   \n",
       "2                1605  CLAVEY RD 1  HIGHLAND    IL    60035  ...   \n",
       "3                   8  NORTH TRAIL    LEMONT    IL    60439  ...   \n",
       "4                  4081  JOSEPH DR  WAUKEGAN    IL    60087  ...   \n",
       "...                            ...       ...   ...      ...  ...   \n",
       "143137          505 N STATE ST 2-4   CHICAGO    IL  60654.0  ...   \n",
       "143138        1201 W ROSCOE ST 1ST   CHICAGO    IL  60657.0  ...   \n",
       "143139          7052 W 64TH ST 1ST   CHICAGO    IL  60638.0  ...   \n",
       "143140     4544 S CHRISTIANA AVE 1   CHICAGO    IL  60632.0  ...   \n",
       "143141                         NaN       NaN   NaN      NaN  ...   \n",
       "\n",
       "       LICENSE TERM START DATE LICENSE TERM EXPIRATION DATE  \\\n",
       "0          2002-08-16T00:00:00          2003-08-15T00:00:00   \n",
       "1          2005-11-16T00:00:00          2006-11-15T00:00:00   \n",
       "2          2009-07-22T00:00:00          2011-07-15T00:00:00   \n",
       "3          2004-02-11T00:00:00          2005-02-15T00:00:00   \n",
       "4          2008-05-16T00:00:00          2010-05-15T00:00:00   \n",
       "...                        ...                          ...   \n",
       "143137     2016-07-16T00:00:00          2018-07-15T00:00:00   \n",
       "143138     2002-02-16T00:00:00          2003-02-15T00:00:00   \n",
       "143139     2012-11-16T00:00:00          2014-11-15T00:00:00   \n",
       "143140     2009-02-02T00:00:00          2009-06-15T00:00:00   \n",
       "143141                     NaN                          NaN   \n",
       "\n",
       "       LICENSE APPROVED FOR ISSUANCE          DATE ISSUED  \\\n",
       "0                2002-08-21T00:00:00  2006-04-11T00:00:00   \n",
       "1                2006-04-05T00:00:00  2006-06-12T00:00:00   \n",
       "2                2009-07-22T00:00:00  2009-07-22T00:00:00   \n",
       "3                2004-02-10T00:00:00  2004-02-11T00:00:00   \n",
       "4                2008-06-04T00:00:00  2008-06-05T00:00:00   \n",
       "...                              ...                  ...   \n",
       "143137           2016-06-23T00:00:00  2016-08-11T00:00:00   \n",
       "143138           2002-01-18T00:00:00  2002-01-22T00:00:00   \n",
       "143139           2012-12-25T00:00:00  2012-12-26T00:00:00   \n",
       "143140           2009-01-31T00:00:00  2009-02-02T00:00:00   \n",
       "143141                           NaN                  NaN   \n",
       "\n",
       "       LICENSE STATUS CHANGE DATE   SSA   LATITUDE  LONGITUDE  \\\n",
       "0                             NaN  25.0  41.843613 -87.714618   \n",
       "1             2006-06-15T00:00:00  60.0  41.961132 -87.699626   \n",
       "2                             NaN   NaN        NaN        NaN   \n",
       "3                             NaN   NaN        NaN        NaN   \n",
       "4                             NaN   NaN        NaN        NaN   \n",
       "...                           ...   ...        ...        ...   \n",
       "143137        2018-01-09T00:00:00   NaN  41.891055 -87.627898   \n",
       "143138                        NaN   NaN  41.943382 -87.659191   \n",
       "143139        2012-12-29T00:00:00   NaN   41.77571 -87.798009   \n",
       "143140                        NaN  39.0  41.810523 -87.707872   \n",
       "143141                        NaN   NaN        NaN        NaN   \n",
       "\n",
       "                                                 LOCATION LICENSE STATUS  \n",
       "0       {'latitude': '41.843612879431845', 'longitude'...            AAI  \n",
       "1       {'latitude': '41.96113244107215', 'longitude':...            AAC  \n",
       "2                                                     NaN            AAI  \n",
       "3                                                     NaN            AAI  \n",
       "4                                                     NaN            AAI  \n",
       "...                                                   ...            ...  \n",
       "143137  {'latitude': '41.89105524147196', 'longitude':...            NaN  \n",
       "143138  {'latitude': '41.94338183750669', 'longitude':...            NaN  \n",
       "143139  {'latitude': '41.775709631013335', 'longitude'...            NaN  \n",
       "143140  {'latitude': '41.81052250782054', 'longitude':...            NaN  \n",
       "143141                                                NaN            NaN  \n",
       "\n",
       "[143142 rows x 32 columns]"
      ]
     },
     "execution_count": 2,
     "metadata": {},
     "output_type": "execute_result"
    }
   ],
   "source": [
    "df  = pd.read_csv('ZS.csv')\n",
    "origional_df = df\n",
    "df"
   ]
  },
  {
   "cell_type": "code",
   "execution_count": 3,
   "id": "788b1e01",
   "metadata": {},
   "outputs": [
    {
     "data": {
      "text/plain": [
       "(143142, 32)"
      ]
     },
     "execution_count": 3,
     "metadata": {},
     "output_type": "execute_result"
    }
   ],
   "source": [
    "df.shape"
   ]
  },
  {
   "cell_type": "code",
   "execution_count": 4,
   "id": "a6a16f9a",
   "metadata": {},
   "outputs": [
    {
     "data": {
      "text/plain": [
       "['train_file.csv',\n",
       " 'LICENSE ID',\n",
       " 'ACCOUNT NUMBER',\n",
       " 'SITE NUMBER',\n",
       " 'LEGAL NAME',\n",
       " 'DOING BUSINESS AS NAME',\n",
       " 'ADDRESS',\n",
       " 'CITY',\n",
       " 'STATE',\n",
       " 'ZIP CODE',\n",
       " 'WARD',\n",
       " 'PRECINCT',\n",
       " 'WARD PRECINCT',\n",
       " 'POLICE DISTRICT',\n",
       " 'LICENSE CODE',\n",
       " 'LICENSE DESCRIPTION',\n",
       " 'LICENSE NUMBER',\n",
       " 'APPLICATION TYPE',\n",
       " 'APPLICATION CREATED DATE',\n",
       " 'APPLICATION REQUIREMENTS COMPLETE',\n",
       " 'PAYMENT DATE',\n",
       " 'CONDITIONAL APPROVAL',\n",
       " 'LICENSE TERM START DATE',\n",
       " 'LICENSE TERM EXPIRATION DATE',\n",
       " 'LICENSE APPROVED FOR ISSUANCE',\n",
       " 'DATE ISSUED',\n",
       " 'LICENSE STATUS CHANGE DATE',\n",
       " 'SSA',\n",
       " 'LATITUDE',\n",
       " 'LONGITUDE',\n",
       " 'LOCATION',\n",
       " 'LICENSE STATUS']"
      ]
     },
     "execution_count": 4,
     "metadata": {},
     "output_type": "execute_result"
    }
   ],
   "source": [
    "list(df.columns)"
   ]
  },
  {
   "cell_type": "code",
   "execution_count": 5,
   "id": "947a04d5",
   "metadata": {},
   "outputs": [
    {
     "name": "stdout",
     "output_type": "stream",
     "text": [
      "<class 'pandas.core.frame.DataFrame'>\n",
      "RangeIndex: 143142 entries, 0 to 143141\n",
      "Data columns (total 32 columns):\n",
      " #   Column                             Non-Null Count   Dtype \n",
      "---  ------                             --------------   ----- \n",
      " 0   train_file.csv                     143139 non-null  object\n",
      " 1   LICENSE ID                         143141 non-null  object\n",
      " 2   ACCOUNT NUMBER                     143135 non-null  object\n",
      " 3   SITE NUMBER                        143135 non-null  object\n",
      " 4   LEGAL NAME                         143135 non-null  object\n",
      " 5   DOING BUSINESS AS NAME             143132 non-null  object\n",
      " 6   ADDRESS                            143135 non-null  object\n",
      " 7   CITY                               143135 non-null  object\n",
      " 8   STATE                              143135 non-null  object\n",
      " 9   ZIP CODE                           143092 non-null  object\n",
      " 10  WARD                               92808 non-null   object\n",
      " 11  PRECINCT                           84856 non-null   object\n",
      " 12  WARD PRECINCT                      92819 non-null   object\n",
      " 13  POLICE DISTRICT                    87648 non-null   object\n",
      " 14  LICENSE CODE                       143135 non-null  object\n",
      " 15  LICENSE DESCRIPTION                143135 non-null  object\n",
      " 16  LICENSE NUMBER                     143134 non-null  object\n",
      " 17  APPLICATION TYPE                   143135 non-null  object\n",
      " 18  APPLICATION CREATED DATE           33888 non-null   object\n",
      " 19  APPLICATION REQUIREMENTS COMPLETE  142493 non-null  object\n",
      " 20  PAYMENT DATE                       140795 non-null  object\n",
      " 21  CONDITIONAL APPROVAL               143135 non-null  object\n",
      " 22  LICENSE TERM START DATE            142789 non-null  object\n",
      " 23  LICENSE TERM EXPIRATION DATE       143111 non-null  object\n",
      " 24  LICENSE APPROVED FOR ISSUANCE      133967 non-null  object\n",
      " 25  DATE ISSUED                        143135 non-null  object\n",
      " 26  LICENSE STATUS CHANGE DATE         64489 non-null   object\n",
      " 27  SSA                                25358 non-null   object\n",
      " 28  LATITUDE                           94979 non-null   object\n",
      " 29  LONGITUDE                          94979 non-null   object\n",
      " 30  LOCATION                           94979 non-null   object\n",
      " 31  LICENSE STATUS                     85895 non-null   object\n",
      "dtypes: object(32)\n",
      "memory usage: 34.9+ MB\n"
     ]
    }
   ],
   "source": [
    "df.info()"
   ]
  },
  {
   "cell_type": "code",
   "execution_count": null,
   "id": "0d1c3361",
   "metadata": {},
   "outputs": [],
   "source": []
  },
  {
   "cell_type": "code",
   "execution_count": null,
   "id": "7ebd62e7",
   "metadata": {},
   "outputs": [],
   "source": []
  },
  {
   "cell_type": "code",
   "execution_count": 6,
   "id": "8e494fbc",
   "metadata": {},
   "outputs": [
    {
     "data": {
      "text/plain": [
       "train_file.csv                        0.002096\n",
       "LICENSE ID                            0.000699\n",
       "ACCOUNT NUMBER                        0.004890\n",
       "SITE NUMBER                           0.004890\n",
       "LEGAL NAME                            0.004890\n",
       "DOING BUSINESS AS NAME                0.006986\n",
       "ADDRESS                               0.004890\n",
       "CITY                                  0.004890\n",
       "STATE                                 0.004890\n",
       "ZIP CODE                              0.034930\n",
       "WARD                                 35.163684\n",
       "PRECINCT                             40.719006\n",
       "WARD PRECINCT                        35.155999\n",
       "POLICE DISTRICT                      38.768496\n",
       "LICENSE CODE                          0.004890\n",
       "LICENSE DESCRIPTION                   0.004890\n",
       "LICENSE NUMBER                        0.005589\n",
       "APPLICATION TYPE                      0.004890\n",
       "APPLICATION CREATED DATE             76.325607\n",
       "APPLICATION REQUIREMENTS COMPLETE     0.453396\n",
       "PAYMENT DATE                          1.639631\n",
       "CONDITIONAL APPROVAL                  0.004890\n",
       "LICENSE TERM START DATE               0.246608\n",
       "LICENSE TERM EXPIRATION DATE          0.021657\n",
       "LICENSE APPROVED FOR ISSUANCE         6.409719\n",
       "DATE ISSUED                           0.004890\n",
       "LICENSE STATUS CHANGE DATE           54.947535\n",
       "SSA                                  82.284724\n",
       "LATITUDE                             33.647008\n",
       "LONGITUDE                            33.647008\n",
       "LOCATION                             33.647008\n",
       "LICENSE STATUS                       39.993154\n",
       "dtype: float64"
      ]
     },
     "execution_count": 6,
     "metadata": {},
     "output_type": "execute_result"
    }
   ],
   "source": [
    "# calculating Percent null values in each feature.\n",
    "\n",
    "df.isna().mean()*100"
   ]
  },
  {
   "cell_type": "code",
   "execution_count": 7,
   "id": "bfaacdfd",
   "metadata": {},
   "outputs": [
    {
     "data": {
      "text/html": [
       "<div>\n",
       "<style scoped>\n",
       "    .dataframe tbody tr th:only-of-type {\n",
       "        vertical-align: middle;\n",
       "    }\n",
       "\n",
       "    .dataframe tbody tr th {\n",
       "        vertical-align: top;\n",
       "    }\n",
       "\n",
       "    .dataframe thead th {\n",
       "        text-align: right;\n",
       "    }\n",
       "</style>\n",
       "<table border=\"1\" class=\"dataframe\">\n",
       "  <thead>\n",
       "    <tr style=\"text-align: right;\">\n",
       "      <th></th>\n",
       "      <th>LICENSE ID</th>\n",
       "      <th>ACCOUNT NUMBER</th>\n",
       "      <th>SITE NUMBER</th>\n",
       "      <th>CITY</th>\n",
       "      <th>STATE</th>\n",
       "      <th>ZIP CODE</th>\n",
       "      <th>PRECINCT</th>\n",
       "      <th>POLICE DISTRICT</th>\n",
       "      <th>LICENSE CODE</th>\n",
       "      <th>LICENSE NUMBER</th>\n",
       "      <th>APPLICATION TYPE</th>\n",
       "      <th>LATITUDE</th>\n",
       "      <th>LONGITUDE</th>\n",
       "      <th>LICENSE STATUS</th>\n",
       "    </tr>\n",
       "  </thead>\n",
       "  <tbody>\n",
       "    <tr>\n",
       "      <th>0</th>\n",
       "      <td>1256593</td>\n",
       "      <td>32811</td>\n",
       "      <td>1</td>\n",
       "      <td>CHICAGO</td>\n",
       "      <td>IL</td>\n",
       "      <td>60623.0</td>\n",
       "      <td>28.0</td>\n",
       "      <td>10.0</td>\n",
       "      <td>1010</td>\n",
       "      <td>35342.0</td>\n",
       "      <td>RENEW</td>\n",
       "      <td>41.843613</td>\n",
       "      <td>-87.714618</td>\n",
       "      <td>AAI</td>\n",
       "    </tr>\n",
       "    <tr>\n",
       "      <th>1</th>\n",
       "      <td>1639294</td>\n",
       "      <td>262311</td>\n",
       "      <td>29</td>\n",
       "      <td>CHICAGO</td>\n",
       "      <td>IL</td>\n",
       "      <td>60618</td>\n",
       "      <td>23.0</td>\n",
       "      <td>17.0</td>\n",
       "      <td>1315</td>\n",
       "      <td>1358463.0</td>\n",
       "      <td>RENEW</td>\n",
       "      <td>41.961132</td>\n",
       "      <td>-87.699626</td>\n",
       "      <td>AAC</td>\n",
       "    </tr>\n",
       "    <tr>\n",
       "      <th>2</th>\n",
       "      <td>1980233</td>\n",
       "      <td>345008</td>\n",
       "      <td>1</td>\n",
       "      <td>HIGHLAND</td>\n",
       "      <td>IL</td>\n",
       "      <td>60035</td>\n",
       "      <td>NaN</td>\n",
       "      <td>NaN</td>\n",
       "      <td>1011</td>\n",
       "      <td>1980233.0</td>\n",
       "      <td>ISSUE</td>\n",
       "      <td>NaN</td>\n",
       "      <td>NaN</td>\n",
       "      <td>AAI</td>\n",
       "    </tr>\n",
       "    <tr>\n",
       "      <th>3</th>\n",
       "      <td>1476582</td>\n",
       "      <td>273121</td>\n",
       "      <td>1</td>\n",
       "      <td>LEMONT</td>\n",
       "      <td>IL</td>\n",
       "      <td>60439</td>\n",
       "      <td>NaN</td>\n",
       "      <td>NaN</td>\n",
       "      <td>1010</td>\n",
       "      <td>1476582.0</td>\n",
       "      <td>ISSUE</td>\n",
       "      <td>NaN</td>\n",
       "      <td>NaN</td>\n",
       "      <td>AAI</td>\n",
       "    </tr>\n",
       "    <tr>\n",
       "      <th>4</th>\n",
       "      <td>1896750</td>\n",
       "      <td>213785</td>\n",
       "      <td>1</td>\n",
       "      <td>WAUKEGAN</td>\n",
       "      <td>IL</td>\n",
       "      <td>60087</td>\n",
       "      <td>NaN</td>\n",
       "      <td>NaN</td>\n",
       "      <td>1010</td>\n",
       "      <td>1141408.0</td>\n",
       "      <td>RENEW</td>\n",
       "      <td>NaN</td>\n",
       "      <td>NaN</td>\n",
       "      <td>AAI</td>\n",
       "    </tr>\n",
       "    <tr>\n",
       "      <th>...</th>\n",
       "      <td>...</td>\n",
       "      <td>...</td>\n",
       "      <td>...</td>\n",
       "      <td>...</td>\n",
       "      <td>...</td>\n",
       "      <td>...</td>\n",
       "      <td>...</td>\n",
       "      <td>...</td>\n",
       "      <td>...</td>\n",
       "      <td>...</td>\n",
       "      <td>...</td>\n",
       "      <td>...</td>\n",
       "      <td>...</td>\n",
       "      <td>...</td>\n",
       "    </tr>\n",
       "    <tr>\n",
       "      <th>143137</th>\n",
       "      <td>2465962.0</td>\n",
       "      <td>63376.0</td>\n",
       "      <td>180.0</td>\n",
       "      <td>CHICAGO</td>\n",
       "      <td>IL</td>\n",
       "      <td>60654.0</td>\n",
       "      <td>22.0</td>\n",
       "      <td>18.0</td>\n",
       "      <td>1002.0</td>\n",
       "      <td>2032383.0</td>\n",
       "      <td>RENEW</td>\n",
       "      <td>41.891055</td>\n",
       "      <td>-87.627898</td>\n",
       "      <td>NaN</td>\n",
       "    </tr>\n",
       "    <tr>\n",
       "      <th>143138</th>\n",
       "      <td>1211199.0</td>\n",
       "      <td>55051.0</td>\n",
       "      <td>1.0</td>\n",
       "      <td>CHICAGO</td>\n",
       "      <td>IL</td>\n",
       "      <td>60657.0</td>\n",
       "      <td>9.0</td>\n",
       "      <td>19.0</td>\n",
       "      <td>1010.0</td>\n",
       "      <td>40376.0</td>\n",
       "      <td>RENEW</td>\n",
       "      <td>41.943382</td>\n",
       "      <td>-87.659191</td>\n",
       "      <td>NaN</td>\n",
       "    </tr>\n",
       "    <tr>\n",
       "      <th>143139</th>\n",
       "      <td>2188497.0</td>\n",
       "      <td>357381.0</td>\n",
       "      <td>1.0</td>\n",
       "      <td>CHICAGO</td>\n",
       "      <td>IL</td>\n",
       "      <td>60638.0</td>\n",
       "      <td>18.0</td>\n",
       "      <td>8.0</td>\n",
       "      <td>1012.0</td>\n",
       "      <td>2064176.0</td>\n",
       "      <td>RENEW</td>\n",
       "      <td>41.77571</td>\n",
       "      <td>-87.798009</td>\n",
       "      <td>NaN</td>\n",
       "    </tr>\n",
       "    <tr>\n",
       "      <th>143140</th>\n",
       "      <td>1954052.0</td>\n",
       "      <td>340610.0</td>\n",
       "      <td>1.0</td>\n",
       "      <td>CHICAGO</td>\n",
       "      <td>IL</td>\n",
       "      <td>60632.0</td>\n",
       "      <td>10.0</td>\n",
       "      <td>8.0</td>\n",
       "      <td>1012.0</td>\n",
       "      <td>1954052.0</td>\n",
       "      <td>ISSUE</td>\n",
       "      <td>41.810523</td>\n",
       "      <td>-87.707872</td>\n",
       "      <td>NaN</td>\n",
       "    </tr>\n",
       "    <tr>\n",
       "      <th>143141</th>\n",
       "      <td>NaN</td>\n",
       "      <td>NaN</td>\n",
       "      <td>NaN</td>\n",
       "      <td>NaN</td>\n",
       "      <td>NaN</td>\n",
       "      <td>NaN</td>\n",
       "      <td>NaN</td>\n",
       "      <td>NaN</td>\n",
       "      <td>NaN</td>\n",
       "      <td>NaN</td>\n",
       "      <td>NaN</td>\n",
       "      <td>NaN</td>\n",
       "      <td>NaN</td>\n",
       "      <td>NaN</td>\n",
       "    </tr>\n",
       "  </tbody>\n",
       "</table>\n",
       "<p>143142 rows × 14 columns</p>\n",
       "</div>"
      ],
      "text/plain": [
       "       LICENSE ID ACCOUNT NUMBER SITE NUMBER      CITY STATE ZIP CODE  \\\n",
       "0         1256593          32811           1   CHICAGO    IL  60623.0   \n",
       "1         1639294         262311          29   CHICAGO    IL    60618   \n",
       "2         1980233         345008           1  HIGHLAND    IL    60035   \n",
       "3         1476582         273121           1    LEMONT    IL    60439   \n",
       "4         1896750         213785           1  WAUKEGAN    IL    60087   \n",
       "...           ...            ...         ...       ...   ...      ...   \n",
       "143137  2465962.0        63376.0       180.0   CHICAGO    IL  60654.0   \n",
       "143138  1211199.0        55051.0         1.0   CHICAGO    IL  60657.0   \n",
       "143139  2188497.0       357381.0         1.0   CHICAGO    IL  60638.0   \n",
       "143140  1954052.0       340610.0         1.0   CHICAGO    IL  60632.0   \n",
       "143141        NaN            NaN         NaN       NaN   NaN      NaN   \n",
       "\n",
       "       PRECINCT POLICE DISTRICT LICENSE CODE LICENSE NUMBER APPLICATION TYPE  \\\n",
       "0          28.0            10.0         1010        35342.0            RENEW   \n",
       "1          23.0            17.0         1315      1358463.0            RENEW   \n",
       "2           NaN             NaN         1011      1980233.0            ISSUE   \n",
       "3           NaN             NaN         1010      1476582.0            ISSUE   \n",
       "4           NaN             NaN         1010      1141408.0            RENEW   \n",
       "...         ...             ...          ...            ...              ...   \n",
       "143137     22.0            18.0       1002.0      2032383.0            RENEW   \n",
       "143138      9.0            19.0       1010.0        40376.0            RENEW   \n",
       "143139     18.0             8.0       1012.0      2064176.0            RENEW   \n",
       "143140     10.0             8.0       1012.0      1954052.0            ISSUE   \n",
       "143141      NaN             NaN          NaN            NaN              NaN   \n",
       "\n",
       "         LATITUDE  LONGITUDE LICENSE STATUS  \n",
       "0       41.843613 -87.714618            AAI  \n",
       "1       41.961132 -87.699626            AAC  \n",
       "2             NaN        NaN            AAI  \n",
       "3             NaN        NaN            AAI  \n",
       "4             NaN        NaN            AAI  \n",
       "...           ...        ...            ...  \n",
       "143137  41.891055 -87.627898            NaN  \n",
       "143138  41.943382 -87.659191            NaN  \n",
       "143139   41.77571 -87.798009            NaN  \n",
       "143140  41.810523 -87.707872            NaN  \n",
       "143141        NaN        NaN            NaN  \n",
       "\n",
       "[143142 rows x 14 columns]"
      ]
     },
     "execution_count": 7,
     "metadata": {},
     "output_type": "execute_result"
    }
   ],
   "source": [
    "'''\n",
    "we are removing those feature variables which have null values more than 70% and those does not bing any value for \n",
    "final prediction.\n",
    "\n",
    "'''\n",
    "\n",
    "df.drop(columns = ['APPLICATION CREATED DATE','SSA','train_file.csv','LEGAL NAME','ADDRESS','WARD','WARD PRECINCT',\n",
    "                 'LICENSE DESCRIPTION','APPLICATION REQUIREMENTS COMPLETE','PAYMENT DATE','CONDITIONAL APPROVAL', 'LICENSE TERM START DATE',\n",
    "       'LICENSE TERM EXPIRATION DATE', 'LICENSE APPROVED FOR ISSUANCE','LICENSE STATUS CHANGE DATE','DOING BUSINESS AS NAME','DATE ISSUED','LOCATION'], inplace  = True)\n",
    "df"
   ]
  },
  {
   "cell_type": "code",
   "execution_count": 8,
   "id": "8e451d90",
   "metadata": {},
   "outputs": [
    {
     "data": {
      "text/plain": [
       "(143142, 14)"
      ]
     },
     "execution_count": 8,
     "metadata": {},
     "output_type": "execute_result"
    }
   ],
   "source": [
    "df.shape"
   ]
  },
  {
   "cell_type": "code",
   "execution_count": 9,
   "id": "08420931",
   "metadata": {},
   "outputs": [
    {
     "data": {
      "text/plain": [
       "1"
      ]
     },
     "execution_count": 9,
     "metadata": {},
     "output_type": "execute_result"
    }
   ],
   "source": [
    "df.duplicated().sum()"
   ]
  },
  {
   "cell_type": "markdown",
   "id": "56001ba5",
   "metadata": {},
   "source": [
    "We have only one duplicate value."
   ]
  },
  {
   "cell_type": "code",
   "execution_count": 10,
   "id": "eeddbd37",
   "metadata": {},
   "outputs": [
    {
     "data": {
      "text/html": [
       "<div>\n",
       "<style scoped>\n",
       "    .dataframe tbody tr th:only-of-type {\n",
       "        vertical-align: middle;\n",
       "    }\n",
       "\n",
       "    .dataframe tbody tr th {\n",
       "        vertical-align: top;\n",
       "    }\n",
       "\n",
       "    .dataframe thead th {\n",
       "        text-align: right;\n",
       "    }\n",
       "</style>\n",
       "<table border=\"1\" class=\"dataframe\">\n",
       "  <thead>\n",
       "    <tr style=\"text-align: right;\">\n",
       "      <th></th>\n",
       "      <th>LICENSE ID</th>\n",
       "      <th>ACCOUNT NUMBER</th>\n",
       "      <th>SITE NUMBER</th>\n",
       "      <th>CITY</th>\n",
       "      <th>STATE</th>\n",
       "      <th>ZIP CODE</th>\n",
       "      <th>PRECINCT</th>\n",
       "      <th>POLICE DISTRICT</th>\n",
       "      <th>LICENSE CODE</th>\n",
       "      <th>LICENSE NUMBER</th>\n",
       "      <th>APPLICATION TYPE</th>\n",
       "      <th>LATITUDE</th>\n",
       "      <th>LONGITUDE</th>\n",
       "      <th>LICENSE STATUS</th>\n",
       "    </tr>\n",
       "  </thead>\n",
       "  <tbody>\n",
       "    <tr>\n",
       "      <th>0</th>\n",
       "      <td>1256593</td>\n",
       "      <td>32811</td>\n",
       "      <td>1</td>\n",
       "      <td>CHICAGO</td>\n",
       "      <td>IL</td>\n",
       "      <td>60623.0</td>\n",
       "      <td>28.0</td>\n",
       "      <td>10.0</td>\n",
       "      <td>1010</td>\n",
       "      <td>35342.0</td>\n",
       "      <td>RENEW</td>\n",
       "      <td>41.843613</td>\n",
       "      <td>-87.714618</td>\n",
       "      <td>AAI</td>\n",
       "    </tr>\n",
       "    <tr>\n",
       "      <th>1</th>\n",
       "      <td>1639294</td>\n",
       "      <td>262311</td>\n",
       "      <td>29</td>\n",
       "      <td>CHICAGO</td>\n",
       "      <td>IL</td>\n",
       "      <td>60618</td>\n",
       "      <td>23.0</td>\n",
       "      <td>17.0</td>\n",
       "      <td>1315</td>\n",
       "      <td>1358463.0</td>\n",
       "      <td>RENEW</td>\n",
       "      <td>41.961132</td>\n",
       "      <td>-87.699626</td>\n",
       "      <td>AAC</td>\n",
       "    </tr>\n",
       "    <tr>\n",
       "      <th>2</th>\n",
       "      <td>1980233</td>\n",
       "      <td>345008</td>\n",
       "      <td>1</td>\n",
       "      <td>HIGHLAND</td>\n",
       "      <td>IL</td>\n",
       "      <td>60035</td>\n",
       "      <td>NaN</td>\n",
       "      <td>NaN</td>\n",
       "      <td>1011</td>\n",
       "      <td>1980233.0</td>\n",
       "      <td>ISSUE</td>\n",
       "      <td>NaN</td>\n",
       "      <td>NaN</td>\n",
       "      <td>AAI</td>\n",
       "    </tr>\n",
       "    <tr>\n",
       "      <th>3</th>\n",
       "      <td>1476582</td>\n",
       "      <td>273121</td>\n",
       "      <td>1</td>\n",
       "      <td>LEMONT</td>\n",
       "      <td>IL</td>\n",
       "      <td>60439</td>\n",
       "      <td>NaN</td>\n",
       "      <td>NaN</td>\n",
       "      <td>1010</td>\n",
       "      <td>1476582.0</td>\n",
       "      <td>ISSUE</td>\n",
       "      <td>NaN</td>\n",
       "      <td>NaN</td>\n",
       "      <td>AAI</td>\n",
       "    </tr>\n",
       "    <tr>\n",
       "      <th>4</th>\n",
       "      <td>1896750</td>\n",
       "      <td>213785</td>\n",
       "      <td>1</td>\n",
       "      <td>WAUKEGAN</td>\n",
       "      <td>IL</td>\n",
       "      <td>60087</td>\n",
       "      <td>NaN</td>\n",
       "      <td>NaN</td>\n",
       "      <td>1010</td>\n",
       "      <td>1141408.0</td>\n",
       "      <td>RENEW</td>\n",
       "      <td>NaN</td>\n",
       "      <td>NaN</td>\n",
       "      <td>AAI</td>\n",
       "    </tr>\n",
       "    <tr>\n",
       "      <th>...</th>\n",
       "      <td>...</td>\n",
       "      <td>...</td>\n",
       "      <td>...</td>\n",
       "      <td>...</td>\n",
       "      <td>...</td>\n",
       "      <td>...</td>\n",
       "      <td>...</td>\n",
       "      <td>...</td>\n",
       "      <td>...</td>\n",
       "      <td>...</td>\n",
       "      <td>...</td>\n",
       "      <td>...</td>\n",
       "      <td>...</td>\n",
       "      <td>...</td>\n",
       "    </tr>\n",
       "    <tr>\n",
       "      <th>143137</th>\n",
       "      <td>2465962.0</td>\n",
       "      <td>63376.0</td>\n",
       "      <td>180.0</td>\n",
       "      <td>CHICAGO</td>\n",
       "      <td>IL</td>\n",
       "      <td>60654.0</td>\n",
       "      <td>22.0</td>\n",
       "      <td>18.0</td>\n",
       "      <td>1002.0</td>\n",
       "      <td>2032383.0</td>\n",
       "      <td>RENEW</td>\n",
       "      <td>41.891055</td>\n",
       "      <td>-87.627898</td>\n",
       "      <td>NaN</td>\n",
       "    </tr>\n",
       "    <tr>\n",
       "      <th>143138</th>\n",
       "      <td>1211199.0</td>\n",
       "      <td>55051.0</td>\n",
       "      <td>1.0</td>\n",
       "      <td>CHICAGO</td>\n",
       "      <td>IL</td>\n",
       "      <td>60657.0</td>\n",
       "      <td>9.0</td>\n",
       "      <td>19.0</td>\n",
       "      <td>1010.0</td>\n",
       "      <td>40376.0</td>\n",
       "      <td>RENEW</td>\n",
       "      <td>41.943382</td>\n",
       "      <td>-87.659191</td>\n",
       "      <td>NaN</td>\n",
       "    </tr>\n",
       "    <tr>\n",
       "      <th>143139</th>\n",
       "      <td>2188497.0</td>\n",
       "      <td>357381.0</td>\n",
       "      <td>1.0</td>\n",
       "      <td>CHICAGO</td>\n",
       "      <td>IL</td>\n",
       "      <td>60638.0</td>\n",
       "      <td>18.0</td>\n",
       "      <td>8.0</td>\n",
       "      <td>1012.0</td>\n",
       "      <td>2064176.0</td>\n",
       "      <td>RENEW</td>\n",
       "      <td>41.77571</td>\n",
       "      <td>-87.798009</td>\n",
       "      <td>NaN</td>\n",
       "    </tr>\n",
       "    <tr>\n",
       "      <th>143140</th>\n",
       "      <td>1954052.0</td>\n",
       "      <td>340610.0</td>\n",
       "      <td>1.0</td>\n",
       "      <td>CHICAGO</td>\n",
       "      <td>IL</td>\n",
       "      <td>60632.0</td>\n",
       "      <td>10.0</td>\n",
       "      <td>8.0</td>\n",
       "      <td>1012.0</td>\n",
       "      <td>1954052.0</td>\n",
       "      <td>ISSUE</td>\n",
       "      <td>41.810523</td>\n",
       "      <td>-87.707872</td>\n",
       "      <td>NaN</td>\n",
       "    </tr>\n",
       "    <tr>\n",
       "      <th>143141</th>\n",
       "      <td>NaN</td>\n",
       "      <td>NaN</td>\n",
       "      <td>NaN</td>\n",
       "      <td>NaN</td>\n",
       "      <td>NaN</td>\n",
       "      <td>NaN</td>\n",
       "      <td>NaN</td>\n",
       "      <td>NaN</td>\n",
       "      <td>NaN</td>\n",
       "      <td>NaN</td>\n",
       "      <td>NaN</td>\n",
       "      <td>NaN</td>\n",
       "      <td>NaN</td>\n",
       "      <td>NaN</td>\n",
       "    </tr>\n",
       "  </tbody>\n",
       "</table>\n",
       "<p>143141 rows × 14 columns</p>\n",
       "</div>"
      ],
      "text/plain": [
       "       LICENSE ID ACCOUNT NUMBER SITE NUMBER      CITY STATE ZIP CODE  \\\n",
       "0         1256593          32811           1   CHICAGO    IL  60623.0   \n",
       "1         1639294         262311          29   CHICAGO    IL    60618   \n",
       "2         1980233         345008           1  HIGHLAND    IL    60035   \n",
       "3         1476582         273121           1    LEMONT    IL    60439   \n",
       "4         1896750         213785           1  WAUKEGAN    IL    60087   \n",
       "...           ...            ...         ...       ...   ...      ...   \n",
       "143137  2465962.0        63376.0       180.0   CHICAGO    IL  60654.0   \n",
       "143138  1211199.0        55051.0         1.0   CHICAGO    IL  60657.0   \n",
       "143139  2188497.0       357381.0         1.0   CHICAGO    IL  60638.0   \n",
       "143140  1954052.0       340610.0         1.0   CHICAGO    IL  60632.0   \n",
       "143141        NaN            NaN         NaN       NaN   NaN      NaN   \n",
       "\n",
       "       PRECINCT POLICE DISTRICT LICENSE CODE LICENSE NUMBER APPLICATION TYPE  \\\n",
       "0          28.0            10.0         1010        35342.0            RENEW   \n",
       "1          23.0            17.0         1315      1358463.0            RENEW   \n",
       "2           NaN             NaN         1011      1980233.0            ISSUE   \n",
       "3           NaN             NaN         1010      1476582.0            ISSUE   \n",
       "4           NaN             NaN         1010      1141408.0            RENEW   \n",
       "...         ...             ...          ...            ...              ...   \n",
       "143137     22.0            18.0       1002.0      2032383.0            RENEW   \n",
       "143138      9.0            19.0       1010.0        40376.0            RENEW   \n",
       "143139     18.0             8.0       1012.0      2064176.0            RENEW   \n",
       "143140     10.0             8.0       1012.0      1954052.0            ISSUE   \n",
       "143141      NaN             NaN          NaN            NaN              NaN   \n",
       "\n",
       "         LATITUDE  LONGITUDE LICENSE STATUS  \n",
       "0       41.843613 -87.714618            AAI  \n",
       "1       41.961132 -87.699626            AAC  \n",
       "2             NaN        NaN            AAI  \n",
       "3             NaN        NaN            AAI  \n",
       "4             NaN        NaN            AAI  \n",
       "...           ...        ...            ...  \n",
       "143137  41.891055 -87.627898            NaN  \n",
       "143138  41.943382 -87.659191            NaN  \n",
       "143139   41.77571 -87.798009            NaN  \n",
       "143140  41.810523 -87.707872            NaN  \n",
       "143141        NaN        NaN            NaN  \n",
       "\n",
       "[143141 rows x 14 columns]"
      ]
     },
     "execution_count": 10,
     "metadata": {},
     "output_type": "execute_result"
    }
   ],
   "source": [
    "df.drop_duplicates(inplace  = True)\n",
    "df"
   ]
  },
  {
   "cell_type": "code",
   "execution_count": null,
   "id": "6dd0f3d4",
   "metadata": {},
   "outputs": [],
   "source": []
  },
  {
   "cell_type": "code",
   "execution_count": 11,
   "id": "1da2540b",
   "metadata": {
    "scrolled": true
   },
   "outputs": [
    {
     "data": {
      "text/plain": [
       "Index(['LICENSE ID', 'ACCOUNT NUMBER', 'SITE NUMBER', 'CITY', 'STATE',\n",
       "       'ZIP CODE', 'PRECINCT', 'POLICE DISTRICT', 'LICENSE CODE',\n",
       "       'LICENSE NUMBER', 'APPLICATION TYPE', 'LATITUDE', 'LONGITUDE',\n",
       "       'LICENSE STATUS'],\n",
       "      dtype='object')"
      ]
     },
     "execution_count": 11,
     "metadata": {},
     "output_type": "execute_result"
    }
   ],
   "source": [
    "df.columns"
   ]
  },
  {
   "cell_type": "code",
   "execution_count": 12,
   "id": "4af7b533",
   "metadata": {},
   "outputs": [
    {
     "data": {
      "text/plain": [
       "1"
      ]
     },
     "execution_count": 12,
     "metadata": {},
     "output_type": "execute_result"
    }
   ],
   "source": [
    "df['LICENSE ID'].isna().sum()"
   ]
  },
  {
   "cell_type": "code",
   "execution_count": 13,
   "id": "3dfe529f",
   "metadata": {},
   "outputs": [
    {
     "name": "stderr",
     "output_type": "stream",
     "text": [
      "C:\\Users\\lenovo\\.conda\\anaconda\\lib\\site-packages\\pandas\\core\\algorithms.py:969: UserWarning: Unable to sort modes: '<' not supported between instances of 'int' and 'str'\n",
      "  warn(f\"Unable to sort modes: {err}\")\n"
     ]
    }
   ],
   "source": [
    "df['LICENSE ID'] = df['LICENSE ID'].fillna(df['LICENSE ID'].mode()[0])"
   ]
  },
  {
   "cell_type": "code",
   "execution_count": 14,
   "id": "d4682333",
   "metadata": {
    "scrolled": false
   },
   "outputs": [
    {
     "data": {
      "text/plain": [
       "0"
      ]
     },
     "execution_count": 14,
     "metadata": {},
     "output_type": "execute_result"
    }
   ],
   "source": [
    "df['LICENSE ID'].isna().sum()"
   ]
  },
  {
   "cell_type": "code",
   "execution_count": 15,
   "id": "95359add",
   "metadata": {},
   "outputs": [
    {
     "data": {
      "text/html": [
       "<div>\n",
       "<style scoped>\n",
       "    .dataframe tbody tr th:only-of-type {\n",
       "        vertical-align: middle;\n",
       "    }\n",
       "\n",
       "    .dataframe tbody tr th {\n",
       "        vertical-align: top;\n",
       "    }\n",
       "\n",
       "    .dataframe thead th {\n",
       "        text-align: right;\n",
       "    }\n",
       "</style>\n",
       "<table border=\"1\" class=\"dataframe\">\n",
       "  <thead>\n",
       "    <tr style=\"text-align: right;\">\n",
       "      <th></th>\n",
       "      <th>LICENSE ID</th>\n",
       "      <th>ACCOUNT NUMBER</th>\n",
       "      <th>SITE NUMBER</th>\n",
       "      <th>CITY</th>\n",
       "      <th>STATE</th>\n",
       "      <th>ZIP CODE</th>\n",
       "      <th>PRECINCT</th>\n",
       "      <th>POLICE DISTRICT</th>\n",
       "      <th>LICENSE CODE</th>\n",
       "      <th>LICENSE NUMBER</th>\n",
       "      <th>APPLICATION TYPE</th>\n",
       "      <th>LATITUDE</th>\n",
       "      <th>LONGITUDE</th>\n",
       "      <th>LICENSE STATUS</th>\n",
       "    </tr>\n",
       "  </thead>\n",
       "  <tbody>\n",
       "  </tbody>\n",
       "</table>\n",
       "</div>"
      ],
      "text/plain": [
       "Empty DataFrame\n",
       "Columns: [LICENSE ID, ACCOUNT NUMBER, SITE NUMBER, CITY, STATE, ZIP CODE, PRECINCT, POLICE DISTRICT, LICENSE CODE, LICENSE NUMBER, APPLICATION TYPE, LATITUDE, LONGITUDE, LICENSE STATUS]\n",
       "Index: []"
      ]
     },
     "execution_count": 15,
     "metadata": {},
     "output_type": "execute_result"
    }
   ],
   "source": [
    "df[df['LICENSE ID'].isna()]"
   ]
  },
  {
   "cell_type": "code",
   "execution_count": 16,
   "id": "bc5fdbb5",
   "metadata": {},
   "outputs": [],
   "source": [
    " df['LICENSE ID'] = pd.to_numeric(df['LICENSE ID'], errors='coerce').astype('float32')"
   ]
  },
  {
   "cell_type": "code",
   "execution_count": 17,
   "id": "42f4ab45",
   "metadata": {},
   "outputs": [
    {
     "data": {
      "text/plain": [
       "dtype('float32')"
      ]
     },
     "execution_count": 17,
     "metadata": {},
     "output_type": "execute_result"
    }
   ],
   "source": [
    "df['LICENSE ID'].dtype"
   ]
  },
  {
   "cell_type": "code",
   "execution_count": 18,
   "id": "01bc79dd",
   "metadata": {},
   "outputs": [
    {
     "data": {
      "text/html": [
       "<div>\n",
       "<style scoped>\n",
       "    .dataframe tbody tr th:only-of-type {\n",
       "        vertical-align: middle;\n",
       "    }\n",
       "\n",
       "    .dataframe tbody tr th {\n",
       "        vertical-align: top;\n",
       "    }\n",
       "\n",
       "    .dataframe thead th {\n",
       "        text-align: right;\n",
       "    }\n",
       "</style>\n",
       "<table border=\"1\" class=\"dataframe\">\n",
       "  <thead>\n",
       "    <tr style=\"text-align: right;\">\n",
       "      <th></th>\n",
       "      <th>LICENSE ID</th>\n",
       "      <th>ACCOUNT NUMBER</th>\n",
       "      <th>SITE NUMBER</th>\n",
       "      <th>CITY</th>\n",
       "      <th>STATE</th>\n",
       "      <th>ZIP CODE</th>\n",
       "      <th>PRECINCT</th>\n",
       "      <th>POLICE DISTRICT</th>\n",
       "      <th>LICENSE CODE</th>\n",
       "      <th>LICENSE NUMBER</th>\n",
       "      <th>APPLICATION TYPE</th>\n",
       "      <th>LATITUDE</th>\n",
       "      <th>LONGITUDE</th>\n",
       "      <th>LICENSE STATUS</th>\n",
       "    </tr>\n",
       "  </thead>\n",
       "  <tbody>\n",
       "    <tr>\n",
       "      <th>85895</th>\n",
       "      <td>NaN</td>\n",
       "      <td>NaN</td>\n",
       "      <td>NaN</td>\n",
       "      <td>NaN</td>\n",
       "      <td>NaN</td>\n",
       "      <td>NaN</td>\n",
       "      <td>NaN</td>\n",
       "      <td>NaN</td>\n",
       "      <td>NaN</td>\n",
       "      <td>NaN</td>\n",
       "      <td>NaN</td>\n",
       "      <td>NaN</td>\n",
       "      <td>NaN</td>\n",
       "      <td>NaN</td>\n",
       "    </tr>\n",
       "    <tr>\n",
       "      <th>85896</th>\n",
       "      <td>NaN</td>\n",
       "      <td>NaN</td>\n",
       "      <td>NaN</td>\n",
       "      <td>NaN</td>\n",
       "      <td>NaN</td>\n",
       "      <td>NaN</td>\n",
       "      <td>NaN</td>\n",
       "      <td>NaN</td>\n",
       "      <td>NaN</td>\n",
       "      <td>NaN</td>\n",
       "      <td>NaN</td>\n",
       "      <td>NaN</td>\n",
       "      <td>NaN</td>\n",
       "      <td>NaN</td>\n",
       "    </tr>\n",
       "    <tr>\n",
       "      <th>85897</th>\n",
       "      <td>NaN</td>\n",
       "      <td>NaN</td>\n",
       "      <td>NaN</td>\n",
       "      <td>NaN</td>\n",
       "      <td>NaN</td>\n",
       "      <td>NaN</td>\n",
       "      <td>NaN</td>\n",
       "      <td>NaN</td>\n",
       "      <td>NaN</td>\n",
       "      <td>NaN</td>\n",
       "      <td>NaN</td>\n",
       "      <td>NaN</td>\n",
       "      <td>NaN</td>\n",
       "      <td>NaN</td>\n",
       "    </tr>\n",
       "    <tr>\n",
       "      <th>85898</th>\n",
       "      <td>NaN</td>\n",
       "      <td>NaN</td>\n",
       "      <td>NaN</td>\n",
       "      <td>NaN</td>\n",
       "      <td>NaN</td>\n",
       "      <td>NaN</td>\n",
       "      <td>NaN</td>\n",
       "      <td>NaN</td>\n",
       "      <td>NaN</td>\n",
       "      <td>NaN</td>\n",
       "      <td>NaN</td>\n",
       "      <td>NaN</td>\n",
       "      <td>NaN</td>\n",
       "      <td>NaN</td>\n",
       "    </tr>\n",
       "    <tr>\n",
       "      <th>85900</th>\n",
       "      <td>NaN</td>\n",
       "      <td>NaN</td>\n",
       "      <td>NaN</td>\n",
       "      <td>NaN</td>\n",
       "      <td>NaN</td>\n",
       "      <td>NaN</td>\n",
       "      <td>NaN</td>\n",
       "      <td>NaN</td>\n",
       "      <td>NaN</td>\n",
       "      <td>NaN</td>\n",
       "      <td>NaN</td>\n",
       "      <td>NaN</td>\n",
       "      <td>NaN</td>\n",
       "      <td>NaN</td>\n",
       "    </tr>\n",
       "    <tr>\n",
       "      <th>85901</th>\n",
       "      <td>NaN</td>\n",
       "      <td>ACCOUNT NUMBER</td>\n",
       "      <td>SITE NUMBER</td>\n",
       "      <td>CITY</td>\n",
       "      <td>STATE</td>\n",
       "      <td>ZIP CODE</td>\n",
       "      <td>PRECINCT</td>\n",
       "      <td>POLICE DISTRICT</td>\n",
       "      <td>LICENSE CODE</td>\n",
       "      <td>LICENSE NUMBER</td>\n",
       "      <td>APPLICATION TYPE</td>\n",
       "      <td>LATITUDE</td>\n",
       "      <td>LONGITUDE</td>\n",
       "      <td>NaN</td>\n",
       "    </tr>\n",
       "  </tbody>\n",
       "</table>\n",
       "</div>"
      ],
      "text/plain": [
       "       LICENSE ID  ACCOUNT NUMBER  SITE NUMBER  CITY  STATE  ZIP CODE  \\\n",
       "85895         NaN             NaN          NaN   NaN    NaN       NaN   \n",
       "85896         NaN             NaN          NaN   NaN    NaN       NaN   \n",
       "85897         NaN             NaN          NaN   NaN    NaN       NaN   \n",
       "85898         NaN             NaN          NaN   NaN    NaN       NaN   \n",
       "85900         NaN             NaN          NaN   NaN    NaN       NaN   \n",
       "85901         NaN  ACCOUNT NUMBER  SITE NUMBER  CITY  STATE  ZIP CODE   \n",
       "\n",
       "       PRECINCT  POLICE DISTRICT  LICENSE CODE  LICENSE NUMBER  \\\n",
       "85895       NaN              NaN           NaN             NaN   \n",
       "85896       NaN              NaN           NaN             NaN   \n",
       "85897       NaN              NaN           NaN             NaN   \n",
       "85898       NaN              NaN           NaN             NaN   \n",
       "85900       NaN              NaN           NaN             NaN   \n",
       "85901  PRECINCT  POLICE DISTRICT  LICENSE CODE  LICENSE NUMBER   \n",
       "\n",
       "       APPLICATION TYPE  LATITUDE  LONGITUDE LICENSE STATUS  \n",
       "85895               NaN       NaN        NaN            NaN  \n",
       "85896               NaN       NaN        NaN            NaN  \n",
       "85897               NaN       NaN        NaN            NaN  \n",
       "85898               NaN       NaN        NaN            NaN  \n",
       "85900               NaN       NaN        NaN            NaN  \n",
       "85901  APPLICATION TYPE  LATITUDE  LONGITUDE            NaN  "
      ]
     },
     "execution_count": 18,
     "metadata": {},
     "output_type": "execute_result"
    }
   ],
   "source": [
    "df[df['LICENSE ID'].isna()]"
   ]
  },
  {
   "cell_type": "code",
   "execution_count": 19,
   "id": "97a2b86c",
   "metadata": {},
   "outputs": [],
   "source": [
    "# Dropping all rows whose all records are null.\n",
    "\n",
    "df.drop([85895,85896,85897,85898,85900,85901,143141], axis=0, inplace=True)"
   ]
  },
  {
   "cell_type": "code",
   "execution_count": 20,
   "id": "a4379943",
   "metadata": {},
   "outputs": [
    {
     "data": {
      "text/html": [
       "<div>\n",
       "<style scoped>\n",
       "    .dataframe tbody tr th:only-of-type {\n",
       "        vertical-align: middle;\n",
       "    }\n",
       "\n",
       "    .dataframe tbody tr th {\n",
       "        vertical-align: top;\n",
       "    }\n",
       "\n",
       "    .dataframe thead th {\n",
       "        text-align: right;\n",
       "    }\n",
       "</style>\n",
       "<table border=\"1\" class=\"dataframe\">\n",
       "  <thead>\n",
       "    <tr style=\"text-align: right;\">\n",
       "      <th></th>\n",
       "      <th>LICENSE ID</th>\n",
       "      <th>ACCOUNT NUMBER</th>\n",
       "      <th>SITE NUMBER</th>\n",
       "      <th>CITY</th>\n",
       "      <th>STATE</th>\n",
       "      <th>ZIP CODE</th>\n",
       "      <th>PRECINCT</th>\n",
       "      <th>POLICE DISTRICT</th>\n",
       "      <th>LICENSE CODE</th>\n",
       "      <th>LICENSE NUMBER</th>\n",
       "      <th>APPLICATION TYPE</th>\n",
       "      <th>LATITUDE</th>\n",
       "      <th>LONGITUDE</th>\n",
       "      <th>LICENSE STATUS</th>\n",
       "    </tr>\n",
       "  </thead>\n",
       "  <tbody>\n",
       "  </tbody>\n",
       "</table>\n",
       "</div>"
      ],
      "text/plain": [
       "Empty DataFrame\n",
       "Columns: [LICENSE ID, ACCOUNT NUMBER, SITE NUMBER, CITY, STATE, ZIP CODE, PRECINCT, POLICE DISTRICT, LICENSE CODE, LICENSE NUMBER, APPLICATION TYPE, LATITUDE, LONGITUDE, LICENSE STATUS]\n",
       "Index: []"
      ]
     },
     "execution_count": 20,
     "metadata": {},
     "output_type": "execute_result"
    }
   ],
   "source": [
    "df[df['LICENSE ID'].isna()]"
   ]
  },
  {
   "cell_type": "markdown",
   "id": "063c8912",
   "metadata": {},
   "source": [
    "### Account Number "
   ]
  },
  {
   "cell_type": "code",
   "execution_count": 21,
   "id": "17b5048c",
   "metadata": {},
   "outputs": [
    {
     "data": {
      "text/plain": [
       "0"
      ]
     },
     "execution_count": 21,
     "metadata": {},
     "output_type": "execute_result"
    }
   ],
   "source": [
    "df['ACCOUNT NUMBER'].isna().sum()"
   ]
  },
  {
   "cell_type": "code",
   "execution_count": 22,
   "id": "c0f0e949",
   "metadata": {},
   "outputs": [
    {
     "data": {
      "text/plain": [
       "0            32811\n",
       "1           262311\n",
       "2           345008\n",
       "3           273121\n",
       "4           213785\n",
       "            ...   \n",
       "143136    266103.0\n",
       "143137     63376.0\n",
       "143138     55051.0\n",
       "143139    357381.0\n",
       "143140    340610.0\n",
       "Name: ACCOUNT NUMBER, Length: 143134, dtype: object"
      ]
     },
     "execution_count": 22,
     "metadata": {},
     "output_type": "execute_result"
    }
   ],
   "source": [
    "df['ACCOUNT NUMBER']"
   ]
  },
  {
   "cell_type": "code",
   "execution_count": 23,
   "id": "74de2fe1",
   "metadata": {},
   "outputs": [],
   "source": [
    "df['ACCOUNT NUMBER'] = df['ACCOUNT NUMBER'].fillna(df['ACCOUNT NUMBER'].mode()[0])"
   ]
  },
  {
   "cell_type": "code",
   "execution_count": 24,
   "id": "38524c00",
   "metadata": {},
   "outputs": [
    {
     "data": {
      "text/plain": [
       "0"
      ]
     },
     "execution_count": 24,
     "metadata": {},
     "output_type": "execute_result"
    }
   ],
   "source": [
    "df['ACCOUNT NUMBER'].isna().sum()"
   ]
  },
  {
   "cell_type": "code",
   "execution_count": 25,
   "id": "7fe8dbce",
   "metadata": {},
   "outputs": [],
   "source": [
    "df['ACCOUNT NUMBER'] = pd.to_numeric(df['ACCOUNT NUMBER'], errors='coerce').astype('float32')"
   ]
  },
  {
   "cell_type": "code",
   "execution_count": 26,
   "id": "cf1c7c84",
   "metadata": {},
   "outputs": [
    {
     "data": {
      "text/html": [
       "<div>\n",
       "<style scoped>\n",
       "    .dataframe tbody tr th:only-of-type {\n",
       "        vertical-align: middle;\n",
       "    }\n",
       "\n",
       "    .dataframe tbody tr th {\n",
       "        vertical-align: top;\n",
       "    }\n",
       "\n",
       "    .dataframe thead th {\n",
       "        text-align: right;\n",
       "    }\n",
       "</style>\n",
       "<table border=\"1\" class=\"dataframe\">\n",
       "  <thead>\n",
       "    <tr style=\"text-align: right;\">\n",
       "      <th></th>\n",
       "      <th>LICENSE ID</th>\n",
       "      <th>ACCOUNT NUMBER</th>\n",
       "      <th>SITE NUMBER</th>\n",
       "      <th>CITY</th>\n",
       "      <th>STATE</th>\n",
       "      <th>ZIP CODE</th>\n",
       "      <th>PRECINCT</th>\n",
       "      <th>POLICE DISTRICT</th>\n",
       "      <th>LICENSE CODE</th>\n",
       "      <th>LICENSE NUMBER</th>\n",
       "      <th>APPLICATION TYPE</th>\n",
       "      <th>LATITUDE</th>\n",
       "      <th>LONGITUDE</th>\n",
       "      <th>LICENSE STATUS</th>\n",
       "    </tr>\n",
       "  </thead>\n",
       "  <tbody>\n",
       "  </tbody>\n",
       "</table>\n",
       "</div>"
      ],
      "text/plain": [
       "Empty DataFrame\n",
       "Columns: [LICENSE ID, ACCOUNT NUMBER, SITE NUMBER, CITY, STATE, ZIP CODE, PRECINCT, POLICE DISTRICT, LICENSE CODE, LICENSE NUMBER, APPLICATION TYPE, LATITUDE, LONGITUDE, LICENSE STATUS]\n",
       "Index: []"
      ]
     },
     "execution_count": 26,
     "metadata": {},
     "output_type": "execute_result"
    }
   ],
   "source": [
    "df[df['ACCOUNT NUMBER'].isna()]"
   ]
  },
  {
   "cell_type": "markdown",
   "id": "301b62ba",
   "metadata": {},
   "source": [
    "#### SITE NUMBER"
   ]
  },
  {
   "cell_type": "code",
   "execution_count": 27,
   "id": "7c1e4fa7",
   "metadata": {
    "scrolled": true
   },
   "outputs": [
    {
     "data": {
      "text/plain": [
       "446"
      ]
     },
     "execution_count": 27,
     "metadata": {},
     "output_type": "execute_result"
    }
   ],
   "source": [
    "df['SITE NUMBER'].nunique()"
   ]
  },
  {
   "cell_type": "code",
   "execution_count": 28,
   "id": "681aaeeb",
   "metadata": {},
   "outputs": [],
   "source": [
    "df['SITE NUMBER'] = df['SITE NUMBER'].fillna(df['SITE NUMBER'].mode()[0])"
   ]
  },
  {
   "cell_type": "code",
   "execution_count": 29,
   "id": "2cd3ac8c",
   "metadata": {
    "scrolled": true
   },
   "outputs": [],
   "source": [
    "df['SITE NUMBER'] = pd.to_numeric(df['SITE NUMBER'], errors='coerce').astype('float64')"
   ]
  },
  {
   "cell_type": "code",
   "execution_count": 30,
   "id": "6a401a8f",
   "metadata": {},
   "outputs": [
    {
     "data": {
      "text/plain": [
       "0           1.0\n",
       "1          29.0\n",
       "2           1.0\n",
       "3           1.0\n",
       "4           1.0\n",
       "          ...  \n",
       "143136      3.0\n",
       "143137    180.0\n",
       "143138      1.0\n",
       "143139      1.0\n",
       "143140      1.0\n",
       "Name: SITE NUMBER, Length: 143134, dtype: float64"
      ]
     },
     "execution_count": 30,
     "metadata": {},
     "output_type": "execute_result"
    }
   ],
   "source": [
    "df['SITE NUMBER']"
   ]
  },
  {
   "cell_type": "markdown",
   "id": "9da1e813",
   "metadata": {},
   "source": [
    "#### CITY"
   ]
  },
  {
   "cell_type": "code",
   "execution_count": 31,
   "id": "ebb9fcfd",
   "metadata": {},
   "outputs": [
    {
     "data": {
      "text/plain": [
       "1311"
      ]
     },
     "execution_count": 31,
     "metadata": {},
     "output_type": "execute_result"
    }
   ],
   "source": [
    "df['CITY'].nunique()"
   ]
  },
  {
   "cell_type": "code",
   "execution_count": 32,
   "id": "76eb9dc3",
   "metadata": {},
   "outputs": [
    {
     "data": {
      "text/plain": [
       "0"
      ]
     },
     "execution_count": 32,
     "metadata": {},
     "output_type": "execute_result"
    }
   ],
   "source": [
    "df['CITY'].isna().sum()"
   ]
  },
  {
   "cell_type": "code",
   "execution_count": 33,
   "id": "3495e79d",
   "metadata": {},
   "outputs": [],
   "source": [
    "df['CITY'] = df['CITY'].fillna(df['CITY'].mode()[0])"
   ]
  },
  {
   "cell_type": "code",
   "execution_count": 34,
   "id": "fe2103db",
   "metadata": {},
   "outputs": [],
   "source": [
    "df['CITY'] = df['CITY'].astype('category')"
   ]
  },
  {
   "cell_type": "code",
   "execution_count": 35,
   "id": "f4055cbc",
   "metadata": {},
   "outputs": [
    {
     "data": {
      "text/plain": [
       "0"
      ]
     },
     "execution_count": 35,
     "metadata": {},
     "output_type": "execute_result"
    }
   ],
   "source": [
    "df['CITY'].isna().sum()"
   ]
  },
  {
   "cell_type": "markdown",
   "id": "169ab49b",
   "metadata": {},
   "source": [
    "#### STATE"
   ]
  },
  {
   "cell_type": "code",
   "execution_count": 36,
   "id": "470dbacf",
   "metadata": {},
   "outputs": [
    {
     "data": {
      "text/plain": [
       "55"
      ]
     },
     "execution_count": 36,
     "metadata": {},
     "output_type": "execute_result"
    }
   ],
   "source": [
    "df['STATE'].nunique()"
   ]
  },
  {
   "cell_type": "code",
   "execution_count": 37,
   "id": "ffecdb76",
   "metadata": {},
   "outputs": [
    {
     "data": {
      "text/plain": [
       "0"
      ]
     },
     "execution_count": 37,
     "metadata": {},
     "output_type": "execute_result"
    }
   ],
   "source": [
    "df['STATE'].isnull().sum()"
   ]
  },
  {
   "cell_type": "code",
   "execution_count": 38,
   "id": "d411c486",
   "metadata": {},
   "outputs": [],
   "source": [
    "df['STATE'] = df['STATE'].fillna(df['STATE'].mode()[0])"
   ]
  },
  {
   "cell_type": "code",
   "execution_count": 39,
   "id": "a5aee028",
   "metadata": {},
   "outputs": [],
   "source": [
    "df['STATE'] = df['STATE'].astype('category')"
   ]
  },
  {
   "cell_type": "code",
   "execution_count": 40,
   "id": "513d1d48",
   "metadata": {},
   "outputs": [
    {
     "data": {
      "text/plain": [
       "0"
      ]
     },
     "execution_count": 40,
     "metadata": {},
     "output_type": "execute_result"
    }
   ],
   "source": [
    "df['STATE'].isna().sum()"
   ]
  },
  {
   "cell_type": "code",
   "execution_count": 41,
   "id": "50144d51",
   "metadata": {},
   "outputs": [
    {
     "data": {
      "text/plain": [
       "IL    137458\n",
       "IN      1768\n",
       "WI       555\n",
       "CA       381\n",
       "MI       372\n",
       "NY       237\n",
       "TX       201\n",
       "OH       197\n",
       "MO       170\n",
       "MN       160\n",
       "Name: STATE, dtype: int64"
      ]
     },
     "execution_count": 41,
     "metadata": {},
     "output_type": "execute_result"
    }
   ],
   "source": [
    "df['STATE'].value_counts().head(10)"
   ]
  },
  {
   "cell_type": "markdown",
   "id": "8e31d63e",
   "metadata": {},
   "source": [
    "#### ZIP CODE"
   ]
  },
  {
   "cell_type": "code",
   "execution_count": 42,
   "id": "9b00c89a",
   "metadata": {
    "scrolled": true
   },
   "outputs": [
    {
     "data": {
      "text/plain": [
       "2418"
      ]
     },
     "execution_count": 42,
     "metadata": {},
     "output_type": "execute_result"
    }
   ],
   "source": [
    " df['ZIP CODE'].nunique()"
   ]
  },
  {
   "cell_type": "code",
   "execution_count": 43,
   "id": "e80fe6d1",
   "metadata": {},
   "outputs": [
    {
     "data": {
      "text/plain": [
       "43"
      ]
     },
     "execution_count": 43,
     "metadata": {},
     "output_type": "execute_result"
    }
   ],
   "source": [
    "df['ZIP CODE'].isna().sum()"
   ]
  },
  {
   "cell_type": "code",
   "execution_count": 44,
   "id": "e113d997",
   "metadata": {},
   "outputs": [
    {
     "data": {
      "text/html": [
       "<div>\n",
       "<style scoped>\n",
       "    .dataframe tbody tr th:only-of-type {\n",
       "        vertical-align: middle;\n",
       "    }\n",
       "\n",
       "    .dataframe tbody tr th {\n",
       "        vertical-align: top;\n",
       "    }\n",
       "\n",
       "    .dataframe thead th {\n",
       "        text-align: right;\n",
       "    }\n",
       "</style>\n",
       "<table border=\"1\" class=\"dataframe\">\n",
       "  <thead>\n",
       "    <tr style=\"text-align: right;\">\n",
       "      <th></th>\n",
       "      <th>LICENSE ID</th>\n",
       "      <th>ACCOUNT NUMBER</th>\n",
       "      <th>SITE NUMBER</th>\n",
       "      <th>CITY</th>\n",
       "      <th>STATE</th>\n",
       "      <th>ZIP CODE</th>\n",
       "      <th>PRECINCT</th>\n",
       "      <th>POLICE DISTRICT</th>\n",
       "      <th>LICENSE CODE</th>\n",
       "      <th>LICENSE NUMBER</th>\n",
       "      <th>APPLICATION TYPE</th>\n",
       "      <th>LATITUDE</th>\n",
       "      <th>LONGITUDE</th>\n",
       "      <th>LICENSE STATUS</th>\n",
       "    </tr>\n",
       "  </thead>\n",
       "  <tbody>\n",
       "    <tr>\n",
       "      <th>3327</th>\n",
       "      <td>1341459.0</td>\n",
       "      <td>7049.0</td>\n",
       "      <td>4.0</td>\n",
       "      <td>CHICAGO</td>\n",
       "      <td>IL</td>\n",
       "      <td>NaN</td>\n",
       "      <td>NaN</td>\n",
       "      <td>NaN</td>\n",
       "      <td>1010</td>\n",
       "      <td>17256.0</td>\n",
       "      <td>RENEW</td>\n",
       "      <td>41.738136</td>\n",
       "      <td>-87.74112</td>\n",
       "      <td>AAI</td>\n",
       "    </tr>\n",
       "    <tr>\n",
       "      <th>3859</th>\n",
       "      <td>2196802.0</td>\n",
       "      <td>64342.0</td>\n",
       "      <td>8.0</td>\n",
       "      <td>CHICAGO</td>\n",
       "      <td>IL</td>\n",
       "      <td>NaN</td>\n",
       "      <td>NaN</td>\n",
       "      <td>NaN</td>\n",
       "      <td>1010</td>\n",
       "      <td>2196802.0</td>\n",
       "      <td>ISSUE</td>\n",
       "      <td>NaN</td>\n",
       "      <td>NaN</td>\n",
       "      <td>AAI</td>\n",
       "    </tr>\n",
       "    <tr>\n",
       "      <th>5056</th>\n",
       "      <td>1232380.0</td>\n",
       "      <td>7049.0</td>\n",
       "      <td>4.0</td>\n",
       "      <td>CHICAGO</td>\n",
       "      <td>IL</td>\n",
       "      <td>NaN</td>\n",
       "      <td>NaN</td>\n",
       "      <td>NaN</td>\n",
       "      <td>1010</td>\n",
       "      <td>17256.0</td>\n",
       "      <td>RENEW</td>\n",
       "      <td>41.738136</td>\n",
       "      <td>-87.74112</td>\n",
       "      <td>AAI</td>\n",
       "    </tr>\n",
       "    <tr>\n",
       "      <th>6426</th>\n",
       "      <td>2103590.0</td>\n",
       "      <td>63584.0</td>\n",
       "      <td>97.0</td>\n",
       "      <td>CHICAGO</td>\n",
       "      <td>IL</td>\n",
       "      <td>NaN</td>\n",
       "      <td>NaN</td>\n",
       "      <td>NaN</td>\n",
       "      <td>1008</td>\n",
       "      <td>2103590.0</td>\n",
       "      <td>ISSUE</td>\n",
       "      <td>41.995029</td>\n",
       "      <td>-87.885823</td>\n",
       "      <td>AAC</td>\n",
       "    </tr>\n",
       "    <tr>\n",
       "      <th>6742</th>\n",
       "      <td>2303508.0</td>\n",
       "      <td>369630.0</td>\n",
       "      <td>1.0</td>\n",
       "      <td>CHICAGO</td>\n",
       "      <td>IL</td>\n",
       "      <td>NaN</td>\n",
       "      <td>NaN</td>\n",
       "      <td>NaN</td>\n",
       "      <td>1010</td>\n",
       "      <td>2138250.0</td>\n",
       "      <td>RENEW</td>\n",
       "      <td>NaN</td>\n",
       "      <td>NaN</td>\n",
       "      <td>AAI</td>\n",
       "    </tr>\n",
       "    <tr>\n",
       "      <th>7456</th>\n",
       "      <td>2129487.0</td>\n",
       "      <td>368011.0</td>\n",
       "      <td>1.0</td>\n",
       "      <td>CHICAGO</td>\n",
       "      <td>IL</td>\n",
       "      <td>NaN</td>\n",
       "      <td>NaN</td>\n",
       "      <td>NaN</td>\n",
       "      <td>1010</td>\n",
       "      <td>2129487.0</td>\n",
       "      <td>ISSUE</td>\n",
       "      <td>41.881683</td>\n",
       "      <td>-87.659667</td>\n",
       "      <td>AAI</td>\n",
       "    </tr>\n",
       "    <tr>\n",
       "      <th>15275</th>\n",
       "      <td>2124609.0</td>\n",
       "      <td>367163.0</td>\n",
       "      <td>1.0</td>\n",
       "      <td>CHICAGO</td>\n",
       "      <td>IL</td>\n",
       "      <td>NaN</td>\n",
       "      <td>NaN</td>\n",
       "      <td>NaN</td>\n",
       "      <td>1010</td>\n",
       "      <td>2124609.0</td>\n",
       "      <td>ISSUE</td>\n",
       "      <td>NaN</td>\n",
       "      <td>NaN</td>\n",
       "      <td>AAI</td>\n",
       "    </tr>\n",
       "    <tr>\n",
       "      <th>15482</th>\n",
       "      <td>2103591.0</td>\n",
       "      <td>63584.0</td>\n",
       "      <td>97.0</td>\n",
       "      <td>CHICAGO</td>\n",
       "      <td>IL</td>\n",
       "      <td>NaN</td>\n",
       "      <td>NaN</td>\n",
       "      <td>NaN</td>\n",
       "      <td>1010</td>\n",
       "      <td>2103591.0</td>\n",
       "      <td>ISSUE</td>\n",
       "      <td>41.995029</td>\n",
       "      <td>-87.885823</td>\n",
       "      <td>AAC</td>\n",
       "    </tr>\n",
       "    <tr>\n",
       "      <th>23917</th>\n",
       "      <td>1200768.0</td>\n",
       "      <td>64307.0</td>\n",
       "      <td>5.0</td>\n",
       "      <td>CHICAGO</td>\n",
       "      <td>IL</td>\n",
       "      <td>NaN</td>\n",
       "      <td>NaN</td>\n",
       "      <td>NaN</td>\n",
       "      <td>1010</td>\n",
       "      <td>55007.0</td>\n",
       "      <td>RENEW</td>\n",
       "      <td>NaN</td>\n",
       "      <td>NaN</td>\n",
       "      <td>AAI</td>\n",
       "    </tr>\n",
       "    <tr>\n",
       "      <th>25720</th>\n",
       "      <td>2370313.0</td>\n",
       "      <td>64342.0</td>\n",
       "      <td>8.0</td>\n",
       "      <td>CHICAGO</td>\n",
       "      <td>IL</td>\n",
       "      <td>NaN</td>\n",
       "      <td>NaN</td>\n",
       "      <td>NaN</td>\n",
       "      <td>1010</td>\n",
       "      <td>2196802.0</td>\n",
       "      <td>RENEW</td>\n",
       "      <td>NaN</td>\n",
       "      <td>NaN</td>\n",
       "      <td>AAI</td>\n",
       "    </tr>\n",
       "    <tr>\n",
       "      <th>25757</th>\n",
       "      <td>2104467.0</td>\n",
       "      <td>8345.0</td>\n",
       "      <td>7.0</td>\n",
       "      <td>CHICAGO</td>\n",
       "      <td>IL</td>\n",
       "      <td>NaN</td>\n",
       "      <td>NaN</td>\n",
       "      <td>NaN</td>\n",
       "      <td>1010</td>\n",
       "      <td>2104467.0</td>\n",
       "      <td>ISSUE</td>\n",
       "      <td>41.888399</td>\n",
       "      <td>-87.623954</td>\n",
       "      <td>AAI</td>\n",
       "    </tr>\n",
       "    <tr>\n",
       "      <th>27223</th>\n",
       "      <td>2196403.0</td>\n",
       "      <td>64342.0</td>\n",
       "      <td>7.0</td>\n",
       "      <td>CHICAGO</td>\n",
       "      <td>IL</td>\n",
       "      <td>NaN</td>\n",
       "      <td>NaN</td>\n",
       "      <td>NaN</td>\n",
       "      <td>1010</td>\n",
       "      <td>2196403.0</td>\n",
       "      <td>ISSUE</td>\n",
       "      <td>NaN</td>\n",
       "      <td>NaN</td>\n",
       "      <td>AAC</td>\n",
       "    </tr>\n",
       "    <tr>\n",
       "      <th>43194</th>\n",
       "      <td>2069563.0</td>\n",
       "      <td>358411.0</td>\n",
       "      <td>1.0</td>\n",
       "      <td>CHICAGO</td>\n",
       "      <td>IL</td>\n",
       "      <td>NaN</td>\n",
       "      <td>NaN</td>\n",
       "      <td>NaN</td>\n",
       "      <td>1010</td>\n",
       "      <td>2069563.0</td>\n",
       "      <td>ISSUE</td>\n",
       "      <td>41.953543</td>\n",
       "      <td>-87.72726</td>\n",
       "      <td>AAI</td>\n",
       "    </tr>\n",
       "    <tr>\n",
       "      <th>45175</th>\n",
       "      <td>2172888.0</td>\n",
       "      <td>8345.0</td>\n",
       "      <td>7.0</td>\n",
       "      <td>CHICAGO</td>\n",
       "      <td>IL</td>\n",
       "      <td>NaN</td>\n",
       "      <td>NaN</td>\n",
       "      <td>NaN</td>\n",
       "      <td>1010</td>\n",
       "      <td>2104467.0</td>\n",
       "      <td>RENEW</td>\n",
       "      <td>41.888399</td>\n",
       "      <td>-87.623954</td>\n",
       "      <td>AAI</td>\n",
       "    </tr>\n",
       "    <tr>\n",
       "      <th>48739</th>\n",
       "      <td>1308672.0</td>\n",
       "      <td>64307.0</td>\n",
       "      <td>5.0</td>\n",
       "      <td>CHICAGO</td>\n",
       "      <td>IL</td>\n",
       "      <td>NaN</td>\n",
       "      <td>NaN</td>\n",
       "      <td>NaN</td>\n",
       "      <td>1010</td>\n",
       "      <td>55007.0</td>\n",
       "      <td>RENEW</td>\n",
       "      <td>NaN</td>\n",
       "      <td>NaN</td>\n",
       "      <td>AAI</td>\n",
       "    </tr>\n",
       "    <tr>\n",
       "      <th>50855</th>\n",
       "      <td>2137508.0</td>\n",
       "      <td>369335.0</td>\n",
       "      <td>1.0</td>\n",
       "      <td>CHICAGO</td>\n",
       "      <td>IL</td>\n",
       "      <td>NaN</td>\n",
       "      <td>40.0</td>\n",
       "      <td>24.0</td>\n",
       "      <td>1020</td>\n",
       "      <td>2137508.0</td>\n",
       "      <td>ISSUE</td>\n",
       "      <td>42.001418</td>\n",
       "      <td>-87.708433</td>\n",
       "      <td>AAC</td>\n",
       "    </tr>\n",
       "    <tr>\n",
       "      <th>50887</th>\n",
       "      <td>2441779.0</td>\n",
       "      <td>369630.0</td>\n",
       "      <td>1.0</td>\n",
       "      <td>CHICAGO</td>\n",
       "      <td>IL</td>\n",
       "      <td>NaN</td>\n",
       "      <td>NaN</td>\n",
       "      <td>NaN</td>\n",
       "      <td>1010</td>\n",
       "      <td>2138250.0</td>\n",
       "      <td>RENEW</td>\n",
       "      <td>NaN</td>\n",
       "      <td>NaN</td>\n",
       "      <td>AAI</td>\n",
       "    </tr>\n",
       "    <tr>\n",
       "      <th>53238</th>\n",
       "      <td>2292696.0</td>\n",
       "      <td>368011.0</td>\n",
       "      <td>1.0</td>\n",
       "      <td>CHICAGO</td>\n",
       "      <td>IL</td>\n",
       "      <td>NaN</td>\n",
       "      <td>NaN</td>\n",
       "      <td>NaN</td>\n",
       "      <td>1010</td>\n",
       "      <td>2129487.0</td>\n",
       "      <td>RENEW</td>\n",
       "      <td>41.881683</td>\n",
       "      <td>-87.659667</td>\n",
       "      <td>AAI</td>\n",
       "    </tr>\n",
       "    <tr>\n",
       "      <th>57978</th>\n",
       "      <td>2163574.0</td>\n",
       "      <td>373601.0</td>\n",
       "      <td>1.0</td>\n",
       "      <td>CHICAGO</td>\n",
       "      <td>IL</td>\n",
       "      <td>NaN</td>\n",
       "      <td>NaN</td>\n",
       "      <td>NaN</td>\n",
       "      <td>1012</td>\n",
       "      <td>2163574.0</td>\n",
       "      <td>ISSUE</td>\n",
       "      <td>41.877526</td>\n",
       "      <td>-87.624447</td>\n",
       "      <td>AAC</td>\n",
       "    </tr>\n",
       "    <tr>\n",
       "      <th>59977</th>\n",
       "      <td>2108377.0</td>\n",
       "      <td>364546.0</td>\n",
       "      <td>1.0</td>\n",
       "      <td>CHICAGO</td>\n",
       "      <td>IL</td>\n",
       "      <td>NaN</td>\n",
       "      <td>NaN</td>\n",
       "      <td>NaN</td>\n",
       "      <td>1010</td>\n",
       "      <td>2108377.0</td>\n",
       "      <td>ISSUE</td>\n",
       "      <td>41.969383</td>\n",
       "      <td>-87.688783</td>\n",
       "      <td>AAI</td>\n",
       "    </tr>\n",
       "    <tr>\n",
       "      <th>60688</th>\n",
       "      <td>2189588.0</td>\n",
       "      <td>376033.0</td>\n",
       "      <td>1.0</td>\n",
       "      <td>CHICAGO</td>\n",
       "      <td>IL</td>\n",
       "      <td>NaN</td>\n",
       "      <td>NaN</td>\n",
       "      <td>NaN</td>\n",
       "      <td>1012</td>\n",
       "      <td>2189588.0</td>\n",
       "      <td>ISSUE</td>\n",
       "      <td>NaN</td>\n",
       "      <td>NaN</td>\n",
       "      <td>AAC</td>\n",
       "    </tr>\n",
       "    <tr>\n",
       "      <th>60926</th>\n",
       "      <td>2152733.0</td>\n",
       "      <td>371891.0</td>\n",
       "      <td>1.0</td>\n",
       "      <td>CHICAGO</td>\n",
       "      <td>IL</td>\n",
       "      <td>NaN</td>\n",
       "      <td>NaN</td>\n",
       "      <td>NaN</td>\n",
       "      <td>1010</td>\n",
       "      <td>2152733.0</td>\n",
       "      <td>ISSUE</td>\n",
       "      <td>41.895647</td>\n",
       "      <td>-87.648854</td>\n",
       "      <td>AAI</td>\n",
       "    </tr>\n",
       "    <tr>\n",
       "      <th>62594</th>\n",
       "      <td>2088577.0</td>\n",
       "      <td>360949.0</td>\n",
       "      <td>1.0</td>\n",
       "      <td>CHICAGO</td>\n",
       "      <td>IL</td>\n",
       "      <td>NaN</td>\n",
       "      <td>NaN</td>\n",
       "      <td>NaN</td>\n",
       "      <td>1020</td>\n",
       "      <td>2088577.0</td>\n",
       "      <td>ISSUE</td>\n",
       "      <td>42.00142</td>\n",
       "      <td>-87.708306</td>\n",
       "      <td>AAC</td>\n",
       "    </tr>\n",
       "    <tr>\n",
       "      <th>64742</th>\n",
       "      <td>2288301.0</td>\n",
       "      <td>367163.0</td>\n",
       "      <td>1.0</td>\n",
       "      <td>CHICAGO</td>\n",
       "      <td>IL</td>\n",
       "      <td>NaN</td>\n",
       "      <td>NaN</td>\n",
       "      <td>NaN</td>\n",
       "      <td>1010</td>\n",
       "      <td>2124609.0</td>\n",
       "      <td>RENEW</td>\n",
       "      <td>NaN</td>\n",
       "      <td>NaN</td>\n",
       "      <td>AAI</td>\n",
       "    </tr>\n",
       "    <tr>\n",
       "      <th>68351</th>\n",
       "      <td>2138250.0</td>\n",
       "      <td>369630.0</td>\n",
       "      <td>1.0</td>\n",
       "      <td>CHICAGO</td>\n",
       "      <td>IL</td>\n",
       "      <td>NaN</td>\n",
       "      <td>NaN</td>\n",
       "      <td>NaN</td>\n",
       "      <td>1010</td>\n",
       "      <td>2138250.0</td>\n",
       "      <td>ISSUE</td>\n",
       "      <td>NaN</td>\n",
       "      <td>NaN</td>\n",
       "      <td>AAI</td>\n",
       "    </tr>\n",
       "    <tr>\n",
       "      <th>71240</th>\n",
       "      <td>1212546.0</td>\n",
       "      <td>60384.0</td>\n",
       "      <td>1.0</td>\n",
       "      <td>CHICAGO</td>\n",
       "      <td>IL</td>\n",
       "      <td>NaN</td>\n",
       "      <td>NaN</td>\n",
       "      <td>NaN</td>\n",
       "      <td>1010</td>\n",
       "      <td>1093951.0</td>\n",
       "      <td>RENEW</td>\n",
       "      <td>NaN</td>\n",
       "      <td>NaN</td>\n",
       "      <td>AAC</td>\n",
       "    </tr>\n",
       "    <tr>\n",
       "      <th>73976</th>\n",
       "      <td>2223393.0</td>\n",
       "      <td>64342.0</td>\n",
       "      <td>8.0</td>\n",
       "      <td>CHICAGO</td>\n",
       "      <td>IL</td>\n",
       "      <td>NaN</td>\n",
       "      <td>NaN</td>\n",
       "      <td>NaN</td>\n",
       "      <td>1010</td>\n",
       "      <td>2196802.0</td>\n",
       "      <td>RENEW</td>\n",
       "      <td>NaN</td>\n",
       "      <td>NaN</td>\n",
       "      <td>AAI</td>\n",
       "    </tr>\n",
       "    <tr>\n",
       "      <th>77460</th>\n",
       "      <td>2084502.0</td>\n",
       "      <td>360289.0</td>\n",
       "      <td>1.0</td>\n",
       "      <td>CHICAGO</td>\n",
       "      <td>IL</td>\n",
       "      <td>NaN</td>\n",
       "      <td>NaN</td>\n",
       "      <td>NaN</td>\n",
       "      <td>1012</td>\n",
       "      <td>2084502.0</td>\n",
       "      <td>ISSUE</td>\n",
       "      <td>41.882156</td>\n",
       "      <td>-87.763339</td>\n",
       "      <td>AAC</td>\n",
       "    </tr>\n",
       "    <tr>\n",
       "      <th>78886</th>\n",
       "      <td>1214937.0</td>\n",
       "      <td>85544.0</td>\n",
       "      <td>2.0</td>\n",
       "      <td>CHICAGO</td>\n",
       "      <td>IL</td>\n",
       "      <td>NaN</td>\n",
       "      <td>NaN</td>\n",
       "      <td>NaN</td>\n",
       "      <td>1010</td>\n",
       "      <td>21897.0</td>\n",
       "      <td>RENEW</td>\n",
       "      <td>NaN</td>\n",
       "      <td>NaN</td>\n",
       "      <td>AAI</td>\n",
       "    </tr>\n",
       "    <tr>\n",
       "      <th>82001</th>\n",
       "      <td>2426891.0</td>\n",
       "      <td>367163.0</td>\n",
       "      <td>1.0</td>\n",
       "      <td>CHICAGO</td>\n",
       "      <td>IL</td>\n",
       "      <td>NaN</td>\n",
       "      <td>NaN</td>\n",
       "      <td>NaN</td>\n",
       "      <td>1010</td>\n",
       "      <td>2124609.0</td>\n",
       "      <td>RENEW</td>\n",
       "      <td>NaN</td>\n",
       "      <td>NaN</td>\n",
       "      <td>AAI</td>\n",
       "    </tr>\n",
       "    <tr>\n",
       "      <th>84686</th>\n",
       "      <td>2108389.0</td>\n",
       "      <td>364558.0</td>\n",
       "      <td>1.0</td>\n",
       "      <td>CHICAGO</td>\n",
       "      <td>IL</td>\n",
       "      <td>NaN</td>\n",
       "      <td>NaN</td>\n",
       "      <td>NaN</td>\n",
       "      <td>1012</td>\n",
       "      <td>2108389.0</td>\n",
       "      <td>ISSUE</td>\n",
       "      <td>41.927100264</td>\n",
       "      <td>-87.65264860200001</td>\n",
       "      <td>AAC</td>\n",
       "    </tr>\n",
       "    <tr>\n",
       "      <th>89052</th>\n",
       "      <td>2298870.0</td>\n",
       "      <td>386690.0</td>\n",
       "      <td>1.0</td>\n",
       "      <td>CHICAGO</td>\n",
       "      <td>IL</td>\n",
       "      <td>NaN</td>\n",
       "      <td>NaN</td>\n",
       "      <td>NaN</td>\n",
       "      <td>4404</td>\n",
       "      <td>2298870.0</td>\n",
       "      <td>ISSUE</td>\n",
       "      <td>NaN</td>\n",
       "      <td>NaN</td>\n",
       "      <td>NaN</td>\n",
       "    </tr>\n",
       "    <tr>\n",
       "      <th>95005</th>\n",
       "      <td>2457902.0</td>\n",
       "      <td>404960.0</td>\n",
       "      <td>1.0</td>\n",
       "      <td>CICERO</td>\n",
       "      <td>IL</td>\n",
       "      <td>NaN</td>\n",
       "      <td>NaN</td>\n",
       "      <td>NaN</td>\n",
       "      <td>4404</td>\n",
       "      <td>2457902.0</td>\n",
       "      <td>ISSUE</td>\n",
       "      <td>NaN</td>\n",
       "      <td>NaN</td>\n",
       "      <td>NaN</td>\n",
       "    </tr>\n",
       "    <tr>\n",
       "      <th>98995</th>\n",
       "      <td>2483561.0</td>\n",
       "      <td>408754.0</td>\n",
       "      <td>1.0</td>\n",
       "      <td>CHICAGO</td>\n",
       "      <td>IL</td>\n",
       "      <td>NaN</td>\n",
       "      <td>21.0</td>\n",
       "      <td>1.0</td>\n",
       "      <td>1006</td>\n",
       "      <td>2483561.0</td>\n",
       "      <td>ISSUE</td>\n",
       "      <td>41.884188</td>\n",
       "      <td>-87.64112</td>\n",
       "      <td>NaN</td>\n",
       "    </tr>\n",
       "    <tr>\n",
       "      <th>106214</th>\n",
       "      <td>2541509.0</td>\n",
       "      <td>400180.0</td>\n",
       "      <td>1.0</td>\n",
       "      <td>CHICAGO</td>\n",
       "      <td>IL</td>\n",
       "      <td>NaN</td>\n",
       "      <td>NaN</td>\n",
       "      <td>NaN</td>\n",
       "      <td>1010</td>\n",
       "      <td>2418530.0</td>\n",
       "      <td>RENEW</td>\n",
       "      <td>41.750921</td>\n",
       "      <td>-87.611137</td>\n",
       "      <td>NaN</td>\n",
       "    </tr>\n",
       "    <tr>\n",
       "      <th>106859</th>\n",
       "      <td>2487678.0</td>\n",
       "      <td>409238.0</td>\n",
       "      <td>1.0</td>\n",
       "      <td>CHICAGO</td>\n",
       "      <td>IL</td>\n",
       "      <td>NaN</td>\n",
       "      <td>3.0</td>\n",
       "      <td>25.0</td>\n",
       "      <td>1010</td>\n",
       "      <td>2487678.0</td>\n",
       "      <td>ISSUE</td>\n",
       "      <td>41.923497</td>\n",
       "      <td>-87.794313</td>\n",
       "      <td>NaN</td>\n",
       "    </tr>\n",
       "    <tr>\n",
       "      <th>107938</th>\n",
       "      <td>2462528.0</td>\n",
       "      <td>387624.0</td>\n",
       "      <td>2.0</td>\n",
       "      <td>CHICAGO</td>\n",
       "      <td>IL</td>\n",
       "      <td>NaN</td>\n",
       "      <td>NaN</td>\n",
       "      <td>NaN</td>\n",
       "      <td>1006</td>\n",
       "      <td>2418937.0</td>\n",
       "      <td>RENEW</td>\n",
       "      <td>41.785769</td>\n",
       "      <td>-87.728552</td>\n",
       "      <td>NaN</td>\n",
       "    </tr>\n",
       "    <tr>\n",
       "      <th>108800</th>\n",
       "      <td>2060315.0</td>\n",
       "      <td>357005.0</td>\n",
       "      <td>1.0</td>\n",
       "      <td>EVANSTON</td>\n",
       "      <td>IL</td>\n",
       "      <td>NaN</td>\n",
       "      <td>NaN</td>\n",
       "      <td>NaN</td>\n",
       "      <td>1010</td>\n",
       "      <td>2060315.0</td>\n",
       "      <td>ISSUE</td>\n",
       "      <td>41.969795</td>\n",
       "      <td>-87.659838</td>\n",
       "      <td>NaN</td>\n",
       "    </tr>\n",
       "    <tr>\n",
       "      <th>114253</th>\n",
       "      <td>2523821.0</td>\n",
       "      <td>415890.0</td>\n",
       "      <td>1.0</td>\n",
       "      <td>CHICAGO</td>\n",
       "      <td>IL</td>\n",
       "      <td>NaN</td>\n",
       "      <td>21.0</td>\n",
       "      <td>1.0</td>\n",
       "      <td>1006</td>\n",
       "      <td>2523821.0</td>\n",
       "      <td>ISSUE</td>\n",
       "      <td>41.884188</td>\n",
       "      <td>-87.64112</td>\n",
       "      <td>NaN</td>\n",
       "    </tr>\n",
       "    <tr>\n",
       "      <th>114296</th>\n",
       "      <td>2298412.0</td>\n",
       "      <td>386358.0</td>\n",
       "      <td>2.0</td>\n",
       "      <td>CHICAGO</td>\n",
       "      <td>IL</td>\n",
       "      <td>NaN</td>\n",
       "      <td>NaN</td>\n",
       "      <td>NaN</td>\n",
       "      <td>1010</td>\n",
       "      <td>2298412.0</td>\n",
       "      <td>ISSUE</td>\n",
       "      <td>NaN</td>\n",
       "      <td>NaN</td>\n",
       "      <td>NaN</td>\n",
       "    </tr>\n",
       "    <tr>\n",
       "      <th>132044</th>\n",
       "      <td>1456082.0</td>\n",
       "      <td>42055.0</td>\n",
       "      <td>1.0</td>\n",
       "      <td>GURNEE</td>\n",
       "      <td>IL</td>\n",
       "      <td>NaN</td>\n",
       "      <td>3.0</td>\n",
       "      <td>20.0</td>\n",
       "      <td>1525.0</td>\n",
       "      <td>62384.0</td>\n",
       "      <td>RENEW</td>\n",
       "      <td>NaN</td>\n",
       "      <td>NaN</td>\n",
       "      <td>NaN</td>\n",
       "    </tr>\n",
       "    <tr>\n",
       "      <th>139335</th>\n",
       "      <td>2060313.0</td>\n",
       "      <td>357005.0</td>\n",
       "      <td>1.0</td>\n",
       "      <td>EVANSTON</td>\n",
       "      <td>IL</td>\n",
       "      <td>NaN</td>\n",
       "      <td>NaN</td>\n",
       "      <td>NaN</td>\n",
       "      <td>1781.0</td>\n",
       "      <td>2060313.0</td>\n",
       "      <td>ISSUE</td>\n",
       "      <td>41.969795</td>\n",
       "      <td>-87.659838</td>\n",
       "      <td>NaN</td>\n",
       "    </tr>\n",
       "    <tr>\n",
       "      <th>142519</th>\n",
       "      <td>2265830.0</td>\n",
       "      <td>63682.0</td>\n",
       "      <td>5.0</td>\n",
       "      <td>CHICAGO</td>\n",
       "      <td>IL</td>\n",
       "      <td>NaN</td>\n",
       "      <td>5.0</td>\n",
       "      <td>24.0</td>\n",
       "      <td>1006.0</td>\n",
       "      <td>1515116.0</td>\n",
       "      <td>RENEW</td>\n",
       "      <td>42.019032</td>\n",
       "      <td>-87.673459</td>\n",
       "      <td>NaN</td>\n",
       "    </tr>\n",
       "  </tbody>\n",
       "</table>\n",
       "</div>"
      ],
      "text/plain": [
       "        LICENSE ID  ACCOUNT NUMBER  SITE NUMBER      CITY STATE ZIP CODE  \\\n",
       "3327     1341459.0          7049.0          4.0   CHICAGO    IL      NaN   \n",
       "3859     2196802.0         64342.0          8.0   CHICAGO    IL      NaN   \n",
       "5056     1232380.0          7049.0          4.0   CHICAGO    IL      NaN   \n",
       "6426     2103590.0         63584.0         97.0   CHICAGO    IL      NaN   \n",
       "6742     2303508.0        369630.0          1.0   CHICAGO    IL      NaN   \n",
       "7456     2129487.0        368011.0          1.0   CHICAGO    IL      NaN   \n",
       "15275    2124609.0        367163.0          1.0   CHICAGO    IL      NaN   \n",
       "15482    2103591.0         63584.0         97.0   CHICAGO    IL      NaN   \n",
       "23917    1200768.0         64307.0          5.0   CHICAGO    IL      NaN   \n",
       "25720    2370313.0         64342.0          8.0   CHICAGO    IL      NaN   \n",
       "25757    2104467.0          8345.0          7.0   CHICAGO    IL      NaN   \n",
       "27223    2196403.0         64342.0          7.0   CHICAGO    IL      NaN   \n",
       "43194    2069563.0        358411.0          1.0   CHICAGO    IL      NaN   \n",
       "45175    2172888.0          8345.0          7.0   CHICAGO    IL      NaN   \n",
       "48739    1308672.0         64307.0          5.0   CHICAGO    IL      NaN   \n",
       "50855    2137508.0        369335.0          1.0   CHICAGO    IL      NaN   \n",
       "50887    2441779.0        369630.0          1.0   CHICAGO    IL      NaN   \n",
       "53238    2292696.0        368011.0          1.0   CHICAGO    IL      NaN   \n",
       "57978    2163574.0        373601.0          1.0   CHICAGO    IL      NaN   \n",
       "59977    2108377.0        364546.0          1.0   CHICAGO    IL      NaN   \n",
       "60688    2189588.0        376033.0          1.0   CHICAGO    IL      NaN   \n",
       "60926    2152733.0        371891.0          1.0   CHICAGO    IL      NaN   \n",
       "62594    2088577.0        360949.0          1.0   CHICAGO    IL      NaN   \n",
       "64742    2288301.0        367163.0          1.0   CHICAGO    IL      NaN   \n",
       "68351    2138250.0        369630.0          1.0   CHICAGO    IL      NaN   \n",
       "71240    1212546.0         60384.0          1.0   CHICAGO    IL      NaN   \n",
       "73976    2223393.0         64342.0          8.0   CHICAGO    IL      NaN   \n",
       "77460    2084502.0        360289.0          1.0   CHICAGO    IL      NaN   \n",
       "78886    1214937.0         85544.0          2.0   CHICAGO    IL      NaN   \n",
       "82001    2426891.0        367163.0          1.0   CHICAGO    IL      NaN   \n",
       "84686    2108389.0        364558.0          1.0   CHICAGO    IL      NaN   \n",
       "89052    2298870.0        386690.0          1.0   CHICAGO    IL      NaN   \n",
       "95005    2457902.0        404960.0          1.0    CICERO    IL      NaN   \n",
       "98995    2483561.0        408754.0          1.0   CHICAGO    IL      NaN   \n",
       "106214   2541509.0        400180.0          1.0   CHICAGO    IL      NaN   \n",
       "106859   2487678.0        409238.0          1.0   CHICAGO    IL      NaN   \n",
       "107938   2462528.0        387624.0          2.0   CHICAGO    IL      NaN   \n",
       "108800   2060315.0        357005.0          1.0  EVANSTON    IL      NaN   \n",
       "114253   2523821.0        415890.0          1.0   CHICAGO    IL      NaN   \n",
       "114296   2298412.0        386358.0          2.0   CHICAGO    IL      NaN   \n",
       "132044   1456082.0         42055.0          1.0    GURNEE    IL      NaN   \n",
       "139335   2060313.0        357005.0          1.0  EVANSTON    IL      NaN   \n",
       "142519   2265830.0         63682.0          5.0   CHICAGO    IL      NaN   \n",
       "\n",
       "       PRECINCT POLICE DISTRICT LICENSE CODE LICENSE NUMBER APPLICATION TYPE  \\\n",
       "3327        NaN             NaN         1010        17256.0            RENEW   \n",
       "3859        NaN             NaN         1010      2196802.0            ISSUE   \n",
       "5056        NaN             NaN         1010        17256.0            RENEW   \n",
       "6426        NaN             NaN         1008      2103590.0            ISSUE   \n",
       "6742        NaN             NaN         1010      2138250.0            RENEW   \n",
       "7456        NaN             NaN         1010      2129487.0            ISSUE   \n",
       "15275       NaN             NaN         1010      2124609.0            ISSUE   \n",
       "15482       NaN             NaN         1010      2103591.0            ISSUE   \n",
       "23917       NaN             NaN         1010        55007.0            RENEW   \n",
       "25720       NaN             NaN         1010      2196802.0            RENEW   \n",
       "25757       NaN             NaN         1010      2104467.0            ISSUE   \n",
       "27223       NaN             NaN         1010      2196403.0            ISSUE   \n",
       "43194       NaN             NaN         1010      2069563.0            ISSUE   \n",
       "45175       NaN             NaN         1010      2104467.0            RENEW   \n",
       "48739       NaN             NaN         1010        55007.0            RENEW   \n",
       "50855      40.0            24.0         1020      2137508.0            ISSUE   \n",
       "50887       NaN             NaN         1010      2138250.0            RENEW   \n",
       "53238       NaN             NaN         1010      2129487.0            RENEW   \n",
       "57978       NaN             NaN         1012      2163574.0            ISSUE   \n",
       "59977       NaN             NaN         1010      2108377.0            ISSUE   \n",
       "60688       NaN             NaN         1012      2189588.0            ISSUE   \n",
       "60926       NaN             NaN         1010      2152733.0            ISSUE   \n",
       "62594       NaN             NaN         1020      2088577.0            ISSUE   \n",
       "64742       NaN             NaN         1010      2124609.0            RENEW   \n",
       "68351       NaN             NaN         1010      2138250.0            ISSUE   \n",
       "71240       NaN             NaN         1010      1093951.0            RENEW   \n",
       "73976       NaN             NaN         1010      2196802.0            RENEW   \n",
       "77460       NaN             NaN         1012      2084502.0            ISSUE   \n",
       "78886       NaN             NaN         1010        21897.0            RENEW   \n",
       "82001       NaN             NaN         1010      2124609.0            RENEW   \n",
       "84686       NaN             NaN         1012      2108389.0            ISSUE   \n",
       "89052       NaN             NaN         4404      2298870.0            ISSUE   \n",
       "95005       NaN             NaN         4404      2457902.0            ISSUE   \n",
       "98995      21.0             1.0         1006      2483561.0            ISSUE   \n",
       "106214      NaN             NaN         1010      2418530.0            RENEW   \n",
       "106859      3.0            25.0         1010      2487678.0            ISSUE   \n",
       "107938      NaN             NaN         1006      2418937.0            RENEW   \n",
       "108800      NaN             NaN         1010      2060315.0            ISSUE   \n",
       "114253     21.0             1.0         1006      2523821.0            ISSUE   \n",
       "114296      NaN             NaN         1010      2298412.0            ISSUE   \n",
       "132044      3.0            20.0       1525.0        62384.0            RENEW   \n",
       "139335      NaN             NaN       1781.0      2060313.0            ISSUE   \n",
       "142519      5.0            24.0       1006.0      1515116.0            RENEW   \n",
       "\n",
       "            LATITUDE           LONGITUDE LICENSE STATUS  \n",
       "3327       41.738136           -87.74112            AAI  \n",
       "3859             NaN                 NaN            AAI  \n",
       "5056       41.738136           -87.74112            AAI  \n",
       "6426       41.995029          -87.885823            AAC  \n",
       "6742             NaN                 NaN            AAI  \n",
       "7456       41.881683          -87.659667            AAI  \n",
       "15275            NaN                 NaN            AAI  \n",
       "15482      41.995029          -87.885823            AAC  \n",
       "23917            NaN                 NaN            AAI  \n",
       "25720            NaN                 NaN            AAI  \n",
       "25757      41.888399          -87.623954            AAI  \n",
       "27223            NaN                 NaN            AAC  \n",
       "43194      41.953543           -87.72726            AAI  \n",
       "45175      41.888399          -87.623954            AAI  \n",
       "48739            NaN                 NaN            AAI  \n",
       "50855      42.001418          -87.708433            AAC  \n",
       "50887            NaN                 NaN            AAI  \n",
       "53238      41.881683          -87.659667            AAI  \n",
       "57978      41.877526          -87.624447            AAC  \n",
       "59977      41.969383          -87.688783            AAI  \n",
       "60688            NaN                 NaN            AAC  \n",
       "60926      41.895647          -87.648854            AAI  \n",
       "62594       42.00142          -87.708306            AAC  \n",
       "64742            NaN                 NaN            AAI  \n",
       "68351            NaN                 NaN            AAI  \n",
       "71240            NaN                 NaN            AAC  \n",
       "73976            NaN                 NaN            AAI  \n",
       "77460      41.882156          -87.763339            AAC  \n",
       "78886            NaN                 NaN            AAI  \n",
       "82001            NaN                 NaN            AAI  \n",
       "84686   41.927100264  -87.65264860200001            AAC  \n",
       "89052            NaN                 NaN            NaN  \n",
       "95005            NaN                 NaN            NaN  \n",
       "98995      41.884188           -87.64112            NaN  \n",
       "106214     41.750921          -87.611137            NaN  \n",
       "106859     41.923497          -87.794313            NaN  \n",
       "107938     41.785769          -87.728552            NaN  \n",
       "108800     41.969795          -87.659838            NaN  \n",
       "114253     41.884188           -87.64112            NaN  \n",
       "114296           NaN                 NaN            NaN  \n",
       "132044           NaN                 NaN            NaN  \n",
       "139335     41.969795          -87.659838            NaN  \n",
       "142519     42.019032          -87.673459            NaN  "
      ]
     },
     "execution_count": 44,
     "metadata": {},
     "output_type": "execute_result"
    }
   ],
   "source": [
    "df[df['ZIP CODE'].isna()]"
   ]
  },
  {
   "cell_type": "code",
   "execution_count": 45,
   "id": "1c8c38ba",
   "metadata": {},
   "outputs": [],
   "source": [
    "df['ZIP CODE'] = df['ZIP CODE'].fillna(df['ZIP CODE'].mode()[0])"
   ]
  },
  {
   "cell_type": "code",
   "execution_count": 46,
   "id": "92e8d541",
   "metadata": {},
   "outputs": [],
   "source": [
    "# df['ZIP CODE'] = pd.to_numeric(df['ZIP CODE'],errors = 'coerce').astype('Int32')"
   ]
  },
  {
   "cell_type": "code",
   "execution_count": 47,
   "id": "b98efa80",
   "metadata": {
    "scrolled": true
   },
   "outputs": [
    {
     "data": {
      "text/plain": [
       "0"
      ]
     },
     "execution_count": 47,
     "metadata": {},
     "output_type": "execute_result"
    }
   ],
   "source": [
    "df['ZIP CODE'].isna().sum()"
   ]
  },
  {
   "cell_type": "code",
   "execution_count": 48,
   "id": "52a3a04d",
   "metadata": {},
   "outputs": [
    {
     "data": {
      "text/html": [
       "<div>\n",
       "<style scoped>\n",
       "    .dataframe tbody tr th:only-of-type {\n",
       "        vertical-align: middle;\n",
       "    }\n",
       "\n",
       "    .dataframe tbody tr th {\n",
       "        vertical-align: top;\n",
       "    }\n",
       "\n",
       "    .dataframe thead th {\n",
       "        text-align: right;\n",
       "    }\n",
       "</style>\n",
       "<table border=\"1\" class=\"dataframe\">\n",
       "  <thead>\n",
       "    <tr style=\"text-align: right;\">\n",
       "      <th></th>\n",
       "      <th>LICENSE ID</th>\n",
       "      <th>ACCOUNT NUMBER</th>\n",
       "      <th>SITE NUMBER</th>\n",
       "      <th>CITY</th>\n",
       "      <th>STATE</th>\n",
       "      <th>ZIP CODE</th>\n",
       "      <th>PRECINCT</th>\n",
       "      <th>POLICE DISTRICT</th>\n",
       "      <th>LICENSE CODE</th>\n",
       "      <th>LICENSE NUMBER</th>\n",
       "      <th>APPLICATION TYPE</th>\n",
       "      <th>LATITUDE</th>\n",
       "      <th>LONGITUDE</th>\n",
       "      <th>LICENSE STATUS</th>\n",
       "    </tr>\n",
       "  </thead>\n",
       "  <tbody>\n",
       "  </tbody>\n",
       "</table>\n",
       "</div>"
      ],
      "text/plain": [
       "Empty DataFrame\n",
       "Columns: [LICENSE ID, ACCOUNT NUMBER, SITE NUMBER, CITY, STATE, ZIP CODE, PRECINCT, POLICE DISTRICT, LICENSE CODE, LICENSE NUMBER, APPLICATION TYPE, LATITUDE, LONGITUDE, LICENSE STATUS]\n",
       "Index: []"
      ]
     },
     "execution_count": 48,
     "metadata": {},
     "output_type": "execute_result"
    }
   ],
   "source": [
    "df[df['ZIP CODE'].isna()]"
   ]
  },
  {
   "cell_type": "markdown",
   "id": "690f2351",
   "metadata": {},
   "source": [
    "#### 'PRECINCT'"
   ]
  },
  {
   "cell_type": "code",
   "execution_count": 49,
   "id": "bfa5d112",
   "metadata": {},
   "outputs": [
    {
     "data": {
      "text/plain": [
       "58279"
      ]
     },
     "execution_count": 49,
     "metadata": {},
     "output_type": "execute_result"
    }
   ],
   "source": [
    "df['PRECINCT'].isna().sum()"
   ]
  },
  {
   "cell_type": "code",
   "execution_count": 50,
   "id": "4b0d1569",
   "metadata": {},
   "outputs": [],
   "source": [
    "df['PRECINCT'] = df['PRECINCT'].fillna(df['PRECINCT'].mode()[0])"
   ]
  },
  {
   "cell_type": "code",
   "execution_count": 51,
   "id": "bc6a7e26",
   "metadata": {},
   "outputs": [],
   "source": [
    "# Converting object Data type to float64\n",
    "\n",
    "df['PRECINCT'] = pd.to_numeric(df['PRECINCT'], errors = 'coerce').astype('float64')"
   ]
  },
  {
   "cell_type": "code",
   "execution_count": 52,
   "id": "541bc88b",
   "metadata": {},
   "outputs": [
    {
     "data": {
      "text/html": [
       "<div>\n",
       "<style scoped>\n",
       "    .dataframe tbody tr th:only-of-type {\n",
       "        vertical-align: middle;\n",
       "    }\n",
       "\n",
       "    .dataframe tbody tr th {\n",
       "        vertical-align: top;\n",
       "    }\n",
       "\n",
       "    .dataframe thead th {\n",
       "        text-align: right;\n",
       "    }\n",
       "</style>\n",
       "<table border=\"1\" class=\"dataframe\">\n",
       "  <thead>\n",
       "    <tr style=\"text-align: right;\">\n",
       "      <th></th>\n",
       "      <th>LICENSE ID</th>\n",
       "      <th>ACCOUNT NUMBER</th>\n",
       "      <th>SITE NUMBER</th>\n",
       "      <th>CITY</th>\n",
       "      <th>STATE</th>\n",
       "      <th>ZIP CODE</th>\n",
       "      <th>PRECINCT</th>\n",
       "      <th>POLICE DISTRICT</th>\n",
       "      <th>LICENSE CODE</th>\n",
       "      <th>LICENSE NUMBER</th>\n",
       "      <th>APPLICATION TYPE</th>\n",
       "      <th>LATITUDE</th>\n",
       "      <th>LONGITUDE</th>\n",
       "      <th>LICENSE STATUS</th>\n",
       "    </tr>\n",
       "  </thead>\n",
       "  <tbody>\n",
       "  </tbody>\n",
       "</table>\n",
       "</div>"
      ],
      "text/plain": [
       "Empty DataFrame\n",
       "Columns: [LICENSE ID, ACCOUNT NUMBER, SITE NUMBER, CITY, STATE, ZIP CODE, PRECINCT, POLICE DISTRICT, LICENSE CODE, LICENSE NUMBER, APPLICATION TYPE, LATITUDE, LONGITUDE, LICENSE STATUS]\n",
       "Index: []"
      ]
     },
     "execution_count": 52,
     "metadata": {},
     "output_type": "execute_result"
    }
   ],
   "source": [
    "df[df['PRECINCT'].isna()]"
   ]
  },
  {
   "cell_type": "code",
   "execution_count": 53,
   "id": "85d2ece9",
   "metadata": {},
   "outputs": [
    {
     "data": {
      "text/plain": [
       "0"
      ]
     },
     "execution_count": 53,
     "metadata": {},
     "output_type": "execute_result"
    }
   ],
   "source": [
    "df['PRECINCT'].isna().sum()"
   ]
  },
  {
   "cell_type": "markdown",
   "id": "fd9f2730",
   "metadata": {},
   "source": [
    "#### POLICE DISTRICT"
   ]
  },
  {
   "cell_type": "code",
   "execution_count": 54,
   "id": "c55733a5",
   "metadata": {},
   "outputs": [
    {
     "data": {
      "text/plain": [
       "55487"
      ]
     },
     "execution_count": 54,
     "metadata": {},
     "output_type": "execute_result"
    }
   ],
   "source": [
    "df['POLICE DISTRICT'].isna().sum()"
   ]
  },
  {
   "cell_type": "code",
   "execution_count": 55,
   "id": "374de6c3",
   "metadata": {},
   "outputs": [
    {
     "data": {
      "text/plain": [
       "0         10.0\n",
       "1         17.0\n",
       "2          NaN\n",
       "3          NaN\n",
       "4          NaN\n",
       "          ... \n",
       "143136     8.0\n",
       "143137    18.0\n",
       "143138    19.0\n",
       "143139     8.0\n",
       "143140     8.0\n",
       "Name: POLICE DISTRICT, Length: 143134, dtype: object"
      ]
     },
     "execution_count": 55,
     "metadata": {},
     "output_type": "execute_result"
    }
   ],
   "source": [
    "df['POLICE DISTRICT']"
   ]
  },
  {
   "cell_type": "code",
   "execution_count": 56,
   "id": "cb9f4732",
   "metadata": {},
   "outputs": [],
   "source": [
    "df['POLICE DISTRICT'] = df['POLICE DISTRICT'].fillna(df['POLICE DISTRICT'].mode()[0])"
   ]
  },
  {
   "cell_type": "code",
   "execution_count": 57,
   "id": "ceffe5c2",
   "metadata": {},
   "outputs": [
    {
     "data": {
      "text/plain": [
       "0"
      ]
     },
     "execution_count": 57,
     "metadata": {},
     "output_type": "execute_result"
    }
   ],
   "source": [
    "df['POLICE DISTRICT'].isna().sum()"
   ]
  },
  {
   "cell_type": "code",
   "execution_count": 58,
   "id": "c0a181c8",
   "metadata": {
    "scrolled": true
   },
   "outputs": [],
   "source": [
    "# Converting object Data type to float64\n",
    "df['POLICE DISTRICT'] = pd.to_numeric(df['POLICE DISTRICT'], errors = 'coerce').astype('float64')"
   ]
  },
  {
   "cell_type": "code",
   "execution_count": 59,
   "id": "df5e74f7",
   "metadata": {},
   "outputs": [
    {
     "data": {
      "text/plain": [
       "0         10.0\n",
       "1         17.0\n",
       "2         18.0\n",
       "3         18.0\n",
       "4         18.0\n",
       "          ... \n",
       "143136     8.0\n",
       "143137    18.0\n",
       "143138    19.0\n",
       "143139     8.0\n",
       "143140     8.0\n",
       "Name: POLICE DISTRICT, Length: 143134, dtype: float64"
      ]
     },
     "execution_count": 59,
     "metadata": {},
     "output_type": "execute_result"
    }
   ],
   "source": [
    "df['POLICE DISTRICT']"
   ]
  },
  {
   "cell_type": "code",
   "execution_count": 60,
   "id": "cb33f52b",
   "metadata": {},
   "outputs": [
    {
     "data": {
      "text/plain": [
       "0"
      ]
     },
     "execution_count": 60,
     "metadata": {},
     "output_type": "execute_result"
    }
   ],
   "source": [
    "df['POLICE DISTRICT'].isna().sum()"
   ]
  },
  {
   "cell_type": "markdown",
   "id": "9b124fda",
   "metadata": {},
   "source": [
    "#### 'LICENSE CODE'"
   ]
  },
  {
   "cell_type": "code",
   "execution_count": 61,
   "id": "81e8910a",
   "metadata": {},
   "outputs": [
    {
     "data": {
      "text/plain": [
       "0"
      ]
     },
     "execution_count": 61,
     "metadata": {},
     "output_type": "execute_result"
    }
   ],
   "source": [
    "df['LICENSE CODE'].isna().sum()"
   ]
  },
  {
   "cell_type": "code",
   "execution_count": 62,
   "id": "05cec065",
   "metadata": {},
   "outputs": [
    {
     "data": {
      "text/html": [
       "<div>\n",
       "<style scoped>\n",
       "    .dataframe tbody tr th:only-of-type {\n",
       "        vertical-align: middle;\n",
       "    }\n",
       "\n",
       "    .dataframe tbody tr th {\n",
       "        vertical-align: top;\n",
       "    }\n",
       "\n",
       "    .dataframe thead th {\n",
       "        text-align: right;\n",
       "    }\n",
       "</style>\n",
       "<table border=\"1\" class=\"dataframe\">\n",
       "  <thead>\n",
       "    <tr style=\"text-align: right;\">\n",
       "      <th></th>\n",
       "      <th>LICENSE ID</th>\n",
       "      <th>ACCOUNT NUMBER</th>\n",
       "      <th>SITE NUMBER</th>\n",
       "      <th>CITY</th>\n",
       "      <th>STATE</th>\n",
       "      <th>ZIP CODE</th>\n",
       "      <th>PRECINCT</th>\n",
       "      <th>POLICE DISTRICT</th>\n",
       "      <th>LICENSE CODE</th>\n",
       "      <th>LICENSE NUMBER</th>\n",
       "      <th>APPLICATION TYPE</th>\n",
       "      <th>LATITUDE</th>\n",
       "      <th>LONGITUDE</th>\n",
       "      <th>LICENSE STATUS</th>\n",
       "    </tr>\n",
       "  </thead>\n",
       "  <tbody>\n",
       "  </tbody>\n",
       "</table>\n",
       "</div>"
      ],
      "text/plain": [
       "Empty DataFrame\n",
       "Columns: [LICENSE ID, ACCOUNT NUMBER, SITE NUMBER, CITY, STATE, ZIP CODE, PRECINCT, POLICE DISTRICT, LICENSE CODE, LICENSE NUMBER, APPLICATION TYPE, LATITUDE, LONGITUDE, LICENSE STATUS]\n",
       "Index: []"
      ]
     },
     "execution_count": 62,
     "metadata": {},
     "output_type": "execute_result"
    }
   ],
   "source": [
    "df[df['LICENSE CODE'].isna()]"
   ]
  },
  {
   "cell_type": "code",
   "execution_count": 63,
   "id": "301f8dcf",
   "metadata": {},
   "outputs": [
    {
     "data": {
      "text/plain": [
       "237"
      ]
     },
     "execution_count": 63,
     "metadata": {},
     "output_type": "execute_result"
    }
   ],
   "source": [
    "df['LICENSE CODE'].nunique()"
   ]
  },
  {
   "cell_type": "code",
   "execution_count": 64,
   "id": "f6e34581",
   "metadata": {},
   "outputs": [],
   "source": [
    "# filling nan values by most frequent record\n",
    "\n",
    "df['LICENSE CODE'] = df['LICENSE CODE'].fillna(df['LICENSE CODE'].mode()[0])"
   ]
  },
  {
   "cell_type": "code",
   "execution_count": 65,
   "id": "d1a56c3d",
   "metadata": {},
   "outputs": [
    {
     "data": {
      "text/plain": [
       "0"
      ]
     },
     "execution_count": 65,
     "metadata": {},
     "output_type": "execute_result"
    }
   ],
   "source": [
    "df['LICENSE CODE'].isna().sum()"
   ]
  },
  {
   "cell_type": "code",
   "execution_count": 66,
   "id": "7d0e4b5a",
   "metadata": {},
   "outputs": [],
   "source": [
    "df['LICENSE CODE'] = pd.to_numeric(df['LICENSE CODE'], errors  = 'coerce').astype('float64')"
   ]
  },
  {
   "cell_type": "code",
   "execution_count": 67,
   "id": "777f6666",
   "metadata": {},
   "outputs": [
    {
     "data": {
      "text/plain": [
       "0         1010.0\n",
       "1         1315.0\n",
       "2         1011.0\n",
       "3         1010.0\n",
       "4         1010.0\n",
       "           ...  \n",
       "143136    1010.0\n",
       "143137    1002.0\n",
       "143138    1010.0\n",
       "143139    1012.0\n",
       "143140    1012.0\n",
       "Name: LICENSE CODE, Length: 143134, dtype: float64"
      ]
     },
     "execution_count": 67,
     "metadata": {},
     "output_type": "execute_result"
    }
   ],
   "source": [
    "df['LICENSE CODE']"
   ]
  },
  {
   "cell_type": "code",
   "execution_count": 68,
   "id": "8783b1c7",
   "metadata": {},
   "outputs": [
    {
     "data": {
      "text/html": [
       "<div>\n",
       "<style scoped>\n",
       "    .dataframe tbody tr th:only-of-type {\n",
       "        vertical-align: middle;\n",
       "    }\n",
       "\n",
       "    .dataframe tbody tr th {\n",
       "        vertical-align: top;\n",
       "    }\n",
       "\n",
       "    .dataframe thead th {\n",
       "        text-align: right;\n",
       "    }\n",
       "</style>\n",
       "<table border=\"1\" class=\"dataframe\">\n",
       "  <thead>\n",
       "    <tr style=\"text-align: right;\">\n",
       "      <th></th>\n",
       "      <th>LICENSE ID</th>\n",
       "      <th>ACCOUNT NUMBER</th>\n",
       "      <th>SITE NUMBER</th>\n",
       "      <th>CITY</th>\n",
       "      <th>STATE</th>\n",
       "      <th>ZIP CODE</th>\n",
       "      <th>PRECINCT</th>\n",
       "      <th>POLICE DISTRICT</th>\n",
       "      <th>LICENSE CODE</th>\n",
       "      <th>LICENSE NUMBER</th>\n",
       "      <th>APPLICATION TYPE</th>\n",
       "      <th>LATITUDE</th>\n",
       "      <th>LONGITUDE</th>\n",
       "      <th>LICENSE STATUS</th>\n",
       "    </tr>\n",
       "  </thead>\n",
       "  <tbody>\n",
       "  </tbody>\n",
       "</table>\n",
       "</div>"
      ],
      "text/plain": [
       "Empty DataFrame\n",
       "Columns: [LICENSE ID, ACCOUNT NUMBER, SITE NUMBER, CITY, STATE, ZIP CODE, PRECINCT, POLICE DISTRICT, LICENSE CODE, LICENSE NUMBER, APPLICATION TYPE, LATITUDE, LONGITUDE, LICENSE STATUS]\n",
       "Index: []"
      ]
     },
     "execution_count": 68,
     "metadata": {},
     "output_type": "execute_result"
    }
   ],
   "source": [
    "df[df['LICENSE CODE'].isna()]"
   ]
  },
  {
   "cell_type": "code",
   "execution_count": 69,
   "id": "2533fed7",
   "metadata": {},
   "outputs": [
    {
     "data": {
      "text/plain": [
       "Index(['LICENSE ID', 'ACCOUNT NUMBER', 'SITE NUMBER', 'CITY', 'STATE',\n",
       "       'ZIP CODE', 'PRECINCT', 'POLICE DISTRICT', 'LICENSE CODE',\n",
       "       'LICENSE NUMBER', 'APPLICATION TYPE', 'LATITUDE', 'LONGITUDE',\n",
       "       'LICENSE STATUS'],\n",
       "      dtype='object')"
      ]
     },
     "execution_count": 69,
     "metadata": {},
     "output_type": "execute_result"
    }
   ],
   "source": [
    "df.columns"
   ]
  },
  {
   "cell_type": "markdown",
   "id": "44bf9a7f",
   "metadata": {},
   "source": [
    "##### LICENSE NUMBER"
   ]
  },
  {
   "cell_type": "code",
   "execution_count": 70,
   "id": "2890ac25",
   "metadata": {},
   "outputs": [
    {
     "data": {
      "text/plain": [
       "0           35342.0\n",
       "1         1358463.0\n",
       "2         1980233.0\n",
       "3         1476582.0\n",
       "4         1141408.0\n",
       "            ...    \n",
       "143136    1743194.0\n",
       "143137    2032383.0\n",
       "143138      40376.0\n",
       "143139    2064176.0\n",
       "143140    1954052.0\n",
       "Name: LICENSE NUMBER, Length: 143134, dtype: object"
      ]
     },
     "execution_count": 70,
     "metadata": {},
     "output_type": "execute_result"
    }
   ],
   "source": [
    "df['LICENSE NUMBER']"
   ]
  },
  {
   "cell_type": "code",
   "execution_count": 71,
   "id": "92c46d98",
   "metadata": {},
   "outputs": [
    {
     "data": {
      "text/plain": [
       "1"
      ]
     },
     "execution_count": 71,
     "metadata": {},
     "output_type": "execute_result"
    }
   ],
   "source": [
    "df['LICENSE NUMBER'].isna().sum()"
   ]
  },
  {
   "cell_type": "code",
   "execution_count": 72,
   "id": "5d7a0b65",
   "metadata": {},
   "outputs": [],
   "source": [
    "df['LICENSE NUMBER'] = df['LICENSE NUMBER'].fillna(df['LICENSE NUMBER'].mode()[0])"
   ]
  },
  {
   "cell_type": "code",
   "execution_count": 73,
   "id": "3351f263",
   "metadata": {},
   "outputs": [
    {
     "data": {
      "text/plain": [
       "0"
      ]
     },
     "execution_count": 73,
     "metadata": {},
     "output_type": "execute_result"
    }
   ],
   "source": [
    "df['LICENSE NUMBER'].isna().sum()"
   ]
  },
  {
   "cell_type": "code",
   "execution_count": 74,
   "id": "fe23077c",
   "metadata": {},
   "outputs": [],
   "source": [
    "df['LICENSE NUMBER']  = pd.to_numeric(df['LICENSE NUMBER'], errors  = 'coerce').astype('float64')"
   ]
  },
  {
   "cell_type": "markdown",
   "id": "f4d1b6ce",
   "metadata": {},
   "source": [
    "### APPLICATION TYPE"
   ]
  },
  {
   "cell_type": "code",
   "execution_count": 75,
   "id": "3cdf31a1",
   "metadata": {},
   "outputs": [
    {
     "data": {
      "text/plain": [
       "RENEW     105221\n",
       "ISSUE      35770\n",
       "C_LOC       2081\n",
       "C_EXPA        33\n",
       "C_CAPA        24\n",
       "C_SBA          5\n",
       "Name: APPLICATION TYPE, dtype: int64"
      ]
     },
     "execution_count": 75,
     "metadata": {},
     "output_type": "execute_result"
    }
   ],
   "source": [
    "df['APPLICATION TYPE'].value_counts()"
   ]
  },
  {
   "cell_type": "code",
   "execution_count": 76,
   "id": "fd894e1b",
   "metadata": {},
   "outputs": [
    {
     "data": {
      "text/plain": [
       "6"
      ]
     },
     "execution_count": 76,
     "metadata": {},
     "output_type": "execute_result"
    }
   ],
   "source": [
    "df['APPLICATION TYPE'].nunique()"
   ]
  },
  {
   "cell_type": "code",
   "execution_count": 77,
   "id": "9618e27f",
   "metadata": {},
   "outputs": [
    {
     "data": {
      "text/plain": [
       "0"
      ]
     },
     "execution_count": 77,
     "metadata": {},
     "output_type": "execute_result"
    }
   ],
   "source": [
    "df['APPLICATION TYPE'].isnull().sum()"
   ]
  },
  {
   "cell_type": "code",
   "execution_count": 78,
   "id": "b6402878",
   "metadata": {},
   "outputs": [
    {
     "data": {
      "text/html": [
       "<div>\n",
       "<style scoped>\n",
       "    .dataframe tbody tr th:only-of-type {\n",
       "        vertical-align: middle;\n",
       "    }\n",
       "\n",
       "    .dataframe tbody tr th {\n",
       "        vertical-align: top;\n",
       "    }\n",
       "\n",
       "    .dataframe thead th {\n",
       "        text-align: right;\n",
       "    }\n",
       "</style>\n",
       "<table border=\"1\" class=\"dataframe\">\n",
       "  <thead>\n",
       "    <tr style=\"text-align: right;\">\n",
       "      <th></th>\n",
       "      <th>LICENSE ID</th>\n",
       "      <th>ACCOUNT NUMBER</th>\n",
       "      <th>SITE NUMBER</th>\n",
       "      <th>CITY</th>\n",
       "      <th>STATE</th>\n",
       "      <th>ZIP CODE</th>\n",
       "      <th>PRECINCT</th>\n",
       "      <th>POLICE DISTRICT</th>\n",
       "      <th>LICENSE CODE</th>\n",
       "      <th>LICENSE NUMBER</th>\n",
       "      <th>APPLICATION TYPE</th>\n",
       "      <th>LATITUDE</th>\n",
       "      <th>LONGITUDE</th>\n",
       "      <th>LICENSE STATUS</th>\n",
       "    </tr>\n",
       "  </thead>\n",
       "  <tbody>\n",
       "  </tbody>\n",
       "</table>\n",
       "</div>"
      ],
      "text/plain": [
       "Empty DataFrame\n",
       "Columns: [LICENSE ID, ACCOUNT NUMBER, SITE NUMBER, CITY, STATE, ZIP CODE, PRECINCT, POLICE DISTRICT, LICENSE CODE, LICENSE NUMBER, APPLICATION TYPE, LATITUDE, LONGITUDE, LICENSE STATUS]\n",
       "Index: []"
      ]
     },
     "execution_count": 78,
     "metadata": {},
     "output_type": "execute_result"
    }
   ],
   "source": [
    "df[df['APPLICATION TYPE'].isnull()]"
   ]
  },
  {
   "cell_type": "code",
   "execution_count": 79,
   "id": "08326d99",
   "metadata": {},
   "outputs": [],
   "source": [
    "df['APPLICATION TYPE'] = df['APPLICATION TYPE'].fillna(df['APPLICATION TYPE'].mode()[0])"
   ]
  },
  {
   "cell_type": "code",
   "execution_count": 80,
   "id": "ac22e029",
   "metadata": {},
   "outputs": [
    {
     "data": {
      "text/plain": [
       "0"
      ]
     },
     "execution_count": 80,
     "metadata": {},
     "output_type": "execute_result"
    }
   ],
   "source": [
    "df['APPLICATION TYPE'].isnull().sum()"
   ]
  },
  {
   "cell_type": "code",
   "execution_count": 81,
   "id": "528cb809",
   "metadata": {},
   "outputs": [
    {
     "name": "stdout",
     "output_type": "stream",
     "text": [
      "<class 'pandas.core.frame.DataFrame'>\n",
      "Int64Index: 143134 entries, 0 to 143140\n",
      "Data columns (total 14 columns):\n",
      " #   Column            Non-Null Count   Dtype   \n",
      "---  ------            --------------   -----   \n",
      " 0   LICENSE ID        143134 non-null  float32 \n",
      " 1   ACCOUNT NUMBER    143134 non-null  float32 \n",
      " 2   SITE NUMBER       143134 non-null  float64 \n",
      " 3   CITY              143134 non-null  category\n",
      " 4   STATE             143134 non-null  category\n",
      " 5   ZIP CODE          143134 non-null  object  \n",
      " 6   PRECINCT          143134 non-null  float64 \n",
      " 7   POLICE DISTRICT   143134 non-null  float64 \n",
      " 8   LICENSE CODE      143134 non-null  float64 \n",
      " 9   LICENSE NUMBER    143134 non-null  float64 \n",
      " 10  APPLICATION TYPE  143134 non-null  object  \n",
      " 11  LATITUDE          94978 non-null   object  \n",
      " 12  LONGITUDE         94978 non-null   object  \n",
      " 13  LICENSE STATUS    85895 non-null   object  \n",
      "dtypes: category(2), float32(2), float64(5), object(5)\n",
      "memory usage: 13.6+ MB\n"
     ]
    }
   ],
   "source": [
    "df.info()"
   ]
  },
  {
   "cell_type": "markdown",
   "id": "ee1d98bc",
   "metadata": {},
   "source": [
    "#### LATITUDE"
   ]
  },
  {
   "cell_type": "code",
   "execution_count": 82,
   "id": "265bf1db",
   "metadata": {},
   "outputs": [
    {
     "data": {
      "text/plain": [
       "41.908728562    537\n",
       "41.888074281    292\n",
       "41.819441426    270\n",
       "41.857616887    232\n",
       "41.754660124    172\n",
       "41.892249163    151\n",
       "42.008536401    149\n",
       "41.844511469    149\n",
       "41.881921563    143\n",
       "41.878560154    141\n",
       "Name: LATITUDE, dtype: int64"
      ]
     },
     "execution_count": 82,
     "metadata": {},
     "output_type": "execute_result"
    }
   ],
   "source": [
    "df['LATITUDE'].value_counts().head(10)"
   ]
  },
  {
   "cell_type": "code",
   "execution_count": 83,
   "id": "6e3562dd",
   "metadata": {},
   "outputs": [
    {
     "data": {
      "text/plain": [
       "48156"
      ]
     },
     "execution_count": 83,
     "metadata": {},
     "output_type": "execute_result"
    }
   ],
   "source": [
    "df['LATITUDE'].isnull().sum()"
   ]
  },
  {
   "cell_type": "code",
   "execution_count": 84,
   "id": "f0bb28e4",
   "metadata": {},
   "outputs": [],
   "source": [
    "df['LATITUDE']  = pd.to_numeric(df['LATITUDE'], errors  = 'coerce').astype('float32')"
   ]
  },
  {
   "cell_type": "code",
   "execution_count": 85,
   "id": "d34e5148",
   "metadata": {},
   "outputs": [],
   "source": [
    "df['LATITUDE'] = df['LATITUDE'].fillna(df['LATITUDE'].median())"
   ]
  },
  {
   "cell_type": "code",
   "execution_count": 86,
   "id": "da1b8739",
   "metadata": {},
   "outputs": [
    {
     "data": {
      "text/plain": [
       "0"
      ]
     },
     "execution_count": 86,
     "metadata": {},
     "output_type": "execute_result"
    }
   ],
   "source": [
    "df['LATITUDE'].isna().sum()"
   ]
  },
  {
   "cell_type": "markdown",
   "id": "a41a4f48",
   "metadata": {},
   "source": [
    "#### LONGITUDE"
   ]
  },
  {
   "cell_type": "code",
   "execution_count": 87,
   "id": "22ae4aad",
   "metadata": {},
   "outputs": [
    {
     "data": {
      "text/plain": [
       "48156"
      ]
     },
     "execution_count": 87,
     "metadata": {},
     "output_type": "execute_result"
    }
   ],
   "source": [
    "df['LONGITUDE'].isna().sum()"
   ]
  },
  {
   "cell_type": "code",
   "execution_count": 88,
   "id": "c058531e",
   "metadata": {},
   "outputs": [
    {
     "data": {
      "text/plain": [
       "-87.654726445         537\n",
       "-87.63495520299999    292\n",
       "-87.665375545         270\n",
       "-87.63607109200001    232\n",
       "-87.741384759         172\n",
       "                     ... \n",
       "-87.65426594700001      1\n",
       "-87.668446496           1\n",
       "-87.682944529           1\n",
       "-87.75934058899999      1\n",
       "-87.707872417           1\n",
       "Name: LONGITUDE, Length: 46666, dtype: int64"
      ]
     },
     "execution_count": 88,
     "metadata": {},
     "output_type": "execute_result"
    }
   ],
   "source": [
    "df['LONGITUDE'].value_counts()"
   ]
  },
  {
   "cell_type": "code",
   "execution_count": 89,
   "id": "ae6c5a0c",
   "metadata": {},
   "outputs": [],
   "source": [
    "df['LONGITUDE']  = pd.to_numeric(df['LONGITUDE'], errors  = 'coerce').astype('float32')"
   ]
  },
  {
   "cell_type": "code",
   "execution_count": 90,
   "id": "a69fe894",
   "metadata": {},
   "outputs": [],
   "source": [
    "df['LONGITUDE']  = df['LONGITUDE'].fillna(df['LONGITUDE'].mode()[0])"
   ]
  },
  {
   "cell_type": "code",
   "execution_count": 91,
   "id": "a776afca",
   "metadata": {},
   "outputs": [
    {
     "data": {
      "text/plain": [
       "0"
      ]
     },
     "execution_count": 91,
     "metadata": {},
     "output_type": "execute_result"
    }
   ],
   "source": [
    "df['LONGITUDE'].isna().sum()"
   ]
  },
  {
   "cell_type": "code",
   "execution_count": 92,
   "id": "b1a4cc33",
   "metadata": {},
   "outputs": [
    {
     "data": {
      "text/html": [
       "<div>\n",
       "<style scoped>\n",
       "    .dataframe tbody tr th:only-of-type {\n",
       "        vertical-align: middle;\n",
       "    }\n",
       "\n",
       "    .dataframe tbody tr th {\n",
       "        vertical-align: top;\n",
       "    }\n",
       "\n",
       "    .dataframe thead th {\n",
       "        text-align: right;\n",
       "    }\n",
       "</style>\n",
       "<table border=\"1\" class=\"dataframe\">\n",
       "  <thead>\n",
       "    <tr style=\"text-align: right;\">\n",
       "      <th></th>\n",
       "      <th>LICENSE ID</th>\n",
       "      <th>ACCOUNT NUMBER</th>\n",
       "      <th>SITE NUMBER</th>\n",
       "      <th>CITY</th>\n",
       "      <th>STATE</th>\n",
       "      <th>ZIP CODE</th>\n",
       "      <th>PRECINCT</th>\n",
       "      <th>POLICE DISTRICT</th>\n",
       "      <th>LICENSE CODE</th>\n",
       "      <th>LICENSE NUMBER</th>\n",
       "      <th>APPLICATION TYPE</th>\n",
       "      <th>LATITUDE</th>\n",
       "      <th>LONGITUDE</th>\n",
       "      <th>LICENSE STATUS</th>\n",
       "    </tr>\n",
       "  </thead>\n",
       "  <tbody>\n",
       "    <tr>\n",
       "      <th>0</th>\n",
       "      <td>1256593.0</td>\n",
       "      <td>32811.0</td>\n",
       "      <td>1.0</td>\n",
       "      <td>CHICAGO</td>\n",
       "      <td>IL</td>\n",
       "      <td>60623.0</td>\n",
       "      <td>28.0</td>\n",
       "      <td>10.0</td>\n",
       "      <td>1010.0</td>\n",
       "      <td>35342.0</td>\n",
       "      <td>RENEW</td>\n",
       "      <td>41.843613</td>\n",
       "      <td>-87.714615</td>\n",
       "      <td>AAI</td>\n",
       "    </tr>\n",
       "    <tr>\n",
       "      <th>1</th>\n",
       "      <td>1639294.0</td>\n",
       "      <td>262311.0</td>\n",
       "      <td>29.0</td>\n",
       "      <td>CHICAGO</td>\n",
       "      <td>IL</td>\n",
       "      <td>60618</td>\n",
       "      <td>23.0</td>\n",
       "      <td>17.0</td>\n",
       "      <td>1315.0</td>\n",
       "      <td>1358463.0</td>\n",
       "      <td>RENEW</td>\n",
       "      <td>41.961132</td>\n",
       "      <td>-87.699623</td>\n",
       "      <td>AAC</td>\n",
       "    </tr>\n",
       "    <tr>\n",
       "      <th>2</th>\n",
       "      <td>1980233.0</td>\n",
       "      <td>345008.0</td>\n",
       "      <td>1.0</td>\n",
       "      <td>HIGHLAND</td>\n",
       "      <td>IL</td>\n",
       "      <td>60035</td>\n",
       "      <td>9.0</td>\n",
       "      <td>18.0</td>\n",
       "      <td>1011.0</td>\n",
       "      <td>1980233.0</td>\n",
       "      <td>ISSUE</td>\n",
       "      <td>41.892204</td>\n",
       "      <td>-87.654724</td>\n",
       "      <td>AAI</td>\n",
       "    </tr>\n",
       "    <tr>\n",
       "      <th>3</th>\n",
       "      <td>1476582.0</td>\n",
       "      <td>273121.0</td>\n",
       "      <td>1.0</td>\n",
       "      <td>LEMONT</td>\n",
       "      <td>IL</td>\n",
       "      <td>60439</td>\n",
       "      <td>9.0</td>\n",
       "      <td>18.0</td>\n",
       "      <td>1010.0</td>\n",
       "      <td>1476582.0</td>\n",
       "      <td>ISSUE</td>\n",
       "      <td>41.892204</td>\n",
       "      <td>-87.654724</td>\n",
       "      <td>AAI</td>\n",
       "    </tr>\n",
       "    <tr>\n",
       "      <th>4</th>\n",
       "      <td>1896750.0</td>\n",
       "      <td>213785.0</td>\n",
       "      <td>1.0</td>\n",
       "      <td>WAUKEGAN</td>\n",
       "      <td>IL</td>\n",
       "      <td>60087</td>\n",
       "      <td>9.0</td>\n",
       "      <td>18.0</td>\n",
       "      <td>1010.0</td>\n",
       "      <td>1141408.0</td>\n",
       "      <td>RENEW</td>\n",
       "      <td>41.892204</td>\n",
       "      <td>-87.654724</td>\n",
       "      <td>AAI</td>\n",
       "    </tr>\n",
       "    <tr>\n",
       "      <th>...</th>\n",
       "      <td>...</td>\n",
       "      <td>...</td>\n",
       "      <td>...</td>\n",
       "      <td>...</td>\n",
       "      <td>...</td>\n",
       "      <td>...</td>\n",
       "      <td>...</td>\n",
       "      <td>...</td>\n",
       "      <td>...</td>\n",
       "      <td>...</td>\n",
       "      <td>...</td>\n",
       "      <td>...</td>\n",
       "      <td>...</td>\n",
       "      <td>...</td>\n",
       "    </tr>\n",
       "    <tr>\n",
       "      <th>143136</th>\n",
       "      <td>1835677.0</td>\n",
       "      <td>266103.0</td>\n",
       "      <td>3.0</td>\n",
       "      <td>CHICAGO</td>\n",
       "      <td>IL</td>\n",
       "      <td>60652.0</td>\n",
       "      <td>14.0</td>\n",
       "      <td>8.0</td>\n",
       "      <td>1010.0</td>\n",
       "      <td>1743194.0</td>\n",
       "      <td>RENEW</td>\n",
       "      <td>41.749844</td>\n",
       "      <td>-87.688736</td>\n",
       "      <td>NaN</td>\n",
       "    </tr>\n",
       "    <tr>\n",
       "      <th>143137</th>\n",
       "      <td>2465962.0</td>\n",
       "      <td>63376.0</td>\n",
       "      <td>180.0</td>\n",
       "      <td>CHICAGO</td>\n",
       "      <td>IL</td>\n",
       "      <td>60654.0</td>\n",
       "      <td>22.0</td>\n",
       "      <td>18.0</td>\n",
       "      <td>1002.0</td>\n",
       "      <td>2032383.0</td>\n",
       "      <td>RENEW</td>\n",
       "      <td>41.891056</td>\n",
       "      <td>-87.627899</td>\n",
       "      <td>NaN</td>\n",
       "    </tr>\n",
       "    <tr>\n",
       "      <th>143138</th>\n",
       "      <td>1211199.0</td>\n",
       "      <td>55051.0</td>\n",
       "      <td>1.0</td>\n",
       "      <td>CHICAGO</td>\n",
       "      <td>IL</td>\n",
       "      <td>60657.0</td>\n",
       "      <td>9.0</td>\n",
       "      <td>19.0</td>\n",
       "      <td>1010.0</td>\n",
       "      <td>40376.0</td>\n",
       "      <td>RENEW</td>\n",
       "      <td>41.943382</td>\n",
       "      <td>-87.659187</td>\n",
       "      <td>NaN</td>\n",
       "    </tr>\n",
       "    <tr>\n",
       "      <th>143139</th>\n",
       "      <td>2188497.0</td>\n",
       "      <td>357381.0</td>\n",
       "      <td>1.0</td>\n",
       "      <td>CHICAGO</td>\n",
       "      <td>IL</td>\n",
       "      <td>60638.0</td>\n",
       "      <td>18.0</td>\n",
       "      <td>8.0</td>\n",
       "      <td>1012.0</td>\n",
       "      <td>2064176.0</td>\n",
       "      <td>RENEW</td>\n",
       "      <td>41.775711</td>\n",
       "      <td>-87.798012</td>\n",
       "      <td>NaN</td>\n",
       "    </tr>\n",
       "    <tr>\n",
       "      <th>143140</th>\n",
       "      <td>1954052.0</td>\n",
       "      <td>340610.0</td>\n",
       "      <td>1.0</td>\n",
       "      <td>CHICAGO</td>\n",
       "      <td>IL</td>\n",
       "      <td>60632.0</td>\n",
       "      <td>10.0</td>\n",
       "      <td>8.0</td>\n",
       "      <td>1012.0</td>\n",
       "      <td>1954052.0</td>\n",
       "      <td>ISSUE</td>\n",
       "      <td>41.810524</td>\n",
       "      <td>-87.707870</td>\n",
       "      <td>NaN</td>\n",
       "    </tr>\n",
       "  </tbody>\n",
       "</table>\n",
       "<p>143134 rows × 14 columns</p>\n",
       "</div>"
      ],
      "text/plain": [
       "        LICENSE ID  ACCOUNT NUMBER  SITE NUMBER      CITY STATE ZIP CODE  \\\n",
       "0        1256593.0         32811.0          1.0   CHICAGO    IL  60623.0   \n",
       "1        1639294.0        262311.0         29.0   CHICAGO    IL    60618   \n",
       "2        1980233.0        345008.0          1.0  HIGHLAND    IL    60035   \n",
       "3        1476582.0        273121.0          1.0    LEMONT    IL    60439   \n",
       "4        1896750.0        213785.0          1.0  WAUKEGAN    IL    60087   \n",
       "...            ...             ...          ...       ...   ...      ...   \n",
       "143136   1835677.0        266103.0          3.0   CHICAGO    IL  60652.0   \n",
       "143137   2465962.0         63376.0        180.0   CHICAGO    IL  60654.0   \n",
       "143138   1211199.0         55051.0          1.0   CHICAGO    IL  60657.0   \n",
       "143139   2188497.0        357381.0          1.0   CHICAGO    IL  60638.0   \n",
       "143140   1954052.0        340610.0          1.0   CHICAGO    IL  60632.0   \n",
       "\n",
       "        PRECINCT  POLICE DISTRICT  LICENSE CODE  LICENSE NUMBER  \\\n",
       "0           28.0             10.0        1010.0         35342.0   \n",
       "1           23.0             17.0        1315.0       1358463.0   \n",
       "2            9.0             18.0        1011.0       1980233.0   \n",
       "3            9.0             18.0        1010.0       1476582.0   \n",
       "4            9.0             18.0        1010.0       1141408.0   \n",
       "...          ...              ...           ...             ...   \n",
       "143136      14.0              8.0        1010.0       1743194.0   \n",
       "143137      22.0             18.0        1002.0       2032383.0   \n",
       "143138       9.0             19.0        1010.0         40376.0   \n",
       "143139      18.0              8.0        1012.0       2064176.0   \n",
       "143140      10.0              8.0        1012.0       1954052.0   \n",
       "\n",
       "       APPLICATION TYPE   LATITUDE  LONGITUDE LICENSE STATUS  \n",
       "0                 RENEW  41.843613 -87.714615            AAI  \n",
       "1                 RENEW  41.961132 -87.699623            AAC  \n",
       "2                 ISSUE  41.892204 -87.654724            AAI  \n",
       "3                 ISSUE  41.892204 -87.654724            AAI  \n",
       "4                 RENEW  41.892204 -87.654724            AAI  \n",
       "...                 ...        ...        ...            ...  \n",
       "143136            RENEW  41.749844 -87.688736            NaN  \n",
       "143137            RENEW  41.891056 -87.627899            NaN  \n",
       "143138            RENEW  41.943382 -87.659187            NaN  \n",
       "143139            RENEW  41.775711 -87.798012            NaN  \n",
       "143140            ISSUE  41.810524 -87.707870            NaN  \n",
       "\n",
       "[143134 rows x 14 columns]"
      ]
     },
     "execution_count": 92,
     "metadata": {},
     "output_type": "execute_result"
    }
   ],
   "source": [
    "df"
   ]
  },
  {
   "cell_type": "markdown",
   "id": "19cb77f8",
   "metadata": {},
   "source": [
    "#### LICENSE STATUS"
   ]
  },
  {
   "cell_type": "code",
   "execution_count": 93,
   "id": "81d2fe27",
   "metadata": {},
   "outputs": [
    {
     "data": {
      "text/plain": [
       "AAI    55400\n",
       "AAC    30200\n",
       "REV      290\n",
       "REA        3\n",
       "INQ        2\n",
       "Name: LICENSE STATUS, dtype: int64"
      ]
     },
     "execution_count": 93,
     "metadata": {},
     "output_type": "execute_result"
    }
   ],
   "source": [
    "df['LICENSE STATUS'].value_counts()"
   ]
  },
  {
   "cell_type": "code",
   "execution_count": 94,
   "id": "07d6bc85",
   "metadata": {},
   "outputs": [
    {
     "data": {
      "text/html": [
       "<div>\n",
       "<style scoped>\n",
       "    .dataframe tbody tr th:only-of-type {\n",
       "        vertical-align: middle;\n",
       "    }\n",
       "\n",
       "    .dataframe tbody tr th {\n",
       "        vertical-align: top;\n",
       "    }\n",
       "\n",
       "    .dataframe thead th {\n",
       "        text-align: right;\n",
       "    }\n",
       "</style>\n",
       "<table border=\"1\" class=\"dataframe\">\n",
       "  <thead>\n",
       "    <tr style=\"text-align: right;\">\n",
       "      <th></th>\n",
       "      <th>LICENSE ID</th>\n",
       "      <th>ACCOUNT NUMBER</th>\n",
       "      <th>SITE NUMBER</th>\n",
       "      <th>CITY</th>\n",
       "      <th>STATE</th>\n",
       "      <th>ZIP CODE</th>\n",
       "      <th>PRECINCT</th>\n",
       "      <th>POLICE DISTRICT</th>\n",
       "      <th>LICENSE CODE</th>\n",
       "      <th>LICENSE NUMBER</th>\n",
       "      <th>APPLICATION TYPE</th>\n",
       "      <th>LATITUDE</th>\n",
       "      <th>LONGITUDE</th>\n",
       "      <th>LICENSE STATUS</th>\n",
       "    </tr>\n",
       "  </thead>\n",
       "  <tbody>\n",
       "    <tr>\n",
       "      <th>85902</th>\n",
       "      <td>2132209.0</td>\n",
       "      <td>280120.0</td>\n",
       "      <td>1.0</td>\n",
       "      <td>CHICAGO</td>\n",
       "      <td>IL</td>\n",
       "      <td>60610</td>\n",
       "      <td>67.0</td>\n",
       "      <td>18.0</td>\n",
       "      <td>1020.0</td>\n",
       "      <td>1516615.0</td>\n",
       "      <td>RENEW</td>\n",
       "      <td>41.890049</td>\n",
       "      <td>-87.637466</td>\n",
       "      <td>NaN</td>\n",
       "    </tr>\n",
       "    <tr>\n",
       "      <th>85903</th>\n",
       "      <td>2090759.0</td>\n",
       "      <td>65043.0</td>\n",
       "      <td>1.0</td>\n",
       "      <td>CHICAGO</td>\n",
       "      <td>IL</td>\n",
       "      <td>60636.0</td>\n",
       "      <td>5.0</td>\n",
       "      <td>7.0</td>\n",
       "      <td>1010.0</td>\n",
       "      <td>69813.0</td>\n",
       "      <td>RENEW</td>\n",
       "      <td>41.786484</td>\n",
       "      <td>-87.676666</td>\n",
       "      <td>NaN</td>\n",
       "    </tr>\n",
       "    <tr>\n",
       "      <th>85904</th>\n",
       "      <td>1541990.0</td>\n",
       "      <td>281270.0</td>\n",
       "      <td>1.0</td>\n",
       "      <td>CHICAGO</td>\n",
       "      <td>IL</td>\n",
       "      <td>60605</td>\n",
       "      <td>8.0</td>\n",
       "      <td>1.0</td>\n",
       "      <td>1020.0</td>\n",
       "      <td>1519227.0</td>\n",
       "      <td>RENEW</td>\n",
       "      <td>41.868271</td>\n",
       "      <td>-87.625694</td>\n",
       "      <td>NaN</td>\n",
       "    </tr>\n",
       "    <tr>\n",
       "      <th>85905</th>\n",
       "      <td>2041053.0</td>\n",
       "      <td>335243.0</td>\n",
       "      <td>1.0</td>\n",
       "      <td>CHICAGO</td>\n",
       "      <td>IL</td>\n",
       "      <td>60827</td>\n",
       "      <td>33.0</td>\n",
       "      <td>5.0</td>\n",
       "      <td>1607.0</td>\n",
       "      <td>1922025.0</td>\n",
       "      <td>RENEW</td>\n",
       "      <td>41.655762</td>\n",
       "      <td>-87.608688</td>\n",
       "      <td>NaN</td>\n",
       "    </tr>\n",
       "    <tr>\n",
       "      <th>85906</th>\n",
       "      <td>1837158.0</td>\n",
       "      <td>283018.0</td>\n",
       "      <td>3.0</td>\n",
       "      <td>CHICAGO</td>\n",
       "      <td>IL</td>\n",
       "      <td>60632</td>\n",
       "      <td>26.0</td>\n",
       "      <td>9.0</td>\n",
       "      <td>1010.0</td>\n",
       "      <td>1675683.0</td>\n",
       "      <td>RENEW</td>\n",
       "      <td>41.816971</td>\n",
       "      <td>-87.699783</td>\n",
       "      <td>NaN</td>\n",
       "    </tr>\n",
       "    <tr>\n",
       "      <th>...</th>\n",
       "      <td>...</td>\n",
       "      <td>...</td>\n",
       "      <td>...</td>\n",
       "      <td>...</td>\n",
       "      <td>...</td>\n",
       "      <td>...</td>\n",
       "      <td>...</td>\n",
       "      <td>...</td>\n",
       "      <td>...</td>\n",
       "      <td>...</td>\n",
       "      <td>...</td>\n",
       "      <td>...</td>\n",
       "      <td>...</td>\n",
       "      <td>...</td>\n",
       "    </tr>\n",
       "    <tr>\n",
       "      <th>143136</th>\n",
       "      <td>1835677.0</td>\n",
       "      <td>266103.0</td>\n",
       "      <td>3.0</td>\n",
       "      <td>CHICAGO</td>\n",
       "      <td>IL</td>\n",
       "      <td>60652.0</td>\n",
       "      <td>14.0</td>\n",
       "      <td>8.0</td>\n",
       "      <td>1010.0</td>\n",
       "      <td>1743194.0</td>\n",
       "      <td>RENEW</td>\n",
       "      <td>41.749844</td>\n",
       "      <td>-87.688736</td>\n",
       "      <td>NaN</td>\n",
       "    </tr>\n",
       "    <tr>\n",
       "      <th>143137</th>\n",
       "      <td>2465962.0</td>\n",
       "      <td>63376.0</td>\n",
       "      <td>180.0</td>\n",
       "      <td>CHICAGO</td>\n",
       "      <td>IL</td>\n",
       "      <td>60654.0</td>\n",
       "      <td>22.0</td>\n",
       "      <td>18.0</td>\n",
       "      <td>1002.0</td>\n",
       "      <td>2032383.0</td>\n",
       "      <td>RENEW</td>\n",
       "      <td>41.891056</td>\n",
       "      <td>-87.627899</td>\n",
       "      <td>NaN</td>\n",
       "    </tr>\n",
       "    <tr>\n",
       "      <th>143138</th>\n",
       "      <td>1211199.0</td>\n",
       "      <td>55051.0</td>\n",
       "      <td>1.0</td>\n",
       "      <td>CHICAGO</td>\n",
       "      <td>IL</td>\n",
       "      <td>60657.0</td>\n",
       "      <td>9.0</td>\n",
       "      <td>19.0</td>\n",
       "      <td>1010.0</td>\n",
       "      <td>40376.0</td>\n",
       "      <td>RENEW</td>\n",
       "      <td>41.943382</td>\n",
       "      <td>-87.659187</td>\n",
       "      <td>NaN</td>\n",
       "    </tr>\n",
       "    <tr>\n",
       "      <th>143139</th>\n",
       "      <td>2188497.0</td>\n",
       "      <td>357381.0</td>\n",
       "      <td>1.0</td>\n",
       "      <td>CHICAGO</td>\n",
       "      <td>IL</td>\n",
       "      <td>60638.0</td>\n",
       "      <td>18.0</td>\n",
       "      <td>8.0</td>\n",
       "      <td>1012.0</td>\n",
       "      <td>2064176.0</td>\n",
       "      <td>RENEW</td>\n",
       "      <td>41.775711</td>\n",
       "      <td>-87.798012</td>\n",
       "      <td>NaN</td>\n",
       "    </tr>\n",
       "    <tr>\n",
       "      <th>143140</th>\n",
       "      <td>1954052.0</td>\n",
       "      <td>340610.0</td>\n",
       "      <td>1.0</td>\n",
       "      <td>CHICAGO</td>\n",
       "      <td>IL</td>\n",
       "      <td>60632.0</td>\n",
       "      <td>10.0</td>\n",
       "      <td>8.0</td>\n",
       "      <td>1012.0</td>\n",
       "      <td>1954052.0</td>\n",
       "      <td>ISSUE</td>\n",
       "      <td>41.810524</td>\n",
       "      <td>-87.707870</td>\n",
       "      <td>NaN</td>\n",
       "    </tr>\n",
       "  </tbody>\n",
       "</table>\n",
       "<p>57239 rows × 14 columns</p>\n",
       "</div>"
      ],
      "text/plain": [
       "        LICENSE ID  ACCOUNT NUMBER  SITE NUMBER     CITY STATE ZIP CODE  \\\n",
       "85902    2132209.0        280120.0          1.0  CHICAGO    IL    60610   \n",
       "85903    2090759.0         65043.0          1.0  CHICAGO    IL  60636.0   \n",
       "85904    1541990.0        281270.0          1.0  CHICAGO    IL    60605   \n",
       "85905    2041053.0        335243.0          1.0  CHICAGO    IL    60827   \n",
       "85906    1837158.0        283018.0          3.0  CHICAGO    IL    60632   \n",
       "...            ...             ...          ...      ...   ...      ...   \n",
       "143136   1835677.0        266103.0          3.0  CHICAGO    IL  60652.0   \n",
       "143137   2465962.0         63376.0        180.0  CHICAGO    IL  60654.0   \n",
       "143138   1211199.0         55051.0          1.0  CHICAGO    IL  60657.0   \n",
       "143139   2188497.0        357381.0          1.0  CHICAGO    IL  60638.0   \n",
       "143140   1954052.0        340610.0          1.0  CHICAGO    IL  60632.0   \n",
       "\n",
       "        PRECINCT  POLICE DISTRICT  LICENSE CODE  LICENSE NUMBER  \\\n",
       "85902       67.0             18.0        1020.0       1516615.0   \n",
       "85903        5.0              7.0        1010.0         69813.0   \n",
       "85904        8.0              1.0        1020.0       1519227.0   \n",
       "85905       33.0              5.0        1607.0       1922025.0   \n",
       "85906       26.0              9.0        1010.0       1675683.0   \n",
       "...          ...              ...           ...             ...   \n",
       "143136      14.0              8.0        1010.0       1743194.0   \n",
       "143137      22.0             18.0        1002.0       2032383.0   \n",
       "143138       9.0             19.0        1010.0         40376.0   \n",
       "143139      18.0              8.0        1012.0       2064176.0   \n",
       "143140      10.0              8.0        1012.0       1954052.0   \n",
       "\n",
       "       APPLICATION TYPE   LATITUDE  LONGITUDE LICENSE STATUS  \n",
       "85902             RENEW  41.890049 -87.637466            NaN  \n",
       "85903             RENEW  41.786484 -87.676666            NaN  \n",
       "85904             RENEW  41.868271 -87.625694            NaN  \n",
       "85905             RENEW  41.655762 -87.608688            NaN  \n",
       "85906             RENEW  41.816971 -87.699783            NaN  \n",
       "...                 ...        ...        ...            ...  \n",
       "143136            RENEW  41.749844 -87.688736            NaN  \n",
       "143137            RENEW  41.891056 -87.627899            NaN  \n",
       "143138            RENEW  41.943382 -87.659187            NaN  \n",
       "143139            RENEW  41.775711 -87.798012            NaN  \n",
       "143140            ISSUE  41.810524 -87.707870            NaN  \n",
       "\n",
       "[57239 rows x 14 columns]"
      ]
     },
     "execution_count": 94,
     "metadata": {},
     "output_type": "execute_result"
    }
   ],
   "source": [
    "df[df['LICENSE STATUS'].isna()]"
   ]
  },
  {
   "cell_type": "code",
   "execution_count": 95,
   "id": "8ead33d6",
   "metadata": {
    "scrolled": true
   },
   "outputs": [
    {
     "name": "stderr",
     "output_type": "stream",
     "text": [
      "C:\\Users\\lenovo\\.conda\\anaconda\\lib\\site-packages\\seaborn\\_decorators.py:36: FutureWarning: Pass the following variable as a keyword arg: x. From version 0.12, the only valid positional argument will be `data`, and passing other arguments without an explicit keyword will result in an error or misinterpretation.\n",
      "  warnings.warn(\n"
     ]
    },
    {
     "data": {
      "text/plain": [
       "<AxesSubplot:xlabel='LICENSE STATUS', ylabel='count'>"
      ]
     },
     "execution_count": 95,
     "metadata": {},
     "output_type": "execute_result"
    },
    {
     "data": {
      "image/png": "[encoded data removed]",
      "text/plain": [
       "<Figure size 432x288 with 1 Axes>"
      ]
     },
     "metadata": {
      "needs_background": "light"
     },
     "output_type": "display_data"
    }
   ],
   "source": [
    "\n",
    "sns.countplot(df['LICENSE STATUS'])"
   ]
  },
  {
   "cell_type": "code",
   "execution_count": 96,
   "id": "f61a2e82",
   "metadata": {},
   "outputs": [],
   "source": [
    "df['LICENSE STATUS'] = df['LICENSE STATUS'].astype('category')"
   ]
  },
  {
   "cell_type": "markdown",
   "id": "88c201ef",
   "metadata": {},
   "source": [
    "#### we have Imbalanced dataset here, so to make it balanced we will use SMOTE method"
   ]
  },
  {
   "cell_type": "code",
   "execution_count": 97,
   "id": "8504b7ff",
   "metadata": {},
   "outputs": [],
   "source": [
    "# pd.set_option('display.max_rows', None)"
   ]
  },
  {
   "cell_type": "code",
   "execution_count": 98,
   "id": "52473906",
   "metadata": {
    "scrolled": true
   },
   "outputs": [
    {
     "data": {
      "text/plain": [
       "0         AAI\n",
       "1         AAC\n",
       "2         AAI\n",
       "3         AAI\n",
       "4         AAI\n",
       "         ... \n",
       "143136    NaN\n",
       "143137    NaN\n",
       "143138    NaN\n",
       "143139    NaN\n",
       "143140    NaN\n",
       "Name: LICENSE STATUS, Length: 143134, dtype: category\n",
       "Categories (5, object): ['AAC', 'AAI', 'INQ', 'REA', 'REV']"
      ]
     },
     "execution_count": 98,
     "metadata": {},
     "output_type": "execute_result"
    }
   ],
   "source": [
    "df['LICENSE STATUS']"
   ]
  },
  {
   "cell_type": "code",
   "execution_count": 99,
   "id": "c5bd60f7",
   "metadata": {},
   "outputs": [
    {
     "name": "stdout",
     "output_type": "stream",
     "text": [
      "<class 'pandas.core.frame.DataFrame'>\n",
      "Int64Index: 143134 entries, 0 to 143140\n",
      "Data columns (total 14 columns):\n",
      " #   Column            Non-Null Count   Dtype   \n",
      "---  ------            --------------   -----   \n",
      " 0   LICENSE ID        143134 non-null  float32 \n",
      " 1   ACCOUNT NUMBER    143134 non-null  float32 \n",
      " 2   SITE NUMBER       143134 non-null  float64 \n",
      " 3   CITY              143134 non-null  category\n",
      " 4   STATE             143134 non-null  category\n",
      " 5   ZIP CODE          143134 non-null  object  \n",
      " 6   PRECINCT          143134 non-null  float64 \n",
      " 7   POLICE DISTRICT   143134 non-null  float64 \n",
      " 8   LICENSE CODE      143134 non-null  float64 \n",
      " 9   LICENSE NUMBER    143134 non-null  float64 \n",
      " 10  APPLICATION TYPE  143134 non-null  object  \n",
      " 11  LATITUDE          143134 non-null  float32 \n",
      " 12  LONGITUDE         143134 non-null  float32 \n",
      " 13  LICENSE STATUS    85895 non-null   category\n",
      "dtypes: category(3), float32(4), float64(5), object(2)\n",
      "memory usage: 15.5+ MB\n"
     ]
    }
   ],
   "source": [
    "df.info()"
   ]
  },
  {
   "cell_type": "code",
   "execution_count": 100,
   "id": "feda7eaf",
   "metadata": {},
   "outputs": [
    {
     "data": {
      "text/html": [
       "<div>\n",
       "<style scoped>\n",
       "    .dataframe tbody tr th:only-of-type {\n",
       "        vertical-align: middle;\n",
       "    }\n",
       "\n",
       "    .dataframe tbody tr th {\n",
       "        vertical-align: top;\n",
       "    }\n",
       "\n",
       "    .dataframe thead th {\n",
       "        text-align: right;\n",
       "    }\n",
       "</style>\n",
       "<table border=\"1\" class=\"dataframe\">\n",
       "  <thead>\n",
       "    <tr style=\"text-align: right;\">\n",
       "      <th></th>\n",
       "      <th>LICENSE ID</th>\n",
       "      <th>ACCOUNT NUMBER</th>\n",
       "      <th>SITE NUMBER</th>\n",
       "      <th>CITY</th>\n",
       "      <th>STATE</th>\n",
       "      <th>ZIP CODE</th>\n",
       "      <th>PRECINCT</th>\n",
       "      <th>POLICE DISTRICT</th>\n",
       "      <th>LICENSE CODE</th>\n",
       "      <th>LICENSE NUMBER</th>\n",
       "      <th>APPLICATION TYPE</th>\n",
       "      <th>LATITUDE</th>\n",
       "      <th>LONGITUDE</th>\n",
       "      <th>LICENSE STATUS</th>\n",
       "    </tr>\n",
       "  </thead>\n",
       "  <tbody>\n",
       "    <tr>\n",
       "      <th>0</th>\n",
       "      <td>1256593.0</td>\n",
       "      <td>32811.0</td>\n",
       "      <td>1.0</td>\n",
       "      <td>CHICAGO</td>\n",
       "      <td>IL</td>\n",
       "      <td>60623.0</td>\n",
       "      <td>28.0</td>\n",
       "      <td>10.0</td>\n",
       "      <td>1010.0</td>\n",
       "      <td>35342.0</td>\n",
       "      <td>RENEW</td>\n",
       "      <td>41.843613</td>\n",
       "      <td>-87.714615</td>\n",
       "      <td>AAI</td>\n",
       "    </tr>\n",
       "    <tr>\n",
       "      <th>1</th>\n",
       "      <td>1639294.0</td>\n",
       "      <td>262311.0</td>\n",
       "      <td>29.0</td>\n",
       "      <td>CHICAGO</td>\n",
       "      <td>IL</td>\n",
       "      <td>60618</td>\n",
       "      <td>23.0</td>\n",
       "      <td>17.0</td>\n",
       "      <td>1315.0</td>\n",
       "      <td>1358463.0</td>\n",
       "      <td>RENEW</td>\n",
       "      <td>41.961132</td>\n",
       "      <td>-87.699623</td>\n",
       "      <td>AAC</td>\n",
       "    </tr>\n",
       "    <tr>\n",
       "      <th>2</th>\n",
       "      <td>1980233.0</td>\n",
       "      <td>345008.0</td>\n",
       "      <td>1.0</td>\n",
       "      <td>HIGHLAND</td>\n",
       "      <td>IL</td>\n",
       "      <td>60035</td>\n",
       "      <td>9.0</td>\n",
       "      <td>18.0</td>\n",
       "      <td>1011.0</td>\n",
       "      <td>1980233.0</td>\n",
       "      <td>ISSUE</td>\n",
       "      <td>41.892204</td>\n",
       "      <td>-87.654724</td>\n",
       "      <td>AAI</td>\n",
       "    </tr>\n",
       "    <tr>\n",
       "      <th>3</th>\n",
       "      <td>1476582.0</td>\n",
       "      <td>273121.0</td>\n",
       "      <td>1.0</td>\n",
       "      <td>LEMONT</td>\n",
       "      <td>IL</td>\n",
       "      <td>60439</td>\n",
       "      <td>9.0</td>\n",
       "      <td>18.0</td>\n",
       "      <td>1010.0</td>\n",
       "      <td>1476582.0</td>\n",
       "      <td>ISSUE</td>\n",
       "      <td>41.892204</td>\n",
       "      <td>-87.654724</td>\n",
       "      <td>AAI</td>\n",
       "    </tr>\n",
       "    <tr>\n",
       "      <th>4</th>\n",
       "      <td>1896750.0</td>\n",
       "      <td>213785.0</td>\n",
       "      <td>1.0</td>\n",
       "      <td>WAUKEGAN</td>\n",
       "      <td>IL</td>\n",
       "      <td>60087</td>\n",
       "      <td>9.0</td>\n",
       "      <td>18.0</td>\n",
       "      <td>1010.0</td>\n",
       "      <td>1141408.0</td>\n",
       "      <td>RENEW</td>\n",
       "      <td>41.892204</td>\n",
       "      <td>-87.654724</td>\n",
       "      <td>AAI</td>\n",
       "    </tr>\n",
       "    <tr>\n",
       "      <th>...</th>\n",
       "      <td>...</td>\n",
       "      <td>...</td>\n",
       "      <td>...</td>\n",
       "      <td>...</td>\n",
       "      <td>...</td>\n",
       "      <td>...</td>\n",
       "      <td>...</td>\n",
       "      <td>...</td>\n",
       "      <td>...</td>\n",
       "      <td>...</td>\n",
       "      <td>...</td>\n",
       "      <td>...</td>\n",
       "      <td>...</td>\n",
       "      <td>...</td>\n",
       "    </tr>\n",
       "    <tr>\n",
       "      <th>85890</th>\n",
       "      <td>2143400.0</td>\n",
       "      <td>8011.0</td>\n",
       "      <td>1.0</td>\n",
       "      <td>CHICAGO</td>\n",
       "      <td>IL</td>\n",
       "      <td>60607</td>\n",
       "      <td>28.0</td>\n",
       "      <td>1.0</td>\n",
       "      <td>1008.0</td>\n",
       "      <td>12652.0</td>\n",
       "      <td>RENEW</td>\n",
       "      <td>41.863503</td>\n",
       "      <td>-87.642212</td>\n",
       "      <td>AAC</td>\n",
       "    </tr>\n",
       "    <tr>\n",
       "      <th>85891</th>\n",
       "      <td>1821421.0</td>\n",
       "      <td>317725.0</td>\n",
       "      <td>1.0</td>\n",
       "      <td>MACHESNEY PARK</td>\n",
       "      <td>IL</td>\n",
       "      <td>61115</td>\n",
       "      <td>9.0</td>\n",
       "      <td>18.0</td>\n",
       "      <td>1800.0</td>\n",
       "      <td>1821421.0</td>\n",
       "      <td>ISSUE</td>\n",
       "      <td>41.892204</td>\n",
       "      <td>-87.654724</td>\n",
       "      <td>AAI</td>\n",
       "    </tr>\n",
       "    <tr>\n",
       "      <th>85892</th>\n",
       "      <td>1939358.0</td>\n",
       "      <td>8458.0</td>\n",
       "      <td>2.0</td>\n",
       "      <td>DOWNERS GROVE</td>\n",
       "      <td>IL</td>\n",
       "      <td>60515</td>\n",
       "      <td>9.0</td>\n",
       "      <td>18.0</td>\n",
       "      <td>1010.0</td>\n",
       "      <td>74137.0</td>\n",
       "      <td>RENEW</td>\n",
       "      <td>41.892204</td>\n",
       "      <td>-87.654724</td>\n",
       "      <td>AAI</td>\n",
       "    </tr>\n",
       "    <tr>\n",
       "      <th>85893</th>\n",
       "      <td>2110060.0</td>\n",
       "      <td>2156.0</td>\n",
       "      <td>43.0</td>\n",
       "      <td>CHICAGO</td>\n",
       "      <td>IL</td>\n",
       "      <td>60632.0</td>\n",
       "      <td>9.0</td>\n",
       "      <td>18.0</td>\n",
       "      <td>1010.0</td>\n",
       "      <td>2049545.0</td>\n",
       "      <td>RENEW</td>\n",
       "      <td>41.799011</td>\n",
       "      <td>-87.723183</td>\n",
       "      <td>AAC</td>\n",
       "    </tr>\n",
       "    <tr>\n",
       "      <th>85894</th>\n",
       "      <td>1461628.0</td>\n",
       "      <td>205936.0</td>\n",
       "      <td>1.0</td>\n",
       "      <td>CHICAGO</td>\n",
       "      <td>IL</td>\n",
       "      <td>60639</td>\n",
       "      <td>52.0</td>\n",
       "      <td>25.0</td>\n",
       "      <td>1006.0</td>\n",
       "      <td>1070196.0</td>\n",
       "      <td>RENEW</td>\n",
       "      <td>41.924004</td>\n",
       "      <td>-87.771507</td>\n",
       "      <td>AAC</td>\n",
       "    </tr>\n",
       "  </tbody>\n",
       "</table>\n",
       "<p>85895 rows × 14 columns</p>\n",
       "</div>"
      ],
      "text/plain": [
       "       LICENSE ID  ACCOUNT NUMBER  SITE NUMBER            CITY STATE ZIP CODE  \\\n",
       "0       1256593.0         32811.0          1.0         CHICAGO    IL  60623.0   \n",
       "1       1639294.0        262311.0         29.0         CHICAGO    IL    60618   \n",
       "2       1980233.0        345008.0          1.0        HIGHLAND    IL    60035   \n",
       "3       1476582.0        273121.0          1.0          LEMONT    IL    60439   \n",
       "4       1896750.0        213785.0          1.0        WAUKEGAN    IL    60087   \n",
       "...           ...             ...          ...             ...   ...      ...   \n",
       "85890   2143400.0          8011.0          1.0         CHICAGO    IL    60607   \n",
       "85891   1821421.0        317725.0          1.0  MACHESNEY PARK    IL    61115   \n",
       "85892   1939358.0          8458.0          2.0   DOWNERS GROVE    IL    60515   \n",
       "85893   2110060.0          2156.0         43.0         CHICAGO    IL  60632.0   \n",
       "85894   1461628.0        205936.0          1.0         CHICAGO    IL    60639   \n",
       "\n",
       "       PRECINCT  POLICE DISTRICT  LICENSE CODE  LICENSE NUMBER  \\\n",
       "0          28.0             10.0        1010.0         35342.0   \n",
       "1          23.0             17.0        1315.0       1358463.0   \n",
       "2           9.0             18.0        1011.0       1980233.0   \n",
       "3           9.0             18.0        1010.0       1476582.0   \n",
       "4           9.0             18.0        1010.0       1141408.0   \n",
       "...         ...              ...           ...             ...   \n",
       "85890      28.0              1.0        1008.0         12652.0   \n",
       "85891       9.0             18.0        1800.0       1821421.0   \n",
       "85892       9.0             18.0        1010.0         74137.0   \n",
       "85893       9.0             18.0        1010.0       2049545.0   \n",
       "85894      52.0             25.0        1006.0       1070196.0   \n",
       "\n",
       "      APPLICATION TYPE   LATITUDE  LONGITUDE LICENSE STATUS  \n",
       "0                RENEW  41.843613 -87.714615            AAI  \n",
       "1                RENEW  41.961132 -87.699623            AAC  \n",
       "2                ISSUE  41.892204 -87.654724            AAI  \n",
       "3                ISSUE  41.892204 -87.654724            AAI  \n",
       "4                RENEW  41.892204 -87.654724            AAI  \n",
       "...                ...        ...        ...            ...  \n",
       "85890            RENEW  41.863503 -87.642212            AAC  \n",
       "85891            ISSUE  41.892204 -87.654724            AAI  \n",
       "85892            RENEW  41.892204 -87.654724            AAI  \n",
       "85893            RENEW  41.799011 -87.723183            AAC  \n",
       "85894            RENEW  41.924004 -87.771507            AAC  \n",
       "\n",
       "[85895 rows x 14 columns]"
      ]
     },
     "execution_count": 100,
     "metadata": {},
     "output_type": "execute_result"
    }
   ],
   "source": [
    "train  = df.dropna()\n",
    "train "
   ]
  },
  {
   "cell_type": "code",
   "execution_count": 101,
   "id": "3a8fe448",
   "metadata": {},
   "outputs": [],
   "source": [
    "x  = train.drop(['LICENSE STATUS','CITY','ZIP CODE'], axis = 1)\n",
    "y  = train['LICENSE STATUS']\n"
   ]
  },
  {
   "cell_type": "code",
   "execution_count": 102,
   "id": "bd84d0f2",
   "metadata": {},
   "outputs": [],
   "source": [
    "x  = pd.get_dummies(x, drop_first = True)"
   ]
  },
  {
   "cell_type": "code",
   "execution_count": 103,
   "id": "2aafb37b",
   "metadata": {},
   "outputs": [
    {
     "data": {
      "text/plain": [
       "Index                      687160\n",
       "LICENSE ID                 343580\n",
       "ACCOUNT NUMBER             343580\n",
       "SITE NUMBER                687160\n",
       "PRECINCT                   687160\n",
       "                            ...  \n",
       "STATE_WY                    85895\n",
       "APPLICATION TYPE_C_EXPA     85895\n",
       "APPLICATION TYPE_C_LOC      85895\n",
       "APPLICATION TYPE_ISSUE      85895\n",
       "APPLICATION TYPE_RENEW      85895\n",
       "Length: 68, dtype: int64"
      ]
     },
     "execution_count": 103,
     "metadata": {},
     "output_type": "execute_result"
    }
   ],
   "source": [
    "x.memory_usage()"
   ]
  },
  {
   "cell_type": "code",
   "execution_count": 104,
   "id": "c9a2fbe5",
   "metadata": {},
   "outputs": [
    {
     "data": {
      "text/plain": [
       "AAI    55400\n",
       "AAC    30200\n",
       "REV      290\n",
       "REA        3\n",
       "INQ        2\n",
       "Name: LICENSE STATUS, dtype: int64"
      ]
     },
     "execution_count": 104,
     "metadata": {},
     "output_type": "execute_result"
    }
   ],
   "source": [
    "y.value_counts()"
   ]
  },
  {
   "cell_type": "code",
   "execution_count": 105,
   "id": "4bf3e428",
   "metadata": {
    "scrolled": true
   },
   "outputs": [
    {
     "data": {
      "text/plain": [
       "AAC    55400\n",
       "AAI    55400\n",
       "INQ    55400\n",
       "REA    55400\n",
       "REV    55400\n",
       "Name: LICENSE STATUS, dtype: int64"
      ]
     },
     "execution_count": 105,
     "metadata": {},
     "output_type": "execute_result"
    }
   ],
   "source": [
    "\n",
    "smote  = SMOTE( k_neighbors=1)\n",
    "x_sm, y_sm = smote.fit_resample(x,y)\n",
    "y_sm.value_counts()\n"
   ]
  },
  {
   "cell_type": "code",
   "execution_count": null,
   "id": "187ffcb6",
   "metadata": {},
   "outputs": [],
   "source": [
    "x_sm.memory_usage()"
   ]
  },
  {
   "cell_type": "code",
   "execution_count": 106,
   "id": "4cdebdfa",
   "metadata": {},
   "outputs": [],
   "source": [
    "from sklearn.model_selection import train_test_split\n",
    "x_train, x_test,y_train, y_test = train_test_split(x_sm,y_sm, test_size= 0.3 , random_state = 2)"
   ]
  },
  {
   "cell_type": "code",
   "execution_count": 107,
   "id": "e2a099f1",
   "metadata": {},
   "outputs": [
    {
     "data": {
      "text/plain": [
       "((193900, 67), (193900,), (83100, 67), (83100,))"
      ]
     },
     "execution_count": 107,
     "metadata": {},
     "output_type": "execute_result"
    }
   ],
   "source": [
    "x_train.shape, y_train.shape, x_test.shape, y_test.shape\n"
   ]
  },
  {
   "cell_type": "code",
   "execution_count": 108,
   "id": "1c4cce0d",
   "metadata": {},
   "outputs": [
    {
     "data": {
      "text/plain": [
       "Index(['LICENSE ID', 'ACCOUNT NUMBER', 'SITE NUMBER', 'CITY', 'STATE',\n",
       "       'ZIP CODE', 'PRECINCT', 'POLICE DISTRICT', 'LICENSE CODE',\n",
       "       'LICENSE NUMBER', 'APPLICATION TYPE', 'LATITUDE', 'LONGITUDE',\n",
       "       'LICENSE STATUS'],\n",
       "      dtype='object')"
      ]
     },
     "execution_count": 108,
     "metadata": {},
     "output_type": "execute_result"
    }
   ],
   "source": [
    "df.columns"
   ]
  },
  {
   "cell_type": "code",
   "execution_count": 109,
   "id": "06f0c7fa",
   "metadata": {},
   "outputs": [
    {
     "data": {
      "text/html": [
       "<style>#sk-container-id-1 {color: black;background-color: white;}#sk-container-id-1 pre{padding: 0;}#sk-container-id-1 div.sk-toggleable {background-color: white;}#sk-container-id-1 label.sk-toggleable__label {cursor: pointer;display: block;width: 100%;margin-bottom: 0;padding: 0.3em;box-sizing: border-box;text-align: center;}#sk-container-id-1 label.sk-toggleable__label-arrow:before {content: \"▸\";float: left;margin-right: 0.25em;color: #696969;}#sk-container-id-1 label.sk-toggleable__label-arrow:hover:before {color: black;}#sk-container-id-1 div.sk-estimator:hover label.sk-toggleable__label-arrow:before {color: black;}#sk-container-id-1 div.sk-toggleable__content {max-height: 0;max-width: 0;overflow: hidden;text-align: left;background-color: #f0f8ff;}#sk-container-id-1 div.sk-toggleable__content pre {margin: 0.2em;color: black;border-radius: 0.25em;background-color: #f0f8ff;}#sk-container-id-1 input.sk-toggleable__control:checked~div.sk-toggleable__content {max-height: 200px;max-width: 100%;overflow: auto;}#sk-container-id-1 input.sk-toggleable__control:checked~label.sk-toggleable__label-arrow:before {content: \"▾\";}#sk-container-id-1 div.sk-estimator input.sk-toggleable__control:checked~label.sk-toggleable__label {background-color: #d4ebff;}#sk-container-id-1 div.sk-label input.sk-toggleable__control:checked~label.sk-toggleable__label {background-color: #d4ebff;}#sk-container-id-1 input.sk-hidden--visually {border: 0;clip: rect(1px 1px 1px 1px);clip: rect(1px, 1px, 1px, 1px);height: 1px;margin: -1px;overflow: hidden;padding: 0;position: absolute;width: 1px;}#sk-container-id-1 div.sk-estimator {font-family: monospace;background-color: #f0f8ff;border: 1px dotted black;border-radius: 0.25em;box-sizing: border-box;margin-bottom: 0.5em;}#sk-container-id-1 div.sk-estimator:hover {background-color: #d4ebff;}#sk-container-id-1 div.sk-parallel-item::after {content: \"\";width: 100%;border-bottom: 1px solid gray;flex-grow: 1;}#sk-container-id-1 div.sk-label:hover label.sk-toggleable__label {background-color: #d4ebff;}#sk-container-id-1 div.sk-serial::before {content: \"\";position: absolute;border-left: 1px solid gray;box-sizing: border-box;top: 0;bottom: 0;left: 50%;z-index: 0;}#sk-container-id-1 div.sk-serial {display: flex;flex-direction: column;align-items: center;background-color: white;padding-right: 0.2em;padding-left: 0.2em;position: relative;}#sk-container-id-1 div.sk-item {position: relative;z-index: 1;}#sk-container-id-1 div.sk-parallel {display: flex;align-items: stretch;justify-content: center;background-color: white;position: relative;}#sk-container-id-1 div.sk-item::before, #sk-container-id-1 div.sk-parallel-item::before {content: \"\";position: absolute;border-left: 1px solid gray;box-sizing: border-box;top: 0;bottom: 0;left: 50%;z-index: -1;}#sk-container-id-1 div.sk-parallel-item {display: flex;flex-direction: column;z-index: 1;position: relative;background-color: white;}#sk-container-id-1 div.sk-parallel-item:first-child::after {align-self: flex-end;width: 50%;}#sk-container-id-1 div.sk-parallel-item:last-child::after {align-self: flex-start;width: 50%;}#sk-container-id-1 div.sk-parallel-item:only-child::after {width: 0;}#sk-container-id-1 div.sk-dashed-wrapped {border: 1px dashed gray;margin: 0 0.4em 0.5em 0.4em;box-sizing: border-box;padding-bottom: 0.4em;background-color: white;}#sk-container-id-1 div.sk-label label {font-family: monospace;font-weight: bold;display: inline-block;line-height: 1.2em;}#sk-container-id-1 div.sk-label-container {text-align: center;}#sk-container-id-1 div.sk-container {/* jupyter's `normalize.less` sets `[hidden] { display: none; }` but bootstrap.min.css set `[hidden] { display: none !important; }` so we also need the `!important` here to be able to override the default hidden behavior on the sphinx rendered scikit-learn.org. See: https://github.com/scikit-learn/scikit-learn/issues/21755 */display: inline-block !important;position: relative;}#sk-container-id-1 div.sk-text-repr-fallback {display: none;}</style><div id=\"sk-container-id-1\" class=\"sk-top-container\"><div class=\"sk-text-repr-fallback\"><pre>DecisionTreeClassifier()</pre><b>In a Jupyter environment, please rerun this cell to show the HTML representation or trust the notebook. <br />On GitHub, the HTML representation is unable to render, please try loading this page with nbviewer.org.</b></div><div class=\"sk-container\" hidden><div class=\"sk-item\"><div class=\"sk-estimator sk-toggleable\"><input class=\"sk-toggleable__control sk-hidden--visually\" id=\"sk-estimator-id-1\" type=\"checkbox\" checked><label for=\"sk-estimator-id-1\" class=\"sk-toggleable__label sk-toggleable__label-arrow\">DecisionTreeClassifier</label><div class=\"sk-toggleable__content\"><pre>DecisionTreeClassifier()</pre></div></div></div></div></div>"
      ],
      "text/plain": [
       "DecisionTreeClassifier()"
      ]
     },
     "execution_count": 109,
     "metadata": {},
     "output_type": "execute_result"
    }
   ],
   "source": [
    "\n",
    "tree = DecisionTreeClassifier()\n",
    "tree.fit(x_train,y_train)"
   ]
  },
  {
   "cell_type": "code",
   "execution_count": 110,
   "id": "d7f502f8",
   "metadata": {},
   "outputs": [
    {
     "data": {
      "text/plain": [
       "array(['REV', 'REA', 'REA', ..., 'INQ', 'REV', 'INQ'], dtype=object)"
      ]
     },
     "execution_count": 110,
     "metadata": {},
     "output_type": "execute_result"
    }
   ],
   "source": [
    "pred = tree.predict(x_test)\n",
    "pred"
   ]
  },
  {
   "cell_type": "code",
   "execution_count": 111,
   "id": "b228054f",
   "metadata": {},
   "outputs": [
    {
     "name": "stdout",
     "output_type": "stream",
     "text": [
      "[[15007  1450     0     5   145]\n",
      " [ 1443 15031     0     0     9]\n",
      " [    0     0 16556     0     0]\n",
      " [    1     0     0 16702     0]\n",
      " [   70    10     0     5 16666]]\n"
     ]
    }
   ],
   "source": [
    "print(confusion_matrix(y_test,pred))"
   ]
  },
  {
   "cell_type": "code",
   "execution_count": 112,
   "id": "01717709",
   "metadata": {},
   "outputs": [
    {
     "name": "stdout",
     "output_type": "stream",
     "text": [
      " The accuracy score for Decision Tree model is  : 0.9622382671480144\n",
      " The precision score for Decision Tree model is : 0.9621596182597808\n",
      " The recall score for Decision Tree model is    : 0.9622382671480144\n",
      " The f1 score for Decision Tree model is        : 0.9621968518013704\n"
     ]
    }
   ],
   "source": [
    "\n",
    "print(\" The accuracy score for Decision Tree model is  :\", accuracy_score(y_test, pred))\n",
    "print(\" The precision score for Decision Tree model is :\" ,precision_score(y_test,pred,average='weighted'))\n",
    "print(\" The recall score for Decision Tree model is    :\",recall_score(y_test,pred,average='weighted'))\n",
    "print(\" The f1 score for Decision Tree model is        :\", f1_score(y_test, pred,average='weighted'))"
   ]
  },
  {
   "cell_type": "code",
   "execution_count": 113,
   "id": "866306cc",
   "metadata": {},
   "outputs": [
    {
     "name": "stdout",
     "output_type": "stream",
     "text": [
      "              precision    recall  f1-score   support\n",
      "\n",
      "         AAC       0.91      0.90      0.91     16607\n",
      "         AAI       0.91      0.91      0.91     16483\n",
      "         INQ       1.00      1.00      1.00     16556\n",
      "         REA       1.00      1.00      1.00     16703\n",
      "         REV       0.99      0.99      0.99     16751\n",
      "\n",
      "    accuracy                           0.96     83100\n",
      "   macro avg       0.96      0.96      0.96     83100\n",
      "weighted avg       0.96      0.96      0.96     83100\n",
      "\n"
     ]
    }
   ],
   "source": [
    "\n",
    "print(classification_report(y_test,pred))"
   ]
  },
  {
   "cell_type": "markdown",
   "id": "7f92c75f",
   "metadata": {},
   "source": [
    "from above classification report it seems that model is overfitting on our data.So to validate these results we \n",
    "can do cross validation."
   ]
  },
  {
   "cell_type": "code",
   "execution_count": 114,
   "id": "64176bd3",
   "metadata": {},
   "outputs": [
    {
     "data": {
      "text/plain": [
       "array([0.96100779, 0.96076948, 0.96077616, 0.9612617 , 0.95943436])"
      ]
     },
     "execution_count": 114,
     "metadata": {},
     "output_type": "execute_result"
    }
   ],
   "source": [
    "from sklearn.model_selection import cross_val_score\n",
    "tree = DecisionTreeClassifier()\n",
    "scores  = cross_val_score(tree,x_train,y_train,cv = 5, scoring = 'f1_weighted')\n",
    "scores"
   ]
  },
  {
   "cell_type": "code",
   "execution_count": 115,
   "id": "b76cc9d6",
   "metadata": {},
   "outputs": [
    {
     "data": {
      "text/plain": [
       "0.9606498964207058"
      ]
     },
     "execution_count": 115,
     "metadata": {},
     "output_type": "execute_result"
    }
   ],
   "source": [
    "scores.mean()"
   ]
  },
  {
   "cell_type": "markdown",
   "id": "ae848f6f",
   "metadata": {},
   "source": [
    "#### 2. Model : Random Forest"
   ]
  },
  {
   "cell_type": "code",
   "execution_count": 116,
   "id": "56592449",
   "metadata": {},
   "outputs": [
    {
     "data": {
      "text/plain": [
       "array(['REV', 'REA', 'REA', ..., 'INQ', 'REV', 'INQ'], dtype=object)"
      ]
     },
     "execution_count": 116,
     "metadata": {},
     "output_type": "execute_result"
    }
   ],
   "source": [
    "\n",
    "rfc = RandomForestClassifier()\n",
    "rfc.fit(x_train,y_train)\n",
    "\n",
    "rfc_pred = rfc.predict(x_test)\n",
    "rfc_pred"
   ]
  },
  {
   "cell_type": "code",
   "execution_count": 117,
   "id": "140a5db6",
   "metadata": {},
   "outputs": [
    {
     "name": "stdout",
     "output_type": "stream",
     "text": [
      "The accuracy score for random forest model is   : 0.9768592057761732\n",
      "The precision score for random forest model is  : 0.9770939780085212\n",
      "The recall score for random forest model is     : 0.9768592057761732\n",
      "The f1 score for random forest model is         : 0.9768620408475082\n",
      "The confusion matrix : \n",
      "  [[15941   662     0     0     4]\n",
      " [ 1229 15254     0     0     0]\n",
      " [    0     0 16556     0     0]\n",
      " [    0     0     0 16703     0]\n",
      " [   27     1     0     0 16723]]\n"
     ]
    }
   ],
   "source": [
    "print( \"The accuracy score for random forest model is   :\",  accuracy_score(y_test,rfc_pred))\n",
    "print( \"The precision score for random forest model is  :\",  precision_score(y_test,rfc_pred,average='weighted'))\n",
    "\n",
    "print( \"The recall score for random forest model is     :\", recall_score(y_test,rfc_pred,average='weighted'))\n",
    "print( \"The f1 score for random forest model is         :\", f1_score(y_test,rfc_pred,average='weighted'))\n",
    "\n",
    "print (\"The confusion matrix : \\n \", confusion_matrix(y_test,rfc_pred))"
   ]
  },
  {
   "cell_type": "markdown",
   "id": "22b4e919",
   "metadata": {},
   "source": [
    "#### Cross Validation for random forest classifier"
   ]
  },
  {
   "cell_type": "code",
   "execution_count": 118,
   "id": "774c2882",
   "metadata": {},
   "outputs": [
    {
     "data": {
      "text/plain": [
       "array([0.97535329, 0.9755318 , 0.97596782, 0.97594383, 0.97432038])"
      ]
     },
     "execution_count": 118,
     "metadata": {},
     "output_type": "execute_result"
    }
   ],
   "source": [
    "rfc = RandomForestClassifier()\n",
    "rfc_score  = cross_val_score(rfc, x_train,y_train, cv = 5, scoring  = 'f1_weighted')\n",
    "rfc_score"
   ]
  },
  {
   "cell_type": "code",
   "execution_count": 119,
   "id": "e953c6a6",
   "metadata": {},
   "outputs": [
    {
     "data": {
      "text/plain": [
       "0.9754234224365556"
      ]
     },
     "execution_count": 119,
     "metadata": {},
     "output_type": "execute_result"
    }
   ],
   "source": [
    "rfc_score.mean()"
   ]
  },
  {
   "cell_type": "markdown",
   "id": "fa832ff3",
   "metadata": {},
   "source": [
    "#### 3. Model : Gradientboost classifier"
   ]
  },
  {
   "cell_type": "code",
   "execution_count": 125,
   "id": "dc07accd",
   "metadata": {},
   "outputs": [],
   "source": [
    "\n",
    "gbc  = GradientBoostingClassifier()\n",
    "gbc.fit(x_train,y_train)\n",
    "predic = gbc.predict(x_test)"
   ]
  },
  {
   "cell_type": "code",
   "execution_count": 128,
   "id": "d94a3706",
   "metadata": {},
   "outputs": [
    {
     "name": "stdout",
     "output_type": "stream",
     "text": [
      "The accuracy score for random forest model is   : 0.9565703971119134\n",
      "The precision score for random forest model is  : 0.9564072028015913\n",
      "The recall score for random forest model is     : 0.9565703971119134\n",
      "The f1 score for random forest model is         : 0.9563902681387072\n",
      "The confusion matrix : \n",
      "  [[14606   930     0     4  1067]\n",
      " [ 1088 15362     0     0    33]\n",
      " [    0     0 16556     0     0]\n",
      " [    0     0     0 16703     0]\n",
      " [  486     1     0     0 16264]]\n"
     ]
    }
   ],
   "source": [
    "print( \"The accuracy score for random forest model is   :\",  accuracy_score(y_test,predic))\n",
    "print( \"The precision score for random forest model is  :\",  precision_score(y_test,predic,average='weighted'))\n",
    "\n",
    "print( \"The recall score for random forest model is     :\", recall_score(y_test,predic,average='weighted'))\n",
    "print( \"The f1 score for random forest model is         :\", f1_score(y_test,predic,average='weighted'))\n",
    "\n",
    "print (\"The confusion matrix : \\n \", confusion_matrix(y_test,predic))"
   ]
  },
  {
   "cell_type": "markdown",
   "id": "4e4b8ed8",
   "metadata": {},
   "source": [
    "#### Model perforamce after hyperparameter Tuning."
   ]
  },
  {
   "cell_type": "code",
   "execution_count": 129,
   "id": "4aeff9e5",
   "metadata": {},
   "outputs": [],
   "source": [
    "gb  = GradientBoostingClassifier(max_depth= 6, max_features= 0.4, n_estimators= 40)\n",
    "gb.fit(x_train, y_train)\n",
    "gb_pred = gb.predict(x_test)"
   ]
  },
  {
   "cell_type": "code",
   "execution_count": 130,
   "id": "355f72a7",
   "metadata": {
    "scrolled": true
   },
   "outputs": [
    {
     "name": "stdout",
     "output_type": "stream",
     "text": [
      "the accuracy score for Gradient Boosing calssifier model is  : 0.965812274368231\n",
      "the precision score for Gradient Boosing calssifier model is : 0.9656755144678081\n",
      "the recall score for Gradient Boosing calssifier model is    : 0.965812274368231\n",
      "the f1 score for Gradient Boosing calssifier model is        : 0.9656866631398775\n",
      "the confusion matrix for GBC model is \n",
      "  [[15108   840     0     5   654]\n",
      " [ 1125 15344     0     0    14]\n",
      " [    0     0 16556     0     0]\n",
      " [    0     0     0 16703     0]\n",
      " [  201     2     0     0 16548]]\n"
     ]
    }
   ],
   "source": [
    "print( \"the accuracy score for Gradient Boosing calssifier model is  :\",  accuracy_score(y_test, gb_pred))\n",
    "\n",
    "print( \"the precision score for Gradient Boosing calssifier model is :\",  precision_score(y_test, gb_pred,average='weighted'))\n",
    "print( \"the recall score for Gradient Boosing calssifier model is    :\",  recall_score(y_test, gb_pred,average='weighted'))\n",
    "\n",
    "print( \"the f1 score for Gradient Boosing calssifier model is        :\",  f1_score(y_test, gb_pred,average='weighted'))\n",
    "print (\"the confusion matrix for GBC model is \\n \", confusion_matrix(y_test, gb_pred))"
   ]
  },
  {
   "cell_type": "markdown",
   "id": "6098a17a",
   "metadata": {},
   "source": [
    "Gradient boosting classifier working well with great f1 score of 96.5%."
   ]
  },
  {
   "cell_type": "code",
   "execution_count": null,
   "id": "aa97366d",
   "metadata": {},
   "outputs": [],
   "source": []
  }
 ],
 "metadata": {
  "kernelspec": {
   "display_name": "Python 3 (ipykernel)",
   "language": "python",
   "name": "python3"
  },
  "language_info": {
   "codemirror_mode": {
    "name": "ipython",
    "version": 3
   },
   "file_extension": ".py",
   "mimetype": "text/x-python",
   "name": "python",
   "nbconvert_exporter": "python",
   "pygments_lexer": "ipython3",
   "version": "3.9.7"
  }
 },
 "nbformat": 4,
 "nbformat_minor": 5
}
